{
 "cells": [
  {
   "cell_type": "code",
   "execution_count": 1,
   "metadata": {
    "_cell_guid": "b1076dfc-b9ad-4769-8c92-a6c4dae69d19",
    "_uuid": "8f2839f25d086af736a60e9eeb907d3b93b6e0e5",
    "execution": {
     "iopub.execute_input": "2023-03-18T17:31:57.829169Z",
     "iopub.status.busy": "2023-03-18T17:31:57.828439Z",
     "iopub.status.idle": "2023-03-18T17:31:57.844792Z",
     "shell.execute_reply": "2023-03-18T17:31:57.843635Z",
     "shell.execute_reply.started": "2023-03-18T17:31:57.829125Z"
    }
   },
   "outputs": [
    {
     "name": "stdout",
     "output_type": "stream",
     "text": [
      "['HAM10000_metadata.csv', 'HAM10000_images_part_1', 'hmnist_8_8_L.csv', 'hmnist_28_28_RGB.csv', 'HAM10000_images_part_2', 'hmnist_8_8_RGB.csv', 'hmnist_28_28_L.csv']\n"
     ]
    }
   ],
   "source": [
    "%matplotlib inline\n",
    "# python libraties\n",
    "import os, cv2,itertools\n",
    "import matplotlib.pyplot as plt\n",
    "import numpy as np\n",
    "import pandas as pd\n",
    "from tqdm import tqdm\n",
    "from glob import glob\n",
    "from PIL import Image\n",
    "\n",
    "# pytorch libraries\n",
    "import torch\n",
    "from torch import optim,nn\n",
    "from torch.autograd import Variable\n",
    "from torch.utils.data import DataLoader,Dataset\n",
    "from torchvision import models,transforms\n",
    "\n",
    "# sklearn libraries\n",
    "from sklearn.metrics import confusion_matrix\n",
    "from sklearn.model_selection import train_test_split\n",
    "from sklearn.metrics import classification_report\n",
    "\n",
    "# to make the results are reproducible\n",
    "np.random.seed(10)\n",
    "torch.manual_seed(10)\n",
    "torch.cuda.manual_seed(10)\n",
    "\n",
    "print(os.listdir(\"dataset\"))"
   ]
  },
  {
   "cell_type": "code",
   "execution_count": 2,
   "metadata": {
    "execution": {
     "iopub.execute_input": "2023-03-18T17:31:57.847534Z",
     "iopub.status.busy": "2023-03-18T17:31:57.847063Z",
     "iopub.status.idle": "2023-03-18T17:31:57.963254Z",
     "shell.execute_reply": "2023-03-18T17:31:57.962279Z",
     "shell.execute_reply.started": "2023-03-18T17:31:57.847480Z"
    }
   },
   "outputs": [],
   "source": [
    "data_dir = 'dataset'\n",
    "all_image_path = glob(os.path.join(data_dir, '*', '*.jpg'))\n",
    "imageid_path_dict = {os.path.splitext(os.path.basename(x))[0]: x for x in all_image_path}\n",
    "lesion_type_dict = {\n",
    "    'nv': 'Melanocytic nevi',\n",
    "    'mel': 'dermatofibroma',\n",
    "    'bkl': 'Benign keratosis-like lesions ',\n",
    "    'bcc': 'Basal cell carcinoma',\n",
    "    'akiec': 'Actinic keratoses',\n",
    "    'vasc': 'Vascular lesions',\n",
    "    'df': 'Dermatofibroma'\n",
    "}"
   ]
  },
  {
   "cell_type": "code",
   "execution_count": 3,
   "metadata": {
    "execution": {
     "iopub.execute_input": "2023-03-18T17:31:57.965614Z",
     "iopub.status.busy": "2023-03-18T17:31:57.964681Z",
     "iopub.status.idle": "2023-03-18T17:31:57.974141Z",
     "shell.execute_reply": "2023-03-18T17:31:57.972742Z",
     "shell.execute_reply.started": "2023-03-18T17:31:57.965572Z"
    }
   },
   "outputs": [],
   "source": [
    "def compute_img_mean_std(image_paths):\n",
    "    \"\"\"\n",
    "        computing the mean and std of three channel on the whole dataset,\n",
    "        first we should normalize the image from 0-255 to 0-1\n",
    "    \"\"\"\n",
    "\n",
    "    img_h, img_w = 224, 224\n",
    "    imgs = []\n",
    "    means, stdevs = [], []\n",
    "\n",
    "    for i in tqdm(range(len(image_paths))):\n",
    "        img = cv2.imread(image_paths[i])\n",
    "        img = cv2.resize(img, (img_h, img_w))\n",
    "        imgs.append(img)\n",
    "\n",
    "    imgs = np.stack(imgs, axis=3)\n",
    "    print(imgs.shape)\n",
    "\n",
    "    imgs = imgs.astype(np.float32) / 255.\n",
    "\n",
    "    for i in range(3):\n",
    "        pixels = imgs[:, :, i, :].ravel()  # resize to one row\n",
    "        means.append(np.mean(pixels))\n",
    "        stdevs.append(np.std(pixels))\n",
    "\n",
    "    means.reverse()  # BGR --> RGB\n",
    "    stdevs.reverse()\n",
    "\n",
    "    print(\"normMean = {}\".format(means))\n",
    "    print(\"normStd = {}\".format(stdevs))\n",
    "    return means,stdevs"
   ]
  },
  {
   "cell_type": "code",
   "execution_count": 4,
   "metadata": {
    "execution": {
     "iopub.execute_input": "2023-03-18T17:31:57.978187Z",
     "iopub.status.busy": "2023-03-18T17:31:57.977129Z"
    }
   },
   "outputs": [
    {
     "name": "stderr",
     "output_type": "stream",
     "text": [
      "100%|████████████████████████████████████████████████████████████████████████████| 10015/10015 [01:18<00:00, 126.84it/s]\n"
     ]
    },
    {
     "name": "stdout",
     "output_type": "stream",
     "text": [
      "(224, 224, 3, 10015)\n",
      "normMean = [0.76303905, 0.54564434, 0.5700453]\n",
      "normStd = [0.14092831, 0.15261248, 0.16997118]\n"
     ]
    }
   ],
   "source": [
    "norm_mean, norm_std = compute_img_mean_std(all_image_path)"
   ]
  },
  {
   "cell_type": "code",
   "execution_count": 5,
   "metadata": {},
   "outputs": [
    {
     "data": {
      "text/html": [
       "<div>\n",
       "<style scoped>\n",
       "    .dataframe tbody tr th:only-of-type {\n",
       "        vertical-align: middle;\n",
       "    }\n",
       "\n",
       "    .dataframe tbody tr th {\n",
       "        vertical-align: top;\n",
       "    }\n",
       "\n",
       "    .dataframe thead th {\n",
       "        text-align: right;\n",
       "    }\n",
       "</style>\n",
       "<table border=\"1\" class=\"dataframe\">\n",
       "  <thead>\n",
       "    <tr style=\"text-align: right;\">\n",
       "      <th></th>\n",
       "      <th>lesion_id</th>\n",
       "      <th>image_id</th>\n",
       "      <th>dx</th>\n",
       "      <th>dx_type</th>\n",
       "      <th>age</th>\n",
       "      <th>sex</th>\n",
       "      <th>localization</th>\n",
       "      <th>path</th>\n",
       "      <th>cell_type</th>\n",
       "      <th>cell_type_idx</th>\n",
       "    </tr>\n",
       "  </thead>\n",
       "  <tbody>\n",
       "    <tr>\n",
       "      <th>0</th>\n",
       "      <td>HAM_0000118</td>\n",
       "      <td>ISIC_0027419</td>\n",
       "      <td>bkl</td>\n",
       "      <td>histo</td>\n",
       "      <td>80.0</td>\n",
       "      <td>male</td>\n",
       "      <td>scalp</td>\n",
       "      <td>dataset/HAM10000_images_part_1/ISIC_0027419.jpg</td>\n",
       "      <td>Benign keratosis-like lesions</td>\n",
       "      <td>2</td>\n",
       "    </tr>\n",
       "    <tr>\n",
       "      <th>1</th>\n",
       "      <td>HAM_0000118</td>\n",
       "      <td>ISIC_0025030</td>\n",
       "      <td>bkl</td>\n",
       "      <td>histo</td>\n",
       "      <td>80.0</td>\n",
       "      <td>male</td>\n",
       "      <td>scalp</td>\n",
       "      <td>dataset/HAM10000_images_part_1/ISIC_0025030.jpg</td>\n",
       "      <td>Benign keratosis-like lesions</td>\n",
       "      <td>2</td>\n",
       "    </tr>\n",
       "    <tr>\n",
       "      <th>2</th>\n",
       "      <td>HAM_0002730</td>\n",
       "      <td>ISIC_0026769</td>\n",
       "      <td>bkl</td>\n",
       "      <td>histo</td>\n",
       "      <td>80.0</td>\n",
       "      <td>male</td>\n",
       "      <td>scalp</td>\n",
       "      <td>dataset/HAM10000_images_part_1/ISIC_0026769.jpg</td>\n",
       "      <td>Benign keratosis-like lesions</td>\n",
       "      <td>2</td>\n",
       "    </tr>\n",
       "    <tr>\n",
       "      <th>3</th>\n",
       "      <td>HAM_0002730</td>\n",
       "      <td>ISIC_0025661</td>\n",
       "      <td>bkl</td>\n",
       "      <td>histo</td>\n",
       "      <td>80.0</td>\n",
       "      <td>male</td>\n",
       "      <td>scalp</td>\n",
       "      <td>dataset/HAM10000_images_part_1/ISIC_0025661.jpg</td>\n",
       "      <td>Benign keratosis-like lesions</td>\n",
       "      <td>2</td>\n",
       "    </tr>\n",
       "    <tr>\n",
       "      <th>4</th>\n",
       "      <td>HAM_0001466</td>\n",
       "      <td>ISIC_0031633</td>\n",
       "      <td>bkl</td>\n",
       "      <td>histo</td>\n",
       "      <td>75.0</td>\n",
       "      <td>male</td>\n",
       "      <td>ear</td>\n",
       "      <td>dataset/HAM10000_images_part_2/ISIC_0031633.jpg</td>\n",
       "      <td>Benign keratosis-like lesions</td>\n",
       "      <td>2</td>\n",
       "    </tr>\n",
       "  </tbody>\n",
       "</table>\n",
       "</div>"
      ],
      "text/plain": [
       "     lesion_id      image_id   dx dx_type   age   sex localization  \\\n",
       "0  HAM_0000118  ISIC_0027419  bkl   histo  80.0  male        scalp   \n",
       "1  HAM_0000118  ISIC_0025030  bkl   histo  80.0  male        scalp   \n",
       "2  HAM_0002730  ISIC_0026769  bkl   histo  80.0  male        scalp   \n",
       "3  HAM_0002730  ISIC_0025661  bkl   histo  80.0  male        scalp   \n",
       "4  HAM_0001466  ISIC_0031633  bkl   histo  75.0  male          ear   \n",
       "\n",
       "                                              path  \\\n",
       "0  dataset/HAM10000_images_part_1/ISIC_0027419.jpg   \n",
       "1  dataset/HAM10000_images_part_1/ISIC_0025030.jpg   \n",
       "2  dataset/HAM10000_images_part_1/ISIC_0026769.jpg   \n",
       "3  dataset/HAM10000_images_part_1/ISIC_0025661.jpg   \n",
       "4  dataset/HAM10000_images_part_2/ISIC_0031633.jpg   \n",
       "\n",
       "                        cell_type  cell_type_idx  \n",
       "0  Benign keratosis-like lesions               2  \n",
       "1  Benign keratosis-like lesions               2  \n",
       "2  Benign keratosis-like lesions               2  \n",
       "3  Benign keratosis-like lesions               2  \n",
       "4  Benign keratosis-like lesions               2  "
      ]
     },
     "execution_count": 5,
     "metadata": {},
     "output_type": "execute_result"
    }
   ],
   "source": [
    "df_original = pd.read_csv(os.path.join(data_dir, 'HAM10000_metadata.csv'))\n",
    "df_original['path'] = df_original['image_id'].map(imageid_path_dict.get)\n",
    "df_original['cell_type'] = df_original['dx'].map(lesion_type_dict.get)\n",
    "df_original['cell_type_idx'] = pd.Categorical(df_original['cell_type']).codes\n",
    "df_original.head()"
   ]
  },
  {
   "cell_type": "code",
   "execution_count": 6,
   "metadata": {},
   "outputs": [
    {
     "name": "stdout",
     "output_type": "stream",
     "text": [
      "male       5406\n",
      "female     4552\n",
      "unknown      57\n",
      "Name: sex, dtype: int64\n"
     ]
    }
   ],
   "source": [
    "# Count the number of females and males in the dataset\n",
    "gender_counts = df_original['sex'].value_counts()\n",
    "print(gender_counts)\n"
   ]
  },
  {
   "cell_type": "code",
   "execution_count": 7,
   "metadata": {},
   "outputs": [
    {
     "data": {
      "text/html": [
       "<div>\n",
       "<style scoped>\n",
       "    .dataframe tbody tr th:only-of-type {\n",
       "        vertical-align: middle;\n",
       "    }\n",
       "\n",
       "    .dataframe tbody tr th {\n",
       "        vertical-align: top;\n",
       "    }\n",
       "\n",
       "    .dataframe thead th {\n",
       "        text-align: right;\n",
       "    }\n",
       "</style>\n",
       "<table border=\"1\" class=\"dataframe\">\n",
       "  <thead>\n",
       "    <tr style=\"text-align: right;\">\n",
       "      <th></th>\n",
       "      <th>lesion_id</th>\n",
       "      <th>image_id</th>\n",
       "      <th>dx</th>\n",
       "      <th>dx_type</th>\n",
       "      <th>age</th>\n",
       "      <th>sex</th>\n",
       "      <th>localization</th>\n",
       "      <th>path</th>\n",
       "      <th>cell_type</th>\n",
       "      <th>cell_type_idx</th>\n",
       "    </tr>\n",
       "  </thead>\n",
       "  <tbody>\n",
       "    <tr>\n",
       "      <th>0</th>\n",
       "      <td>HAM_0000001</td>\n",
       "      <td>1</td>\n",
       "      <td>1</td>\n",
       "      <td>1</td>\n",
       "      <td>1</td>\n",
       "      <td>1</td>\n",
       "      <td>1</td>\n",
       "      <td>1</td>\n",
       "      <td>1</td>\n",
       "      <td>1</td>\n",
       "    </tr>\n",
       "    <tr>\n",
       "      <th>1</th>\n",
       "      <td>HAM_0000003</td>\n",
       "      <td>1</td>\n",
       "      <td>1</td>\n",
       "      <td>1</td>\n",
       "      <td>1</td>\n",
       "      <td>1</td>\n",
       "      <td>1</td>\n",
       "      <td>1</td>\n",
       "      <td>1</td>\n",
       "      <td>1</td>\n",
       "    </tr>\n",
       "    <tr>\n",
       "      <th>2</th>\n",
       "      <td>HAM_0000004</td>\n",
       "      <td>1</td>\n",
       "      <td>1</td>\n",
       "      <td>1</td>\n",
       "      <td>1</td>\n",
       "      <td>1</td>\n",
       "      <td>1</td>\n",
       "      <td>1</td>\n",
       "      <td>1</td>\n",
       "      <td>1</td>\n",
       "    </tr>\n",
       "    <tr>\n",
       "      <th>3</th>\n",
       "      <td>HAM_0000007</td>\n",
       "      <td>1</td>\n",
       "      <td>1</td>\n",
       "      <td>1</td>\n",
       "      <td>1</td>\n",
       "      <td>1</td>\n",
       "      <td>1</td>\n",
       "      <td>1</td>\n",
       "      <td>1</td>\n",
       "      <td>1</td>\n",
       "    </tr>\n",
       "    <tr>\n",
       "      <th>4</th>\n",
       "      <td>HAM_0000008</td>\n",
       "      <td>1</td>\n",
       "      <td>1</td>\n",
       "      <td>1</td>\n",
       "      <td>1</td>\n",
       "      <td>1</td>\n",
       "      <td>1</td>\n",
       "      <td>1</td>\n",
       "      <td>1</td>\n",
       "      <td>1</td>\n",
       "    </tr>\n",
       "  </tbody>\n",
       "</table>\n",
       "</div>"
      ],
      "text/plain": [
       "     lesion_id  image_id  dx  dx_type  age  sex  localization  path  \\\n",
       "0  HAM_0000001         1   1        1    1    1             1     1   \n",
       "1  HAM_0000003         1   1        1    1    1             1     1   \n",
       "2  HAM_0000004         1   1        1    1    1             1     1   \n",
       "3  HAM_0000007         1   1        1    1    1             1     1   \n",
       "4  HAM_0000008         1   1        1    1    1             1     1   \n",
       "\n",
       "   cell_type  cell_type_idx  \n",
       "0          1              1  \n",
       "1          1              1  \n",
       "2          1              1  \n",
       "3          1              1  \n",
       "4          1              1  "
      ]
     },
     "execution_count": 7,
     "metadata": {},
     "output_type": "execute_result"
    }
   ],
   "source": [
    "# this will tell us how many images are associated with each lesion_id\n",
    "df_undup = df_original.groupby('lesion_id').count()\n",
    "# now we filter out lesion_id's that have only one image associated with it\n",
    "df_undup = df_undup[df_undup['image_id'] == 1]\n",
    "df_undup.reset_index(inplace=True)\n",
    "df_undup.head()"
   ]
  },
  {
   "cell_type": "code",
   "execution_count": 8,
   "metadata": {},
   "outputs": [
    {
     "data": {
      "text/html": [
       "<div>\n",
       "<style scoped>\n",
       "    .dataframe tbody tr th:only-of-type {\n",
       "        vertical-align: middle;\n",
       "    }\n",
       "\n",
       "    .dataframe tbody tr th {\n",
       "        vertical-align: top;\n",
       "    }\n",
       "\n",
       "    .dataframe thead th {\n",
       "        text-align: right;\n",
       "    }\n",
       "</style>\n",
       "<table border=\"1\" class=\"dataframe\">\n",
       "  <thead>\n",
       "    <tr style=\"text-align: right;\">\n",
       "      <th></th>\n",
       "      <th>lesion_id</th>\n",
       "      <th>image_id</th>\n",
       "      <th>dx</th>\n",
       "      <th>dx_type</th>\n",
       "      <th>age</th>\n",
       "      <th>sex</th>\n",
       "      <th>localization</th>\n",
       "      <th>path</th>\n",
       "      <th>cell_type</th>\n",
       "      <th>cell_type_idx</th>\n",
       "      <th>duplicates</th>\n",
       "    </tr>\n",
       "  </thead>\n",
       "  <tbody>\n",
       "    <tr>\n",
       "      <th>0</th>\n",
       "      <td>HAM_0000118</td>\n",
       "      <td>ISIC_0027419</td>\n",
       "      <td>bkl</td>\n",
       "      <td>histo</td>\n",
       "      <td>80.0</td>\n",
       "      <td>male</td>\n",
       "      <td>scalp</td>\n",
       "      <td>dataset/HAM10000_images_part_1/ISIC_0027419.jpg</td>\n",
       "      <td>Benign keratosis-like lesions</td>\n",
       "      <td>2</td>\n",
       "      <td>duplicated</td>\n",
       "    </tr>\n",
       "    <tr>\n",
       "      <th>1</th>\n",
       "      <td>HAM_0000118</td>\n",
       "      <td>ISIC_0025030</td>\n",
       "      <td>bkl</td>\n",
       "      <td>histo</td>\n",
       "      <td>80.0</td>\n",
       "      <td>male</td>\n",
       "      <td>scalp</td>\n",
       "      <td>dataset/HAM10000_images_part_1/ISIC_0025030.jpg</td>\n",
       "      <td>Benign keratosis-like lesions</td>\n",
       "      <td>2</td>\n",
       "      <td>duplicated</td>\n",
       "    </tr>\n",
       "    <tr>\n",
       "      <th>2</th>\n",
       "      <td>HAM_0002730</td>\n",
       "      <td>ISIC_0026769</td>\n",
       "      <td>bkl</td>\n",
       "      <td>histo</td>\n",
       "      <td>80.0</td>\n",
       "      <td>male</td>\n",
       "      <td>scalp</td>\n",
       "      <td>dataset/HAM10000_images_part_1/ISIC_0026769.jpg</td>\n",
       "      <td>Benign keratosis-like lesions</td>\n",
       "      <td>2</td>\n",
       "      <td>duplicated</td>\n",
       "    </tr>\n",
       "    <tr>\n",
       "      <th>3</th>\n",
       "      <td>HAM_0002730</td>\n",
       "      <td>ISIC_0025661</td>\n",
       "      <td>bkl</td>\n",
       "      <td>histo</td>\n",
       "      <td>80.0</td>\n",
       "      <td>male</td>\n",
       "      <td>scalp</td>\n",
       "      <td>dataset/HAM10000_images_part_1/ISIC_0025661.jpg</td>\n",
       "      <td>Benign keratosis-like lesions</td>\n",
       "      <td>2</td>\n",
       "      <td>duplicated</td>\n",
       "    </tr>\n",
       "    <tr>\n",
       "      <th>4</th>\n",
       "      <td>HAM_0001466</td>\n",
       "      <td>ISIC_0031633</td>\n",
       "      <td>bkl</td>\n",
       "      <td>histo</td>\n",
       "      <td>75.0</td>\n",
       "      <td>male</td>\n",
       "      <td>ear</td>\n",
       "      <td>dataset/HAM10000_images_part_2/ISIC_0031633.jpg</td>\n",
       "      <td>Benign keratosis-like lesions</td>\n",
       "      <td>2</td>\n",
       "      <td>duplicated</td>\n",
       "    </tr>\n",
       "  </tbody>\n",
       "</table>\n",
       "</div>"
      ],
      "text/plain": [
       "     lesion_id      image_id   dx dx_type   age   sex localization  \\\n",
       "0  HAM_0000118  ISIC_0027419  bkl   histo  80.0  male        scalp   \n",
       "1  HAM_0000118  ISIC_0025030  bkl   histo  80.0  male        scalp   \n",
       "2  HAM_0002730  ISIC_0026769  bkl   histo  80.0  male        scalp   \n",
       "3  HAM_0002730  ISIC_0025661  bkl   histo  80.0  male        scalp   \n",
       "4  HAM_0001466  ISIC_0031633  bkl   histo  75.0  male          ear   \n",
       "\n",
       "                                              path  \\\n",
       "0  dataset/HAM10000_images_part_1/ISIC_0027419.jpg   \n",
       "1  dataset/HAM10000_images_part_1/ISIC_0025030.jpg   \n",
       "2  dataset/HAM10000_images_part_1/ISIC_0026769.jpg   \n",
       "3  dataset/HAM10000_images_part_1/ISIC_0025661.jpg   \n",
       "4  dataset/HAM10000_images_part_2/ISIC_0031633.jpg   \n",
       "\n",
       "                        cell_type  cell_type_idx  duplicates  \n",
       "0  Benign keratosis-like lesions               2  duplicated  \n",
       "1  Benign keratosis-like lesions               2  duplicated  \n",
       "2  Benign keratosis-like lesions               2  duplicated  \n",
       "3  Benign keratosis-like lesions               2  duplicated  \n",
       "4  Benign keratosis-like lesions               2  duplicated  "
      ]
     },
     "execution_count": 8,
     "metadata": {},
     "output_type": "execute_result"
    }
   ],
   "source": [
    "# here we identify lesion_id's that have duplicate images and those that have only one image.\n",
    "def get_duplicates(x):\n",
    "    unique_list = list(df_undup['lesion_id'])\n",
    "    if x in unique_list:\n",
    "        return 'unduplicated'\n",
    "    else:\n",
    "        return 'duplicated'\n",
    "\n",
    "# create a new colum that is a copy of the lesion_id column\n",
    "df_original['duplicates'] = df_original['lesion_id']\n",
    "# apply the function to this new column\n",
    "df_original['duplicates'] = df_original['duplicates'].apply(get_duplicates)\n",
    "df_original.head()"
   ]
  },
  {
   "cell_type": "code",
   "execution_count": 9,
   "metadata": {},
   "outputs": [
    {
     "data": {
      "text/plain": [
       "unduplicated    5514\n",
       "duplicated      4501\n",
       "Name: duplicates, dtype: int64"
      ]
     },
     "execution_count": 9,
     "metadata": {},
     "output_type": "execute_result"
    }
   ],
   "source": [
    "df_original['duplicates'].value_counts()"
   ]
  },
  {
   "cell_type": "code",
   "execution_count": 10,
   "metadata": {},
   "outputs": [
    {
     "data": {
      "text/plain": [
       "(5514, 11)"
      ]
     },
     "execution_count": 10,
     "metadata": {},
     "output_type": "execute_result"
    }
   ],
   "source": [
    "# now we filter out images that don't have duplicates\n",
    "df_undup = df_original[df_original['duplicates'] == 'unduplicated']\n",
    "df_undup.shape"
   ]
  },
  {
   "cell_type": "code",
   "execution_count": 11,
   "metadata": {},
   "outputs": [
    {
     "data": {
      "text/plain": [
       "((2757, 11), (2757, 11))"
      ]
     },
     "execution_count": 11,
     "metadata": {},
     "output_type": "execute_result"
    }
   ],
   "source": [
    "y = df_undup['cell_type_idx']\n",
    "df_train, df_val = train_test_split(df_undup, test_size=0.5, random_state=101, stratify=y)\n",
    "df_train.shape, df_val.shape"
   ]
  },
  {
   "cell_type": "code",
   "execution_count": 12,
   "metadata": {},
   "outputs": [
    {
     "name": "stdout",
     "output_type": "stream",
     "text": [
      "Training dataset:\n",
      "Males: 1435\n",
      "Females: 1300\n",
      "\n",
      "Validation dataset:\n",
      "Males: 1472\n",
      "Females: 1262\n"
     ]
    }
   ],
   "source": [
    "# Calculate the number of males and females in the train dataset\n",
    "train_male_count = len(df_train[df_train['sex'] == 'male'])\n",
    "train_female_count = len(df_train[df_train['sex'] == 'female'])\n",
    "\n",
    "# Calculate the number of males and females in the validation dataset\n",
    "val_male_count = len(df_val[df_val['sex'] == 'male'])\n",
    "val_female_count = len(df_val[df_val['sex'] == 'female'])\n",
    "\n",
    "print(\"Training dataset:\")\n",
    "print(f\"Males: {train_male_count}\")\n",
    "print(f\"Females: {train_female_count}\")\n",
    "\n",
    "print(\"\\nValidation dataset:\")\n",
    "print(f\"Males: {val_male_count}\")\n",
    "print(f\"Females: {val_female_count}\")\n"
   ]
  },
  {
   "cell_type": "code",
   "execution_count": 13,
   "metadata": {},
   "outputs": [
    {
     "data": {
      "text/plain": [
       "4    2208\n",
       "2     220\n",
       "6     115\n",
       "1      88\n",
       "0      75\n",
       "5      32\n",
       "3      19\n",
       "Name: cell_type_idx, dtype: int64"
      ]
     },
     "execution_count": 13,
     "metadata": {},
     "output_type": "execute_result"
    }
   ],
   "source": [
    "df_val['cell_type_idx'].value_counts()"
   ]
  },
  {
   "cell_type": "code",
   "execution_count": 14,
   "metadata": {},
   "outputs": [
    {
     "data": {
      "text/plain": [
       "4    2207\n",
       "2     220\n",
       "6     115\n",
       "1      87\n",
       "0      76\n",
       "5      32\n",
       "3      20\n",
       "Name: cell_type_idx, dtype: int64"
      ]
     },
     "execution_count": 14,
     "metadata": {},
     "output_type": "execute_result"
    }
   ],
   "source": [
    "df_train['cell_type_idx'].value_counts()"
   ]
  },
  {
   "cell_type": "code",
   "execution_count": 15,
   "metadata": {},
   "outputs": [
    {
     "name": "stdout",
     "output_type": "stream",
     "text": [
      "Training dataset: 7258\n",
      "Validation dataset: 2757\n"
     ]
    }
   ],
   "source": [
    "# This set will be df_original excluding all rows that are in the val set\n",
    "# This function identifies if an image is part of the train or val set.\n",
    "def get_val_rows(x):\n",
    "    # create a list of all the lesion_id's in the val set\n",
    "    val_list = list(df_val['image_id'])\n",
    "    if str(x) in val_list:\n",
    "        return 'val'\n",
    "    else:\n",
    "        return 'train'\n",
    "\n",
    "# identify train and val rows\n",
    "# create a new colum that is a copy of the image_id column\n",
    "df_original['train_or_val'] = df_original['image_id']\n",
    "# apply the function to this new column\n",
    "df_original['train_or_val'] = df_original['train_or_val'].apply(get_val_rows)\n",
    "# filter out train rows\n",
    "df_train = df_original[df_original['train_or_val'] == 'train']\n",
    "print(f\"Training dataset: {len(df_train)}\")\n",
    "print(f\"Validation dataset: { len(df_val)}\")"
   ]
  },
  {
   "cell_type": "code",
   "execution_count": 16,
   "metadata": {},
   "outputs": [
    {
     "name": "stdout",
     "output_type": "stream",
     "text": [
      "Training dataset:\n",
      "Males: 3934\n",
      "Females: 3290\n",
      "\n",
      "Validation dataset:\n",
      "Males: 1472\n",
      "Females: 1262\n"
     ]
    }
   ],
   "source": [
    "# Calculate the number of males and females in the train dataset\n",
    "train_male_count = len(df_train[df_train['sex'] == 'male'])\n",
    "train_female_count = len(df_train[df_train['sex'] == 'female'])\n",
    "\n",
    "# Calculate the number of males and females in the validation dataset\n",
    "val_male_count = len(df_val[df_val['sex'] == 'male'])\n",
    "val_female_count = len(df_val[df_val['sex'] == 'female'])\n",
    "\n",
    "print(\"Training dataset:\")\n",
    "print(f\"Males: {train_male_count}\")\n",
    "print(f\"Females: {train_female_count}\")\n",
    "\n",
    "print(\"\\nValidation dataset:\")\n",
    "print(f\"Males: {val_male_count}\")\n",
    "print(f\"Females: {val_female_count}\")\n"
   ]
  },
  {
   "cell_type": "code",
   "execution_count": 17,
   "metadata": {},
   "outputs": [
    {
     "data": {
      "text/plain": [
       "4    4497\n",
       "6     998\n",
       "2     879\n",
       "1     426\n",
       "0     252\n",
       "5     110\n",
       "3      96\n",
       "Name: cell_type_idx, dtype: int64"
      ]
     },
     "execution_count": 17,
     "metadata": {},
     "output_type": "execute_result"
    }
   ],
   "source": [
    "df_train['cell_type_idx'].value_counts()"
   ]
  },
  {
   "cell_type": "code",
   "execution_count": 18,
   "metadata": {},
   "outputs": [
    {
     "data": {
      "text/plain": [
       "Melanocytic nevi                  2208\n",
       "Benign keratosis-like lesions      220\n",
       "dermatofibroma                     115\n",
       "Basal cell carcinoma                88\n",
       "Actinic keratoses                   75\n",
       "Vascular lesions                    32\n",
       "Dermatofibroma                      19\n",
       "Name: cell_type, dtype: int64"
      ]
     },
     "execution_count": 18,
     "metadata": {},
     "output_type": "execute_result"
    }
   ],
   "source": [
    "df_val['cell_type'].value_counts()"
   ]
  },
  {
   "cell_type": "code",
   "execution_count": 19,
   "metadata": {},
   "outputs": [
    {
     "data": {
      "text/plain": [
       "male       3934\n",
       "female     3290\n",
       "unknown      34\n",
       "Name: sex, dtype: int64"
      ]
     },
     "execution_count": 19,
     "metadata": {},
     "output_type": "execute_result"
    }
   ],
   "source": [
    "df_train['sex'].value_counts()"
   ]
  },
  {
   "cell_type": "code",
   "execution_count": 20,
   "metadata": {},
   "outputs": [
    {
     "data": {
      "text/plain": [
       "45.0    835\n",
       "50.0    786\n",
       "55.0    686\n",
       "40.0    666\n",
       "70.0    605\n",
       "60.0    572\n",
       "65.0    567\n",
       "35.0    539\n",
       "75.0    477\n",
       "30.0    363\n",
       "80.0    312\n",
       "85.0    254\n",
       "25.0    194\n",
       "20.0    146\n",
       "15.0     74\n",
       "5.0      74\n",
       "0.0      38\n",
       "10.0     37\n",
       "Name: age, dtype: int64"
      ]
     },
     "execution_count": 20,
     "metadata": {},
     "output_type": "execute_result"
    }
   ],
   "source": [
    "df_train['age'].value_counts()"
   ]
  },
  {
   "cell_type": "code",
   "execution_count": 21,
   "metadata": {},
   "outputs": [
    {
     "data": {
      "text/plain": [
       "back               1691\n",
       "lower extremity    1461\n",
       "upper extremity     879\n",
       "trunk               803\n",
       "abdomen             674\n",
       "face                630\n",
       "chest               350\n",
       "foot                240\n",
       "unknown             141\n",
       "neck                132\n",
       "scalp               109\n",
       "hand                 66\n",
       "ear                  48\n",
       "genital              28\n",
       "acral                 6\n",
       "Name: localization, dtype: int64"
      ]
     },
     "execution_count": 21,
     "metadata": {},
     "output_type": "execute_result"
    }
   ],
   "source": [
    "df_train['localization'].value_counts()"
   ]
  },
  {
   "cell_type": "markdown",
   "metadata": {},
   "source": [
    "## Bias Mitigation: Data Augmentation (Oversampling training data)"
   ]
  },
  {
   "cell_type": "code",
   "execution_count": 22,
   "metadata": {},
   "outputs": [
    {
     "name": "stderr",
     "output_type": "stream",
     "text": [
      "/tmp/ipykernel_661580/2085359477.py:5: FutureWarning: The frame.append method is deprecated and will be removed from pandas in a future version. Use pandas.concat instead.\n",
      "  df_train=df_train.append([df_train.loc[df_train['cell_type_idx'] == i,:]]*(data_aug_rate[i]-1), ignore_index=True)\n"
     ]
    },
    {
     "data": {
      "text/plain": [
       "dermatofibroma                    4990\n",
       "Dermatofibroma                    4800\n",
       "Melanocytic nevi                  4497\n",
       "Vascular lesions                  4400\n",
       "Benign keratosis-like lesions     4395\n",
       "Basal cell carcinoma              4260\n",
       "Actinic keratoses                 3780\n",
       "Name: cell_type, dtype: int64"
      ]
     },
     "execution_count": 22,
     "metadata": {},
     "output_type": "execute_result"
    }
   ],
   "source": [
    "# # Copy fewer class to balance the number of 7 classes\n",
    "data_aug_rate = [15,10,5,50,0,40,5]\n",
    "for i in range(7):\n",
    "    if data_aug_rate[i]:\n",
    "        df_train=df_train.append([df_train.loc[df_train['cell_type_idx'] == i,:]]*(data_aug_rate[i]-1), ignore_index=True)\n",
    "df_train['cell_type'].value_counts()"
   ]
  },
  {
   "cell_type": "code",
   "execution_count": 27,
   "metadata": {},
   "outputs": [],
   "source": [
    "# split validation into val and test\n",
    "df_val, df_test = train_test_split(df_val, test_size=0.7)  \n",
    "df_train = df_train.reset_index()\n",
    "df_val = df_val.reset_index()\n",
    "df_test = df_test.reset_index()\n"
   ]
  },
  {
   "cell_type": "code",
   "execution_count": 28,
   "metadata": {},
   "outputs": [
    {
     "name": "stdout",
     "output_type": "stream",
     "text": [
      " Training dataset size: 31122\n",
      " Testing dataset size: 579\n",
      " Validation dataset size: 248\n"
     ]
    }
   ],
   "source": [
    "print(f\" Training dataset size: {len(df_train)}\")\n",
    "print(f\" Testing dataset size: {len(df_test)}\")\n",
    "print(f\" Validation dataset size: {len(df_val)}\")"
   ]
  },
  {
   "cell_type": "code",
   "execution_count": 29,
   "metadata": {},
   "outputs": [
    {
     "data": {
      "text/plain": [
       "70.0    3568\n",
       "65.0    3331\n",
       "75.0    3187\n",
       "55.0    3057\n",
       "50.0    2904\n",
       "60.0    2771\n",
       "45.0    2500\n",
       "80.0    2294\n",
       "85.0    1756\n",
       "40.0    1724\n",
       "35.0    1428\n",
       "30.0     899\n",
       "25.0     574\n",
       "20.0     318\n",
       "15.0     230\n",
       "0.0      210\n",
       "5.0      191\n",
       "10.0     115\n",
       "Name: age, dtype: int64"
      ]
     },
     "execution_count": 29,
     "metadata": {},
     "output_type": "execute_result"
    }
   ],
   "source": [
    "df_train['age'].value_counts()"
   ]
  },
  {
   "cell_type": "code",
   "execution_count": 30,
   "metadata": {},
   "outputs": [],
   "source": [
    "# Filter the test dataset based on age groups\n",
    "below_20_df = df_test[df_test['age'] <= 20].reset_index(drop=True)\n",
    "between_20_40_df = df_test[(df_test['age'] > 20) & (df_test['age'] <= 40)].reset_index(drop=True)\n",
    "between_40_60_df = df_test[(df_test['age'] > 40) & (df_test['age'] <= 60)].reset_index(drop=True)\n",
    "above_60_df = df_test[df_test['age'] > 60].reset_index(drop=True)\n"
   ]
  },
  {
   "cell_type": "code",
   "execution_count": 31,
   "metadata": {},
   "outputs": [],
   "source": [
    "# Assuming your DataFrame is called 'df' and has a column 'age' with the age of each sample\n",
    "age_bins = [0, 20, 40, 60, np.inf]\n",
    "age_group_labels = [0, 1, 2, 3]\n",
    "df_train['age_group'] = pd.cut(df_train['age'], bins=age_bins, labels=age_group_labels)\n",
    "df_val['age_group'] = pd.cut(df_train['age'], bins=age_bins, labels=age_group_labels)\n",
    "df_test['age_group'] = pd.cut(df_train['age'], bins=age_bins, labels=age_group_labels)\n",
    "\n",
    "df_train = df_train.dropna(subset=['age_group'])\n",
    "df_val = df_val.dropna(subset=['age_group'])\n",
    "df_test = df_test.dropna(subset=['age_group'])\n",
    "\n",
    "df_train = df_train.dropna(subset=['age_group']).reset_index(drop=True)\n",
    "df_val = df_val.dropna(subset=['age_group']).reset_index(drop=True)\n",
    "df_test = df_test.dropna(subset=['age_group']).reset_index(drop=True)\n",
    "\n",
    "\n"
   ]
  },
  {
   "cell_type": "code",
   "execution_count": 32,
   "metadata": {},
   "outputs": [
    {
     "name": "stdout",
     "output_type": "stream",
     "text": [
      " Training dataset size: 30847\n",
      " Testing dataset size: 577\n",
      " Validation dataset size: 246\n"
     ]
    }
   ],
   "source": [
    "print(f\" Training dataset size: {len(df_train)}\")\n",
    "print(f\" Testing dataset size: {len(df_test)}\")\n",
    "print(f\" Validation dataset size: {len(df_val)}\")"
   ]
  },
  {
   "cell_type": "code",
   "execution_count": 33,
   "metadata": {},
   "outputs": [],
   "source": [
    "# feature_extract is a boolean that defines if we are finetuning or feature extracting. \n",
    "# If feature_extract = False, the model is finetuned and all model parameters are updated. \n",
    "# If feature_extract = True, only the last layer parameters are updated, the others remain fixed.\n",
    "def set_parameter_requires_grad(model, feature_extracting):\n",
    "    if feature_extracting:\n",
    "        for param in model.parameters():\n",
    "            param.requires_grad = False"
   ]
  },
  {
   "cell_type": "code",
   "execution_count": 34,
   "metadata": {},
   "outputs": [],
   "source": [
    "# let's define the GradientReversalLayer and AgeClassifier classes:\n",
    "import torch.nn.functional as F\n",
    "\n",
    "class GradientReversalLayer(torch.autograd.Function):\n",
    "    @staticmethod\n",
    "    def forward(ctx, x):\n",
    "        return x.view_as(x)\n",
    "\n",
    "    @staticmethod\n",
    "    def backward(ctx, grad_output):\n",
    "        return -grad_output\n",
    "\n",
    "class AgeClassifier(nn.Module):\n",
    "    def __init__(self, num_classes, num_age_groups):\n",
    "        super(AgeClassifier, self).__init__()\n",
    "        self.fc = nn.Linear(num_classes, num_age_groups)\n",
    "\n",
    "    def forward(self, x):\n",
    "        x = self.fc(x)\n",
    "        return F.log_softmax(x, dim=1)\n",
    "    \n",
    "\n",
    "# import torch.nn.functional as F\n",
    "\n",
    "# class GradientReversalLayer(torch.autograd.Function):\n",
    "#     @staticmethod\n",
    "#     def forward(ctx, x):\n",
    "#         return x.view_as(x)\n",
    "\n",
    "#     @staticmethod\n",
    "#     def backward(ctx, grad_output):\n",
    "#         return -grad_output\n",
    "\n",
    "# class AgeClassifier(nn.Module):\n",
    "#     def __init__(self, num_classes, num_age_groups, hidden_size):\n",
    "#         super(AgeClassifier, self).__init__()\n",
    "#         self.fc1 = nn.Linear(num_classes, hidden_size) # Add a hidden layer\n",
    "#         self.relu = nn.ReLU() # Add a ReLU activation function\n",
    "#         self.fc2 = nn.Linear(hidden_size, num_age_groups) # Add another linear layer\n",
    "\n",
    "#     def forward(self, x):\n",
    "#         x = self.fc1(x)\n",
    "#         x = self.relu(x)\n",
    "#         x = self.fc2(x)\n",
    "#         return F.log_softmax(x, dim=1)\n",
    "\n"
   ]
  },
  {
   "cell_type": "code",
   "execution_count": 35,
   "metadata": {},
   "outputs": [],
   "source": [
    "#  let's modify the initialize_model function to add the age classifier:\n",
    "\n",
    "\n",
    "from torchvision.models import resnet18, vgg16, densenet121, inception_v3, resnet50, resnet101\n",
    "from torchvision.models.densenet import DenseNet121_Weights\n",
    "\n",
    "#def initialize_model(model_name, num_classes, num_age_groups, hidden_size, feature_extract, use_pretrained=True):\n",
    "\n",
    "def initialize_model(model_name, num_classes, num_age_groups, feature_extract, use_pretrained=True):\n",
    "\n",
    "    # Initialize these variables which will be set in this if statement. Each of these\n",
    "    #   variables is model specific.\n",
    "    model_ft = None\n",
    "    input_size = 0\n",
    "\n",
    "    if model_name == \"resnet\":\n",
    "        \"\"\" Resnet18, resnet34, resnet50, resnet101\n",
    "        \"\"\"\n",
    "        model_ft = resnet50(pretrained=use_pretrained)\n",
    "        set_parameter_requires_grad(model_ft, feature_extract)\n",
    "        num_ftrs = model_ft.fc.in_features\n",
    "        model_ft.fc = nn.Linear(num_ftrs, num_classes)\n",
    "        input_size = 224\n",
    "\n",
    "    elif model_name == \"vgg\":\n",
    "        \"\"\" VGG11_bn\n",
    "        \"\"\"\n",
    "        model_ft = vgg16_bn(pretrained=use_pretrained)\n",
    "        set_parameter_requires_grad(model_ft, feature_extract)\n",
    "        num_ftrs = model_ft.classifier[6].in_features\n",
    "        model_ft.classifier[6] = nn.Linear(num_ftrs,num_classes)\n",
    "        input_size = 224\n",
    "\n",
    "    # modified only this\n",
    "    elif model_name == \"densenet\":\n",
    "        \"\"\" Densenet121\n",
    "        \"\"\"\n",
    "        model_ft = densenet121(weights=DenseNet121_Weights.IMAGENET1K_V1 if use_pretrained else None)\n",
    "        set_parameter_requires_grad(model_ft, feature_extract)\n",
    "        num_ftrs = model_ft.classifier.in_features\n",
    "        model_ft.classifier = nn.Linear(num_ftrs, num_classes)\n",
    "        input_size = 224\n",
    "\n",
    "        #age_classifier = AgeClassifier(num_classes, num_age_groups, hidden_size)\n",
    "        age_classifier = AgeClassifier(num_classes, num_age_groups)\n",
    "\n",
    "    elif model_name == \"inception\":\n",
    "        \"\"\" Inception v3\n",
    "        Be careful, expects (299,299) sized images and has auxiliary output\n",
    "        \"\"\"\n",
    "        model_ft = inception_v3(pretrained=use_pretrained)\n",
    "        set_parameter_requires_grad(model_ft, feature_extract)\n",
    "        # Handle the auxilary net\n",
    "        num_ftrs = model_ft.AuxLogits.fc.in_features\n",
    "        model_ft.AuxLogits.fc = nn.Linear(num_ftrs, num_classes)\n",
    "        # Handle the primary net\n",
    "        num_ftrs = model_ft.fc.in_features\n",
    "        model_ft.fc = nn.Linear(num_ftrs,num_classes)\n",
    "        input_size = 299\n",
    "\n",
    "    else:\n",
    "        print(\"Invalid model name, exiting...\")\n",
    "        exit()\n",
    "\n",
    "    return model_ft, age_classifier, input_size\n",
    "\n"
   ]
  },
  {
   "cell_type": "code",
   "execution_count": 36,
   "metadata": {},
   "outputs": [],
   "source": [
    "# resnet,vgg,densenet,inception\n",
    "\n",
    "# Define the device:\n",
    "device = torch.device('cuda:4')\n",
    "\n",
    "\n",
    "model_name = 'densenet'\n",
    "num_classes = 7\n",
    "\n",
    "feature_extract = False\n",
    "\n",
    "\n",
    "# Define hidden_size\n",
    "#hidden_size = 128\n",
    "\n",
    "\n",
    "\n",
    "num_age_groups = 4  # Define the number of age groups\n",
    "\n",
    "# Add hidden_size to initialize_model function call\n",
    "#model_ft, age_classifier, input_size = initialize_model(model_name, num_classes, num_age_groups, hidden_size, feature_extract, use_pretrained=True)\n",
    "\n",
    "\n",
    "model_ft, age_classifier, input_size = initialize_model(model_name, num_classes, num_age_groups, feature_extract, use_pretrained=True)\n",
    "\n",
    "age_classifier = age_classifier.to(device)\n",
    "\n",
    "\n",
    "\n",
    "\n",
    "# Put the model on the device:\n",
    "model = model_ft.to(device)\n",
    "\n",
    "\n"
   ]
  },
  {
   "cell_type": "code",
   "execution_count": 37,
   "metadata": {},
   "outputs": [],
   "source": [
    "train_transform = transforms.Compose([transforms.Resize((224, 224)),transforms.RandomHorizontalFlip(),\n",
    "                                      transforms.RandomVerticalFlip(),transforms.RandomRotation(20),\n",
    "                                      transforms.ColorJitter(brightness=0.1, contrast=0.1, hue=0.1),\n",
    "                                        transforms.ToTensor(), transforms.Normalize([0.5, 0.5, 0.5], [0.5, 0.5, 0.5])])\n",
    "# define the transformation of the val images.\n",
    "val_transform = transforms.Compose([transforms.Resize((224, 224)), transforms.ToTensor(),\n",
    "                                    transforms.Normalize([0.5, 0.5, 0.5], [0.5, 0.5, 0.5])])\n",
    "\n",
    "# define the transformation of the val images.\n",
    "test_transform = transforms.Compose([transforms.Resize((224, 224)), transforms.ToTensor(),\n",
    "                                    transforms.Normalize([0.5, 0.5, 0.5], [0.5, 0.5, 0.5])])"
   ]
  },
  {
   "cell_type": "code",
   "execution_count": 38,
   "metadata": {},
   "outputs": [],
   "source": [
    "class HAM10000(Dataset):\n",
    "    def __init__(self, df, transform=None):\n",
    "        self.df = df\n",
    "        self.transform = transform\n",
    "\n",
    "    def __len__(self):\n",
    "        return len(self.df)\n",
    "\n",
    "    def __getitem__(self, index):\n",
    "        # Load data and get label\n",
    "        X = Image.open(self.df['path'][index])\n",
    "        y = torch.tensor(int(self.df['cell_type_idx'][index]))\n",
    "        age_group = torch.tensor(int(self.df['age_group'][index]))\n",
    "\n",
    "        if self.transform:\n",
    "            X = self.transform(X)\n",
    "\n",
    "        return X, y, age_group\n"
   ]
  },
  {
   "cell_type": "code",
   "execution_count": 39,
   "metadata": {},
   "outputs": [],
   "source": [
    "# Define the training set using the table train_df and using our defined transitions (train_transform)\n",
    "training_set = HAM10000(df_train, transform=train_transform)\n",
    "train_loader = DataLoader(training_set, batch_size=32, shuffle=True, num_workers=4)\n",
    "\n",
    "\n",
    "# transform for the validation set\n",
    "validation_set = HAM10000(df_val, transform=val_transform)\n",
    "val_loader = DataLoader(validation_set, batch_size=32, shuffle=False, num_workers=4)\n",
    "# transform for the test  set (No jitter, rotations)\n",
    "test_set = HAM10000(df_test, transform=test_transform)\n",
    "test_loader = DataLoader(test_set, batch_size=32, shuffle=False, num_workers=4)"
   ]
  },
  {
   "cell_type": "markdown",
   "metadata": {},
   "source": [
    "## Adversarial Training"
   ]
  },
  {
   "cell_type": "code",
   "execution_count": 40,
   "metadata": {},
   "outputs": [],
   "source": [
    "# for classifier training\n",
    "optimizer_age = optim.SGD(age_classifier.parameters(), lr=0.001, momentum=0.9)\n",
    "#criterion_age = nn.NLLLoss()\n",
    "criterion_age = nn.CrossEntropyLoss().to(device)\n",
    "\n",
    "\n",
    "\n",
    "\n",
    "# model training\n",
    "# we use Adam optimizer, use weighted-cross entropy loss as our loss function\n",
    "optimizer = optim.Adam(model.parameters(), lr=1e-3)\n",
    "criterion = nn.CrossEntropyLoss().to(device)\n",
    "\n"
   ]
  },
  {
   "cell_type": "code",
   "execution_count": 41,
   "metadata": {},
   "outputs": [],
   "source": [
    "class AverageMeter(object):\n",
    "    def __init__(self):\n",
    "        self.reset()\n",
    "\n",
    "    def reset(self):\n",
    "        self.val = 0\n",
    "        self.avg = 0\n",
    "        self.sum = 0\n",
    "        self.count = 0\n",
    "\n",
    "    def update(self, val, n=1):\n",
    "        self.val = val\n",
    "        self.sum += val * n\n",
    "        self.count += n\n",
    "        self.avg = self.sum / self.count"
   ]
  },
  {
   "cell_type": "code",
   "execution_count": 42,
   "metadata": {},
   "outputs": [],
   "source": [
    "def train(train_loader, model, age_classifier, criterion, criterion_age, optimizer, optimizer_age, epoch):\n",
    "    model.train()\n",
    "    age_classifier.train()\n",
    "    train_loss = AverageMeter()\n",
    "    train_acc = AverageMeter()\n",
    "    age_loss_meter = AverageMeter()\n",
    "    age_acc = AverageMeter()\n",
    "\n",
    "    curr_iter = (epoch - 1) * len(train_loader)\n",
    "    for i, data in enumerate(train_loader):\n",
    "        images, labels, age_groups = data\n",
    "        N = images.size(0)\n",
    "        images = Variable(images).to(device)\n",
    "        labels = Variable(labels).to(device)\n",
    "        age_groups = Variable(age_groups).to(device)\n",
    "\n",
    "        optimizer.zero_grad()\n",
    "        optimizer_age.zero_grad()\n",
    "\n",
    "        # Compute the model output and the age classifier output\n",
    "        outputs = model(images)\n",
    "        age_outputs = age_classifier(GradientReversalLayer.apply(outputs))\n",
    "\n",
    "        # Compute the classification loss and the adversarial loss\n",
    "        loss = criterion(outputs, labels)\n",
    "        age_loss = criterion_age(age_outputs, age_groups)\n",
    "        total_loss = loss + 0.05 * age_loss   # alpha (adversarial loss)\n",
    "\n",
    "        total_loss.backward()\n",
    "        optimizer.step()\n",
    "        optimizer_age.step()\n",
    "\n",
    "        prediction = outputs.max(1, keepdim=True)[1]\n",
    "        train_acc.update(prediction.eq(labels.view_as(prediction)).sum().item()/N)\n",
    "        train_loss.update(loss.item())\n",
    "        \n",
    "        age_prediction = age_outputs.max(1, keepdim=True)[1]\n",
    "        age_acc_value = age_prediction.eq(age_groups.view_as(age_prediction)).sum().item()/N\n",
    "        age_acc.update(age_acc_value)\n",
    "        age_loss_meter.update(age_loss.item())\n",
    "\n",
    "        curr_iter += 1\n",
    "    \n",
    "    print('[epoch %d], [train loss %.5f], [train acc %.5f], [age loss %.5f], [age acc %.5f]' % (\n",
    "        epoch, train_loss.avg, train_acc.avg, age_loss_meter.avg, age_acc.avg))\n",
    "    total_loss_train.append(train_loss.avg)\n",
    "    total_acc_train.append(train_acc.avg)\n",
    "    return train_loss.avg, train_acc.avg, age_loss_meter.avg, age_acc.avg\n",
    "\n",
    "\n",
    "\n"
   ]
  },
  {
   "cell_type": "code",
   "execution_count": 43,
   "metadata": {},
   "outputs": [],
   "source": [
    "def validate(val_loader, model, age_classifier, criterion, criterion_age, optimizer, optimizer_age, epoch):\n",
    "    model.eval()\n",
    "    age_classifier.eval()\n",
    "    val_loss = AverageMeter()\n",
    "    val_acc = AverageMeter()\n",
    "    age_loss_meter = AverageMeter()\n",
    "    age_acc = AverageMeter()\n",
    "\n",
    "    with torch.no_grad():\n",
    "        for i, data in enumerate(val_loader):\n",
    "            images, labels, age_groups = data\n",
    "            N = images.size(0)\n",
    "            images = Variable(images).to(device)\n",
    "            labels = Variable(labels).to(device)\n",
    "            age_groups = Variable(age_groups).to(device)\n",
    "\n",
    "            outputs = model(images)\n",
    "            prediction = outputs.max(1, keepdim=True)[1]\n",
    "            age_outputs = age_classifier(GradientReversalLayer.apply(outputs))\n",
    "            age_prediction = age_outputs.max(1, keepdim=True)[1]\n",
    "\n",
    "            val_acc.update(prediction.eq(labels.view_as(prediction)).sum().item()/N)\n",
    "            val_loss.update(criterion(outputs, labels).item())\n",
    "            age_loss_meter.update(criterion_age(age_outputs, age_groups).item())\n",
    "            age_acc.update(age_prediction.eq(age_groups.view_as(age_prediction)).sum().item()/N)\n",
    "\n",
    "    print('------------------------------------------------------------')\n",
    "    print('[epoch %d], [val loss %.5f], [val acc %.5f], [age val loss %.5f], [age val acc %.5f]' % (epoch, val_loss.avg, val_acc.avg, age_loss_meter.avg, age_acc.avg))\n",
    "    print('------------------------------------------------------------')\n",
    "    return val_loss.avg, val_acc.avg, age_loss_meter.avg, age_acc.avg\n"
   ]
  },
  {
   "cell_type": "code",
   "execution_count": 69,
   "metadata": {
    "scrolled": true
   },
   "outputs": [
    {
     "name": "stdout",
     "output_type": "stream",
     "text": [
      "[epoch 1], [train loss 0.88438], [train acc 0.66872], [age loss 1.64797], [age acc 0.32308]\n",
      "------------------------------------------------------------\n",
      "[epoch 1], [val loss 0.53104], [val acc 0.81533], [age val loss 1.31907], [age val acc 0.31674]\n",
      "------------------------------------------------------------\n",
      "*****************************************************\n",
      "best record: [epoch 1], [val loss 0.53104], [val acc 0.81533]\n",
      "*****************************************************\n",
      "[epoch 2], [train loss 0.58551], [train acc 0.77816], [age loss 1.28586], [age acc 0.43463]\n",
      "------------------------------------------------------------\n",
      "[epoch 2], [val loss 0.41310], [val acc 0.87302], [age val loss 1.41809], [age val acc 0.29270]\n",
      "------------------------------------------------------------\n",
      "*****************************************************\n",
      "best record: [epoch 2], [val loss 0.41310], [val acc 0.87302]\n",
      "*****************************************************\n",
      "[epoch 3], [train loss 0.47054], [train acc 0.81768], [age loss 1.21503], [age acc 0.47626]\n",
      "------------------------------------------------------------\n",
      "[epoch 3], [val loss 0.91173], [val acc 0.73388], [age val loss 1.25513], [age val acc 0.41382]\n",
      "------------------------------------------------------------\n",
      "[epoch 4], [train loss 0.39846], [train acc 0.84722], [age loss 1.17943], [age acc 0.49399]\n",
      "------------------------------------------------------------\n",
      "[epoch 4], [val loss 0.41806], [val acc 0.85485], [age val loss 1.23522], [age val acc 0.39911]\n",
      "------------------------------------------------------------\n",
      "[epoch 5], [train loss 0.34372], [train acc 0.86475], [age loss 1.16942], [age acc 0.48491]\n",
      "------------------------------------------------------------\n",
      "[epoch 5], [val loss 0.47045], [val acc 0.84297], [age val loss 1.10690], [age val acc 0.43276]\n",
      "------------------------------------------------------------\n",
      "[epoch 6], [train loss 0.30176], [train acc 0.88213], [age loss 1.15027], [age acc 0.47742]\n",
      "------------------------------------------------------------\n",
      "[epoch 6], [val loss 0.55226], [val acc 0.84057], [age val loss 1.07510], [age val acc 0.42944]\n",
      "------------------------------------------------------------\n",
      "[epoch 7], [train loss 0.28332], [train acc 0.89325], [age loss 1.14063], [age acc 0.47327]\n",
      "------------------------------------------------------------\n",
      "[epoch 7], [val loss 0.41365], [val acc 0.87033], [age val loss 1.14991], [age val acc 0.41954]\n",
      "------------------------------------------------------------\n",
      "[epoch 8], [train loss 0.22983], [train acc 0.91065], [age loss 1.13472], [age acc 0.47165]\n",
      "------------------------------------------------------------\n",
      "[epoch 8], [val loss 0.48817], [val acc 0.86072], [age val loss 1.04317], [age val acc 0.46444]\n",
      "------------------------------------------------------------\n",
      "[epoch 9], [train loss 0.21080], [train acc 0.91814], [age loss 1.13700], [age acc 0.45441]\n",
      "------------------------------------------------------------\n",
      "[epoch 9], [val loss 0.51337], [val acc 0.85230], [age val loss 1.00557], [age val acc 0.52079]\n",
      "------------------------------------------------------------\n",
      "[epoch 10], [train loss 0.19188], [train acc 0.92673], [age loss 1.13830], [age acc 0.44718]\n",
      "------------------------------------------------------------\n",
      "[epoch 10], [val loss 0.41952], [val acc 0.89331], [age val loss 1.02609], [age val acc 0.50410]\n",
      "------------------------------------------------------------\n",
      "*****************************************************\n",
      "best record: [epoch 10], [val loss 0.41952], [val acc 0.89331]\n",
      "*****************************************************\n",
      "[epoch 11], [train loss 0.22120], [train acc 0.91798], [age loss 1.12827], [age acc 0.46004]\n",
      "------------------------------------------------------------\n",
      "[epoch 11], [val loss 0.71936], [val acc 0.80239], [age val loss 1.02850], [age val acc 0.42449]\n",
      "------------------------------------------------------------\n",
      "[epoch 12], [train loss 0.18379], [train acc 0.93101], [age loss 1.11753], [age acc 0.47220]\n",
      "------------------------------------------------------------\n",
      "[epoch 12], [val loss 0.58148], [val acc 0.87755], [age val loss 0.98261], [age val acc 0.56448]\n",
      "------------------------------------------------------------\n",
      "[epoch 13], [train loss 0.13789], [train acc 0.94768], [age loss 1.12733], [age acc 0.45265]\n",
      "------------------------------------------------------------\n",
      "[epoch 13], [val loss 0.49790], [val acc 0.88610], [age val loss 0.97252], [age val acc 0.57395]\n",
      "------------------------------------------------------------\n",
      "[epoch 14], [train loss 0.15400], [train acc 0.94262], [age loss 1.12604], [age acc 0.45074]\n",
      "------------------------------------------------------------\n",
      "[epoch 14], [val loss 0.55435], [val acc 0.87514], [age val loss 1.01040], [age val acc 0.50650]\n",
      "------------------------------------------------------------\n",
      "[epoch 15], [train loss 0.13462], [train acc 0.94923], [age loss 1.11659], [age acc 0.46542]\n",
      "------------------------------------------------------------\n",
      "[epoch 15], [val loss 0.53959], [val acc 0.88023], [age val loss 0.99647], [age val acc 0.47179]\n",
      "------------------------------------------------------------\n",
      "[epoch 16], [train loss 0.11915], [train acc 0.95533], [age loss 1.12043], [age acc 0.45197]\n",
      "------------------------------------------------------------\n",
      "[epoch 16], [val loss 0.47970], [val acc 0.88249], [age val loss 0.97461], [age val acc 0.57395]\n",
      "------------------------------------------------------------\n",
      "[epoch 17], [train loss 0.11044], [train acc 0.95899], [age loss 1.12340], [age acc 0.44883]\n",
      "------------------------------------------------------------\n",
      "[epoch 17], [val loss 0.60800], [val acc 0.87917], [age val loss 0.97402], [age val acc 0.56420]\n",
      "------------------------------------------------------------\n",
      "[epoch 18], [train loss 0.11409], [train acc 0.95721], [age loss 1.12287], [age acc 0.45349]\n",
      "------------------------------------------------------------\n",
      "[epoch 18], [val loss 0.51564], [val acc 0.87995], [age val loss 0.96947], [age val acc 0.57636]\n",
      "------------------------------------------------------------\n",
      "[epoch 19], [train loss 0.09702], [train acc 0.96450], [age loss 1.12345], [age acc 0.45275]\n",
      "------------------------------------------------------------\n",
      "[epoch 19], [val loss 0.71494], [val acc 0.85365], [age val loss 0.98183], [age val acc 0.55713]\n",
      "------------------------------------------------------------\n",
      "[epoch 20], [train loss 0.11304], [train acc 0.95993], [age loss 1.12158], [age acc 0.45200]\n",
      "------------------------------------------------------------\n",
      "[epoch 20], [val loss 0.59065], [val acc 0.88355], [age val loss 1.03649], [age val acc 0.45376]\n",
      "------------------------------------------------------------\n",
      "[epoch 21], [train loss 0.08943], [train acc 0.96629], [age loss 1.11577], [age acc 0.45810]\n",
      "------------------------------------------------------------\n",
      "[epoch 21], [val loss 0.63052], [val acc 0.86673], [age val loss 0.97097], [age val acc 0.57275]\n",
      "------------------------------------------------------------\n",
      "[epoch 22], [train loss 0.16064], [train acc 0.94933], [age loss 1.10105], [age acc 0.46533]\n",
      "------------------------------------------------------------\n",
      "[epoch 22], [val loss 0.53124], [val acc 0.89345], [age val loss 1.05105], [age val acc 0.44839]\n",
      "------------------------------------------------------------\n",
      "*****************************************************\n",
      "best record: [epoch 22], [val loss 0.53124], [val acc 0.89345]\n",
      "*****************************************************\n",
      "[epoch 23], [train loss 0.07782], [train acc 0.97125], [age loss 1.10916], [age acc 0.45479]\n",
      "------------------------------------------------------------\n",
      "[epoch 23], [val loss 0.61061], [val acc 0.89465], [age val loss 0.97633], [age val acc 0.56780]\n",
      "------------------------------------------------------------\n",
      "*****************************************************\n",
      "best record: [epoch 23], [val loss 0.61061], [val acc 0.89465]\n",
      "*****************************************************\n",
      "[epoch 24], [train loss 0.10826], [train acc 0.96149], [age loss 1.10272], [age acc 0.46556]\n",
      "------------------------------------------------------------\n",
      "[epoch 24], [val loss 0.54007], [val acc 0.89331], [age val loss 1.08346], [age val acc 0.40887]\n",
      "------------------------------------------------------------\n"
     ]
    },
    {
     "name": "stdout",
     "output_type": "stream",
     "text": [
      "[epoch 25], [train loss 0.06764], [train acc 0.97394], [age loss 1.10239], [age acc 0.46235]\n",
      "------------------------------------------------------------\n",
      "[epoch 25], [val loss 0.56028], [val acc 0.88504], [age val loss 1.00528], [age val acc 0.57756]\n",
      "------------------------------------------------------------\n"
     ]
    }
   ],
   "source": [
    "epoch_num = 25\n",
    "best_val_acc = 0\n",
    "\n",
    "total_loss_train, total_acc_train, total_age_loss_train, total_age_acc_train = [], [], [], []\n",
    "total_loss_val, total_acc_val , total_age_loss_val, total_age_acc_val= [], [], [],[]\n",
    "\n",
    "for epoch in range(1, epoch_num+1):\n",
    "    # Train the model and the age classifier\n",
    "    loss_train, acc_train, age_loss_train, age_acc_train = train(train_loader, model, age_classifier, criterion, criterion_age, optimizer, optimizer_age, epoch)\n",
    "    \n",
    "    # Validate the model and the age classifier\n",
    "    loss_val, acc_val, loss_val_age, acc_val_age = validate(val_loader, model, age_classifier, criterion, criterion_age, optimizer, optimizer_age, epoch)\n",
    "    \n",
    "    total_loss_train.append(loss_train)\n",
    "    total_acc_train.append(acc_train)\n",
    "    total_age_loss_train.append(age_loss_train)\n",
    "    total_age_acc_train.append(age_acc_train)\n",
    "    \n",
    "    total_loss_val.append(loss_val)\n",
    "    total_acc_val.append(acc_val)\n",
    "    total_loss_val.append(loss_val)\n",
    "    total_acc_val.append(acc_val)\n",
    "    \n",
    "        \n",
    "    if acc_val > best_val_acc:\n",
    "        best_val_acc = acc_val\n",
    "        torch.save(model.state_dict(), \"adversarial_learning_skin_lesion.pt\")\n",
    "        torch.save(age_classifier.state_dict(), \"age_classifier_skin_lesion.pt\")\n",
    "        print('*****************************************************')\n",
    "        print('best record: [epoch %d], [val loss %.5f], [val acc %.5f]' % (epoch, loss_val, acc_val))\n",
    "        print('*****************************************************')\n",
    "    \n"
   ]
  },
  {
   "cell_type": "code",
   "execution_count": 70,
   "metadata": {},
   "outputs": [
    {
     "data": {
      "image/png": "[encoded data removed]",
      "text/plain": [
       "<Figure size 640x480 with 1 Axes>"
      ]
     },
     "metadata": {},
     "output_type": "display_data"
    },
    {
     "data": {
      "image/png": "[encoded data removed]",
      "text/plain": [
       "<Figure size 640x480 with 1 Axes>"
      ]
     },
     "metadata": {},
     "output_type": "display_data"
    }
   ],
   "source": [
    "\n",
    "\n",
    "plt.plot(total_loss_train, label='Train')\n",
    "plt.plot(total_loss_val, label='Validation')\n",
    "plt.title('Loss')\n",
    "plt.xlabel('Epoch')\n",
    "plt.ylabel('Loss')\n",
    "plt.legend()\n",
    "plt.grid()\n",
    "plt.show()\n",
    "\n",
    "# Plot the training and validation accuracy\n",
    "plt.plot(total_acc_train, label='Train')\n",
    "plt.plot(total_acc_val, label='Validation')\n",
    "plt.title('Accuracy')\n",
    "plt.xlabel('Epoch')\n",
    "plt.ylabel('Accuracy')\n",
    "plt.legend()\n",
    "plt.grid()\n",
    "plt.show()\n",
    "\n"
   ]
  },
  {
   "cell_type": "code",
   "execution_count": null,
   "metadata": {},
   "outputs": [],
   "source": []
  },
  {
   "cell_type": "code",
   "execution_count": null,
   "metadata": {},
   "outputs": [],
   "source": []
  },
  {
   "cell_type": "code",
   "execution_count": 49,
   "metadata": {},
   "outputs": [],
   "source": [
    "def plot_confusion_matrix(cm, classes,\n",
    "                          normalize=False,\n",
    "                          title='Confusion matrix',\n",
    "                          cmap=plt.cm.Blues):\n",
    "    \"\"\"\n",
    "    This function prints and plots the confusion matrix.\n",
    "    Normalization can be applied by setting `normalize=True`.\n",
    "    \"\"\"\n",
    "    plt.imshow(cm, interpolation='nearest', cmap=cmap)\n",
    "    plt.title(title)\n",
    "    plt.colorbar()\n",
    "    tick_marks = np.arange(len(classes))\n",
    "    plt.xticks(tick_marks, classes, rotation=45)\n",
    "    plt.yticks(tick_marks, classes)\n",
    "\n",
    "    if normalize:\n",
    "        cm = cm.astype('float') / cm.sum(axis=1)[:, np.newaxis]\n",
    "\n",
    "    thresh = cm.max() / 2.\n",
    "    for i, j in itertools.product(range(cm.shape[0]), range(cm.shape[1])):\n",
    "        plt.text(j, i, cm[i, j],\n",
    "                 horizontalalignment=\"center\",\n",
    "                 color=\"white\" if cm[i, j] > thresh else \"black\")\n",
    "\n",
    "    plt.tight_layout()\n",
    "    plt.ylabel('True label')\n",
    "    plt.xlabel('Predicted label')"
   ]
  },
  {
   "cell_type": "code",
   "execution_count": 76,
   "metadata": {},
   "outputs": [
    {
     "data": {
      "image/png": "[encoded data removed]",
      "text/plain": [
       "<Figure size 640x480 with 2 Axes>"
      ]
     },
     "metadata": {},
     "output_type": "display_data"
    }
   ],
   "source": [
    "# Load saved state dict of trained model\n",
    "\n",
    "\n",
    "\n",
    "state_dict = torch.load('adversarial_learning_skin_lesion.pt')\n",
    "model.load_state_dict(state_dict)\n",
    "\n",
    "\n",
    "model.eval()\n",
    "y_label = []\n",
    "y_predict = []\n",
    "with torch.no_grad():\n",
    "    for i, data in enumerate(test_loader):\n",
    "        images, labels, _ = data  # add \"_\" to unpack the age_groups\n",
    "        N = images.size(0)\n",
    "        images = Variable(images).to(device)\n",
    "        outputs = model(images)\n",
    "        prediction = outputs.max(1, keepdim=True)[1]\n",
    "        y_label.extend(labels.cpu().numpy())\n",
    "        y_predict.extend(np.squeeze(prediction.cpu().numpy().T))\n",
    "\n",
    "# compute the confusion matrix\n",
    "confusion_mtx = confusion_matrix(y_label, y_predict)\n",
    "# plot the confusion matrix\n",
    "plot_labels = ['akiec', 'bcc', 'bkl', 'df', 'nv', 'vasc','mel']\n",
    "plot_confusion_matrix(confusion_mtx, plot_labels)"
   ]
  },
  {
   "cell_type": "code",
   "execution_count": 77,
   "metadata": {},
   "outputs": [
    {
     "name": "stdout",
     "output_type": "stream",
     "text": [
      "              precision    recall  f1-score   support\n",
      "\n",
      "       akiec       0.79      0.61      0.69        51\n",
      "         bcc       0.89      0.82      0.85        60\n",
      "         bkl       0.73      0.57      0.64       149\n",
      "          df       0.82      0.75      0.78        12\n",
      "          nv       0.96      0.97      0.96      1551\n",
      "        vasc       0.95      0.91      0.93        22\n",
      "         mel       0.48      0.68      0.56        73\n",
      "\n",
      "    accuracy                           0.91      1918\n",
      "   macro avg       0.80      0.76      0.77      1918\n",
      "weighted avg       0.91      0.91      0.91      1918\n",
      "\n"
     ]
    }
   ],
   "source": [
    "# Generate a classification report\n",
    "report = classification_report(y_label, y_predict, target_names=plot_labels)\n",
    "print(report)"
   ]
  },
  {
   "cell_type": "markdown",
   "metadata": {},
   "source": [
    "## Bias Investigation"
   ]
  },
  {
   "cell_type": "markdown",
   "metadata": {},
   "source": [
    "### 2. Gender"
   ]
  },
  {
   "cell_type": "code",
   "execution_count": 79,
   "metadata": {},
   "outputs": [
    {
     "data": {
      "text/html": [
       "<div>\n",
       "<style scoped>\n",
       "    .dataframe tbody tr th:only-of-type {\n",
       "        vertical-align: middle;\n",
       "    }\n",
       "\n",
       "    .dataframe tbody tr th {\n",
       "        vertical-align: top;\n",
       "    }\n",
       "\n",
       "    .dataframe thead th {\n",
       "        text-align: right;\n",
       "    }\n",
       "</style>\n",
       "<table border=\"1\" class=\"dataframe\">\n",
       "  <thead>\n",
       "    <tr style=\"text-align: right;\">\n",
       "      <th></th>\n",
       "      <th>index</th>\n",
       "      <th>lesion_id</th>\n",
       "      <th>image_id</th>\n",
       "      <th>dx</th>\n",
       "      <th>dx_type</th>\n",
       "      <th>age</th>\n",
       "      <th>sex</th>\n",
       "      <th>localization</th>\n",
       "      <th>path</th>\n",
       "      <th>cell_type</th>\n",
       "      <th>cell_type_idx</th>\n",
       "      <th>duplicates</th>\n",
       "      <th>age_group</th>\n",
       "    </tr>\n",
       "  </thead>\n",
       "  <tbody>\n",
       "    <tr>\n",
       "      <th>0</th>\n",
       "      <td>1047</td>\n",
       "      <td>HAM_0000453</td>\n",
       "      <td>ISIC_0025330</td>\n",
       "      <td>bkl</td>\n",
       "      <td>consensus</td>\n",
       "      <td>50.0</td>\n",
       "      <td>female</td>\n",
       "      <td>lower extremity</td>\n",
       "      <td>dataset/HAM10000_images_part_1/ISIC_0025330.jpg</td>\n",
       "      <td>Benign keratosis-like lesions</td>\n",
       "      <td>2</td>\n",
       "      <td>unduplicated</td>\n",
       "      <td>3</td>\n",
       "    </tr>\n",
       "    <tr>\n",
       "      <th>1</th>\n",
       "      <td>2211</td>\n",
       "      <td>HAM_0006955</td>\n",
       "      <td>ISIC_0025105</td>\n",
       "      <td>mel</td>\n",
       "      <td>histo</td>\n",
       "      <td>65.0</td>\n",
       "      <td>male</td>\n",
       "      <td>back</td>\n",
       "      <td>dataset/HAM10000_images_part_1/ISIC_0025105.jpg</td>\n",
       "      <td>dermatofibroma</td>\n",
       "      <td>6</td>\n",
       "      <td>unduplicated</td>\n",
       "      <td>3</td>\n",
       "    </tr>\n",
       "    <tr>\n",
       "      <th>2</th>\n",
       "      <td>6590</td>\n",
       "      <td>HAM_0006073</td>\n",
       "      <td>ISIC_0025761</td>\n",
       "      <td>nv</td>\n",
       "      <td>follow_up</td>\n",
       "      <td>65.0</td>\n",
       "      <td>female</td>\n",
       "      <td>lower extremity</td>\n",
       "      <td>dataset/HAM10000_images_part_1/ISIC_0025761.jpg</td>\n",
       "      <td>Melanocytic nevi</td>\n",
       "      <td>4</td>\n",
       "      <td>unduplicated</td>\n",
       "      <td>3</td>\n",
       "    </tr>\n",
       "    <tr>\n",
       "      <th>3</th>\n",
       "      <td>6588</td>\n",
       "      <td>HAM_0002249</td>\n",
       "      <td>ISIC_0029520</td>\n",
       "      <td>nv</td>\n",
       "      <td>follow_up</td>\n",
       "      <td>65.0</td>\n",
       "      <td>female</td>\n",
       "      <td>trunk</td>\n",
       "      <td>dataset/HAM10000_images_part_2/ISIC_0029520.jpg</td>\n",
       "      <td>Melanocytic nevi</td>\n",
       "      <td>4</td>\n",
       "      <td>unduplicated</td>\n",
       "      <td>3</td>\n",
       "    </tr>\n",
       "    <tr>\n",
       "      <th>4</th>\n",
       "      <td>5296</td>\n",
       "      <td>HAM_0004353</td>\n",
       "      <td>ISIC_0029262</td>\n",
       "      <td>nv</td>\n",
       "      <td>follow_up</td>\n",
       "      <td>55.0</td>\n",
       "      <td>female</td>\n",
       "      <td>face</td>\n",
       "      <td>dataset/HAM10000_images_part_1/ISIC_0029262.jpg</td>\n",
       "      <td>Melanocytic nevi</td>\n",
       "      <td>4</td>\n",
       "      <td>unduplicated</td>\n",
       "      <td>3</td>\n",
       "    </tr>\n",
       "  </tbody>\n",
       "</table>\n",
       "</div>"
      ],
      "text/plain": [
       "   index    lesion_id      image_id   dx    dx_type   age     sex  \\\n",
       "0   1047  HAM_0000453  ISIC_0025330  bkl  consensus  50.0  female   \n",
       "1   2211  HAM_0006955  ISIC_0025105  mel      histo  65.0    male   \n",
       "2   6590  HAM_0006073  ISIC_0025761   nv  follow_up  65.0  female   \n",
       "3   6588  HAM_0002249  ISIC_0029520   nv  follow_up  65.0  female   \n",
       "4   5296  HAM_0004353  ISIC_0029262   nv  follow_up  55.0  female   \n",
       "\n",
       "      localization                                             path  \\\n",
       "0  lower extremity  dataset/HAM10000_images_part_1/ISIC_0025330.jpg   \n",
       "1             back  dataset/HAM10000_images_part_1/ISIC_0025105.jpg   \n",
       "2  lower extremity  dataset/HAM10000_images_part_1/ISIC_0025761.jpg   \n",
       "3            trunk  dataset/HAM10000_images_part_2/ISIC_0029520.jpg   \n",
       "4             face  dataset/HAM10000_images_part_1/ISIC_0029262.jpg   \n",
       "\n",
       "                        cell_type  cell_type_idx    duplicates age_group  \n",
       "0  Benign keratosis-like lesions               2  unduplicated         3  \n",
       "1                  dermatofibroma              6  unduplicated         3  \n",
       "2                Melanocytic nevi              4  unduplicated         3  \n",
       "3                Melanocytic nevi              4  unduplicated         3  \n",
       "4                Melanocytic nevi              4  unduplicated         3  "
      ]
     },
     "execution_count": 79,
     "metadata": {},
     "output_type": "execute_result"
    }
   ],
   "source": [
    "df_test.head()"
   ]
  },
  {
   "cell_type": "code",
   "execution_count": 80,
   "metadata": {},
   "outputs": [],
   "source": [
    "\n",
    "male_df_test = df_test[df_test['sex'] == 'male']\n",
    "female_df_test = df_test[df_test['sex'] == 'female']\n",
    "        "
   ]
  },
  {
   "cell_type": "code",
   "execution_count": 81,
   "metadata": {},
   "outputs": [
    {
     "data": {
      "text/html": [
       "<div>\n",
       "<style scoped>\n",
       "    .dataframe tbody tr th:only-of-type {\n",
       "        vertical-align: middle;\n",
       "    }\n",
       "\n",
       "    .dataframe tbody tr th {\n",
       "        vertical-align: top;\n",
       "    }\n",
       "\n",
       "    .dataframe thead th {\n",
       "        text-align: right;\n",
       "    }\n",
       "</style>\n",
       "<table border=\"1\" class=\"dataframe\">\n",
       "  <thead>\n",
       "    <tr style=\"text-align: right;\">\n",
       "      <th></th>\n",
       "      <th>level_0</th>\n",
       "      <th>index</th>\n",
       "      <th>lesion_id</th>\n",
       "      <th>image_id</th>\n",
       "      <th>dx</th>\n",
       "      <th>dx_type</th>\n",
       "      <th>age</th>\n",
       "      <th>sex</th>\n",
       "      <th>localization</th>\n",
       "      <th>path</th>\n",
       "      <th>cell_type</th>\n",
       "      <th>cell_type_idx</th>\n",
       "      <th>duplicates</th>\n",
       "      <th>age_group</th>\n",
       "    </tr>\n",
       "  </thead>\n",
       "  <tbody>\n",
       "    <tr>\n",
       "      <th>0</th>\n",
       "      <td>0</td>\n",
       "      <td>1047</td>\n",
       "      <td>HAM_0000453</td>\n",
       "      <td>ISIC_0025330</td>\n",
       "      <td>bkl</td>\n",
       "      <td>consensus</td>\n",
       "      <td>50.0</td>\n",
       "      <td>female</td>\n",
       "      <td>lower extremity</td>\n",
       "      <td>dataset/HAM10000_images_part_1/ISIC_0025330.jpg</td>\n",
       "      <td>Benign keratosis-like lesions</td>\n",
       "      <td>2</td>\n",
       "      <td>unduplicated</td>\n",
       "      <td>3</td>\n",
       "    </tr>\n",
       "    <tr>\n",
       "      <th>1</th>\n",
       "      <td>2</td>\n",
       "      <td>6590</td>\n",
       "      <td>HAM_0006073</td>\n",
       "      <td>ISIC_0025761</td>\n",
       "      <td>nv</td>\n",
       "      <td>follow_up</td>\n",
       "      <td>65.0</td>\n",
       "      <td>female</td>\n",
       "      <td>lower extremity</td>\n",
       "      <td>dataset/HAM10000_images_part_1/ISIC_0025761.jpg</td>\n",
       "      <td>Melanocytic nevi</td>\n",
       "      <td>4</td>\n",
       "      <td>unduplicated</td>\n",
       "      <td>3</td>\n",
       "    </tr>\n",
       "    <tr>\n",
       "      <th>2</th>\n",
       "      <td>3</td>\n",
       "      <td>6588</td>\n",
       "      <td>HAM_0002249</td>\n",
       "      <td>ISIC_0029520</td>\n",
       "      <td>nv</td>\n",
       "      <td>follow_up</td>\n",
       "      <td>65.0</td>\n",
       "      <td>female</td>\n",
       "      <td>trunk</td>\n",
       "      <td>dataset/HAM10000_images_part_2/ISIC_0029520.jpg</td>\n",
       "      <td>Melanocytic nevi</td>\n",
       "      <td>4</td>\n",
       "      <td>unduplicated</td>\n",
       "      <td>3</td>\n",
       "    </tr>\n",
       "    <tr>\n",
       "      <th>3</th>\n",
       "      <td>4</td>\n",
       "      <td>5296</td>\n",
       "      <td>HAM_0004353</td>\n",
       "      <td>ISIC_0029262</td>\n",
       "      <td>nv</td>\n",
       "      <td>follow_up</td>\n",
       "      <td>55.0</td>\n",
       "      <td>female</td>\n",
       "      <td>face</td>\n",
       "      <td>dataset/HAM10000_images_part_1/ISIC_0029262.jpg</td>\n",
       "      <td>Melanocytic nevi</td>\n",
       "      <td>4</td>\n",
       "      <td>unduplicated</td>\n",
       "      <td>3</td>\n",
       "    </tr>\n",
       "    <tr>\n",
       "      <th>4</th>\n",
       "      <td>5</td>\n",
       "      <td>2447</td>\n",
       "      <td>HAM_0006138</td>\n",
       "      <td>ISIC_0026713</td>\n",
       "      <td>vasc</td>\n",
       "      <td>consensus</td>\n",
       "      <td>35.0</td>\n",
       "      <td>female</td>\n",
       "      <td>hand</td>\n",
       "      <td>dataset/HAM10000_images_part_1/ISIC_0026713.jpg</td>\n",
       "      <td>Vascular lesions</td>\n",
       "      <td>5</td>\n",
       "      <td>unduplicated</td>\n",
       "      <td>3</td>\n",
       "    </tr>\n",
       "  </tbody>\n",
       "</table>\n",
       "</div>"
      ],
      "text/plain": [
       "   level_0  index    lesion_id      image_id    dx    dx_type   age     sex  \\\n",
       "0        0   1047  HAM_0000453  ISIC_0025330   bkl  consensus  50.0  female   \n",
       "1        2   6590  HAM_0006073  ISIC_0025761    nv  follow_up  65.0  female   \n",
       "2        3   6588  HAM_0002249  ISIC_0029520    nv  follow_up  65.0  female   \n",
       "3        4   5296  HAM_0004353  ISIC_0029262    nv  follow_up  55.0  female   \n",
       "4        5   2447  HAM_0006138  ISIC_0026713  vasc  consensus  35.0  female   \n",
       "\n",
       "      localization                                             path  \\\n",
       "0  lower extremity  dataset/HAM10000_images_part_1/ISIC_0025330.jpg   \n",
       "1  lower extremity  dataset/HAM10000_images_part_1/ISIC_0025761.jpg   \n",
       "2            trunk  dataset/HAM10000_images_part_2/ISIC_0029520.jpg   \n",
       "3             face  dataset/HAM10000_images_part_1/ISIC_0029262.jpg   \n",
       "4             hand  dataset/HAM10000_images_part_1/ISIC_0026713.jpg   \n",
       "\n",
       "                        cell_type  cell_type_idx    duplicates age_group  \n",
       "0  Benign keratosis-like lesions               2  unduplicated         3  \n",
       "1                Melanocytic nevi              4  unduplicated         3  \n",
       "2                Melanocytic nevi              4  unduplicated         3  \n",
       "3                Melanocytic nevi              4  unduplicated         3  \n",
       "4                Vascular lesions              5  unduplicated         3  "
      ]
     },
     "execution_count": 81,
     "metadata": {},
     "output_type": "execute_result"
    }
   ],
   "source": [
    "female_df_test = female_df_test.reset_index()\n",
    "female_df_test.head()"
   ]
  },
  {
   "cell_type": "code",
   "execution_count": 82,
   "metadata": {
    "scrolled": true
   },
   "outputs": [
    {
     "data": {
      "text/html": [
       "<div>\n",
       "<style scoped>\n",
       "    .dataframe tbody tr th:only-of-type {\n",
       "        vertical-align: middle;\n",
       "    }\n",
       "\n",
       "    .dataframe tbody tr th {\n",
       "        vertical-align: top;\n",
       "    }\n",
       "\n",
       "    .dataframe thead th {\n",
       "        text-align: right;\n",
       "    }\n",
       "</style>\n",
       "<table border=\"1\" class=\"dataframe\">\n",
       "  <thead>\n",
       "    <tr style=\"text-align: right;\">\n",
       "      <th></th>\n",
       "      <th>level_0</th>\n",
       "      <th>index</th>\n",
       "      <th>lesion_id</th>\n",
       "      <th>image_id</th>\n",
       "      <th>dx</th>\n",
       "      <th>dx_type</th>\n",
       "      <th>age</th>\n",
       "      <th>sex</th>\n",
       "      <th>localization</th>\n",
       "      <th>path</th>\n",
       "      <th>cell_type</th>\n",
       "      <th>cell_type_idx</th>\n",
       "      <th>duplicates</th>\n",
       "      <th>age_group</th>\n",
       "    </tr>\n",
       "  </thead>\n",
       "  <tbody>\n",
       "    <tr>\n",
       "      <th>0</th>\n",
       "      <td>1</td>\n",
       "      <td>2211</td>\n",
       "      <td>HAM_0006955</td>\n",
       "      <td>ISIC_0025105</td>\n",
       "      <td>mel</td>\n",
       "      <td>histo</td>\n",
       "      <td>65.0</td>\n",
       "      <td>male</td>\n",
       "      <td>back</td>\n",
       "      <td>dataset/HAM10000_images_part_1/ISIC_0025105.jpg</td>\n",
       "      <td>dermatofibroma</td>\n",
       "      <td>6</td>\n",
       "      <td>unduplicated</td>\n",
       "      <td>3</td>\n",
       "    </tr>\n",
       "    <tr>\n",
       "      <th>1</th>\n",
       "      <td>6</td>\n",
       "      <td>2099</td>\n",
       "      <td>HAM_0002113</td>\n",
       "      <td>ISIC_0029839</td>\n",
       "      <td>mel</td>\n",
       "      <td>histo</td>\n",
       "      <td>65.0</td>\n",
       "      <td>male</td>\n",
       "      <td>back</td>\n",
       "      <td>dataset/HAM10000_images_part_2/ISIC_0029839.jpg</td>\n",
       "      <td>dermatofibroma</td>\n",
       "      <td>6</td>\n",
       "      <td>unduplicated</td>\n",
       "      <td>2</td>\n",
       "    </tr>\n",
       "    <tr>\n",
       "      <th>2</th>\n",
       "      <td>7</td>\n",
       "      <td>1338</td>\n",
       "      <td>HAM_0001328</td>\n",
       "      <td>ISIC_0028442</td>\n",
       "      <td>mel</td>\n",
       "      <td>histo</td>\n",
       "      <td>75.0</td>\n",
       "      <td>male</td>\n",
       "      <td>unknown</td>\n",
       "      <td>dataset/HAM10000_images_part_1/ISIC_0028442.jpg</td>\n",
       "      <td>dermatofibroma</td>\n",
       "      <td>6</td>\n",
       "      <td>unduplicated</td>\n",
       "      <td>2</td>\n",
       "    </tr>\n",
       "    <tr>\n",
       "      <th>3</th>\n",
       "      <td>8</td>\n",
       "      <td>5348</td>\n",
       "      <td>HAM_0002412</td>\n",
       "      <td>ISIC_0026287</td>\n",
       "      <td>nv</td>\n",
       "      <td>follow_up</td>\n",
       "      <td>35.0</td>\n",
       "      <td>male</td>\n",
       "      <td>lower extremity</td>\n",
       "      <td>dataset/HAM10000_images_part_1/ISIC_0026287.jpg</td>\n",
       "      <td>Melanocytic nevi</td>\n",
       "      <td>4</td>\n",
       "      <td>unduplicated</td>\n",
       "      <td>3</td>\n",
       "    </tr>\n",
       "    <tr>\n",
       "      <th>4</th>\n",
       "      <td>9</td>\n",
       "      <td>4154</td>\n",
       "      <td>HAM_0003052</td>\n",
       "      <td>ISIC_0024796</td>\n",
       "      <td>nv</td>\n",
       "      <td>follow_up</td>\n",
       "      <td>60.0</td>\n",
       "      <td>male</td>\n",
       "      <td>lower extremity</td>\n",
       "      <td>dataset/HAM10000_images_part_1/ISIC_0024796.jpg</td>\n",
       "      <td>Melanocytic nevi</td>\n",
       "      <td>4</td>\n",
       "      <td>unduplicated</td>\n",
       "      <td>3</td>\n",
       "    </tr>\n",
       "  </tbody>\n",
       "</table>\n",
       "</div>"
      ],
      "text/plain": [
       "   level_0  index    lesion_id      image_id   dx    dx_type   age   sex  \\\n",
       "0        1   2211  HAM_0006955  ISIC_0025105  mel      histo  65.0  male   \n",
       "1        6   2099  HAM_0002113  ISIC_0029839  mel      histo  65.0  male   \n",
       "2        7   1338  HAM_0001328  ISIC_0028442  mel      histo  75.0  male   \n",
       "3        8   5348  HAM_0002412  ISIC_0026287   nv  follow_up  35.0  male   \n",
       "4        9   4154  HAM_0003052  ISIC_0024796   nv  follow_up  60.0  male   \n",
       "\n",
       "      localization                                             path  \\\n",
       "0             back  dataset/HAM10000_images_part_1/ISIC_0025105.jpg   \n",
       "1             back  dataset/HAM10000_images_part_2/ISIC_0029839.jpg   \n",
       "2          unknown  dataset/HAM10000_images_part_1/ISIC_0028442.jpg   \n",
       "3  lower extremity  dataset/HAM10000_images_part_1/ISIC_0026287.jpg   \n",
       "4  lower extremity  dataset/HAM10000_images_part_1/ISIC_0024796.jpg   \n",
       "\n",
       "          cell_type  cell_type_idx    duplicates age_group  \n",
       "0    dermatofibroma              6  unduplicated         3  \n",
       "1    dermatofibroma              6  unduplicated         2  \n",
       "2    dermatofibroma              6  unduplicated         2  \n",
       "3  Melanocytic nevi              4  unduplicated         3  \n",
       "4  Melanocytic nevi              4  unduplicated         3  "
      ]
     },
     "execution_count": 82,
     "metadata": {},
     "output_type": "execute_result"
    }
   ],
   "source": [
    "male_df_test = male_df_test.reset_index()\n",
    "male_df_test.head()"
   ]
  },
  {
   "cell_type": "code",
   "execution_count": 83,
   "metadata": {},
   "outputs": [
    {
     "data": {
      "text/plain": [
       "male       1013\n",
       "female      887\n",
       "unknown      18\n",
       "Name: sex, dtype: int64"
      ]
     },
     "execution_count": 83,
     "metadata": {},
     "output_type": "execute_result"
    }
   ],
   "source": [
    "df_test['sex'].value_counts()  # nearly balanced test set"
   ]
  },
  {
   "cell_type": "code",
   "execution_count": 84,
   "metadata": {},
   "outputs": [],
   "source": [
    "male_test_set = HAM10000(male_df_test, transform=test_transform)\n",
    "male_test_loader = DataLoader(male_test_set, batch_size=32, shuffle=False, num_workers=4)\n",
    "\n",
    "female_test_set = HAM10000(female_df_test, transform=test_transform)\n",
    "female_test_loader = DataLoader(female_test_set, batch_size=32, shuffle=False, num_workers=4)\n"
   ]
  },
  {
   "cell_type": "code",
   "execution_count": 95,
   "metadata": {},
   "outputs": [],
   "source": [
    "from sklearn.metrics import classification_report, confusion_matrix, accuracy_score\n",
    "\n",
    "def evaluate_gender(gender_test_loader, gender):\n",
    "    model.eval()\n",
    "    y_label = []\n",
    "    y_predict = []\n",
    "    with torch.no_grad():\n",
    "        for i, data in enumerate(gender_test_loader):\n",
    "            images, labels, _ = data  # add \"_\" to unpack the age_groups\n",
    "            N = images.size(0)\n",
    "            images = Variable(images).to(device)\n",
    "            outputs = model(images)\n",
    "            prediction = outputs.max(1, keepdim=True)[1]\n",
    "            y_label.extend(labels.cpu().numpy())\n",
    "            y_predict.extend(np.squeeze(prediction.cpu().numpy().T))\n",
    "\n",
    "    # compute the confusion matrix\n",
    "    confusion_mtx = confusion_matrix(y_label, y_predict)\n",
    "    # plot the confusion matrix\n",
    "    plot_labels = ['akiec', 'bcc', 'bkl', 'df', 'nv', 'vasc', 'mel']\n",
    "    plot_confusion_matrix(confusion_mtx, plot_labels)\n",
    "\n",
    "    # Print classification report\n",
    "    gender_report = classification_report(y_label, y_predict, target_names=plot_labels)\n",
    "    print(f\"{gender} classification report:\")\n",
    "    print(gender_report)\n",
    "\n",
    "    # Return the accuracy value\n",
    "    return accuracy_score(y_label, y_predict)"
   ]
  },
  {
   "cell_type": "code",
   "execution_count": 96,
   "metadata": {},
   "outputs": [
    {
     "name": "stdout",
     "output_type": "stream",
     "text": [
      "Male classification report:\n",
      "              precision    recall  f1-score   support\n",
      "\n",
      "       akiec       0.73      0.61      0.67        31\n",
      "         bcc       0.97      0.78      0.86        36\n",
      "         bkl       0.68      0.52      0.59        81\n",
      "          df       0.67      0.80      0.73         5\n",
      "          nv       0.95      0.96      0.96       810\n",
      "        vasc       0.91      0.91      0.91        11\n",
      "         mel       0.47      0.74      0.57        39\n",
      "\n",
      "    accuracy                           0.90      1013\n",
      "   macro avg       0.77      0.76      0.76      1013\n",
      "weighted avg       0.91      0.90      0.90      1013\n",
      "\n"
     ]
    },
    {
     "data": {
      "image/png": "[encoded data removed]",
      "text/plain": [
       "<Figure size 640x480 with 2 Axes>"
      ]
     },
     "metadata": {},
     "output_type": "display_data"
    }
   ],
   "source": [
    "# Evaluate the model for male test data\n",
    "male_accuracy = evaluate_gender(male_test_loader, \"Male\")\n",
    "\n"
   ]
  },
  {
   "cell_type": "code",
   "execution_count": 97,
   "metadata": {},
   "outputs": [
    {
     "name": "stdout",
     "output_type": "stream",
     "text": [
      "Female classification report:\n",
      "              precision    recall  f1-score   support\n",
      "\n",
      "       akiec       0.92      0.60      0.73        20\n",
      "         bcc       0.84      0.88      0.86        24\n",
      "         bkl       0.77      0.63      0.69        65\n",
      "          df       1.00      0.71      0.83         7\n",
      "          nv       0.96      0.97      0.96       726\n",
      "        vasc       1.00      0.91      0.95        11\n",
      "         mel       0.51      0.62      0.56        34\n",
      "\n",
      "    accuracy                           0.92       887\n",
      "   macro avg       0.86      0.76      0.80       887\n",
      "weighted avg       0.92      0.92      0.92       887\n",
      "\n"
     ]
    },
    {
     "data": {
      "image/png": "[encoded data removed]",
      "text/plain": [
       "<Figure size 640x480 with 2 Axes>"
      ]
     },
     "metadata": {},
     "output_type": "display_data"
    }
   ],
   "source": [
    "# Evaluate the model for female test data\n",
    "female_accuracy = evaluate_gender(female_test_loader, \"Female\")\n"
   ]
  },
  {
   "cell_type": "code",
   "execution_count": 98,
   "metadata": {},
   "outputs": [
    {
     "data": {
      "image/png": "[encoded data removed]",
      "text/plain": [
       "<Figure size 640x480 with 1 Axes>"
      ]
     },
     "metadata": {},
     "output_type": "display_data"
    }
   ],
   "source": [
    "# Plot the bar chart with the accuracy values for each gender\n",
    "genders = [\"Male\", \"Female\"]\n",
    "accuracies = [male_accuracy, female_accuracy]\n",
    "\n",
    "fig, ax = plt.subplots()\n",
    "bars = ax.bar(genders, accuracies, width=0.2)  # Set the bar width here\n",
    "\n",
    "\n",
    "plt.xlabel(\"Genders\")\n",
    "plt.ylabel(\"Test Accuracy\")\n",
    "plt.title(\"Accuracy of the Model for Different Genders\")\n",
    "plt.ylim(0, 1)\n",
    "\n",
    "# Function to add the accuracy values on top of the bars\n",
    "def add_values_on_bars(bars):\n",
    "    for bar in bars:\n",
    "        height = bar.get_height()\n",
    "        ax.annotate('{:.4f}'.format(height),\n",
    "                    xy=(bar.get_x() + bar.get_width() / 2, height),\n",
    "                    xytext=(0, 3),  # 3 points vertical offset\n",
    "                    textcoords=\"offset points\",\n",
    "                    ha='center', va='bottom')\n",
    "\n",
    "add_values_on_bars(bars)\n",
    "plt.show()\n"
   ]
  },
  {
   "cell_type": "markdown",
   "metadata": {},
   "source": [
    "### 3. Age"
   ]
  },
  {
   "cell_type": "code",
   "execution_count": 91,
   "metadata": {},
   "outputs": [
    {
     "data": {
      "text/plain": [
       "45.0    311\n",
       "50.0    276\n",
       "55.0    234\n",
       "40.0    218\n",
       "60.0    164\n",
       "35.0    148\n",
       "65.0    114\n",
       "70.0    110\n",
       "75.0     94\n",
       "30.0     79\n",
       "80.0     65\n",
       "25.0     35\n",
       "20.0     20\n",
       "85.0     17\n",
       "5.0       9\n",
       "15.0      3\n",
       "10.0      2\n",
       "Name: age, dtype: int64"
      ]
     },
     "execution_count": 91,
     "metadata": {},
     "output_type": "execute_result"
    }
   ],
   "source": [
    "df_test['age'].value_counts()"
   ]
  },
  {
   "cell_type": "code",
   "execution_count": 92,
   "metadata": {},
   "outputs": [],
   "source": [
    "# Filter the test dataset based on age groups\n",
    "below_20_df = df_test[df_test['age'] <= 20].reset_index(drop=True)\n",
    "between_20_40_df = df_test[(df_test['age'] > 20) & (df_test['age'] <= 40)].reset_index(drop=True)\n",
    "between_40_60_df = df_test[(df_test['age'] > 40) & (df_test['age'] <= 60)].reset_index(drop=True)\n",
    "above_60_df = df_test[df_test['age'] > 60].reset_index(drop=True)\n"
   ]
  },
  {
   "cell_type": "code",
   "execution_count": 93,
   "metadata": {},
   "outputs": [],
   "source": [
    "\n",
    "# Create test DataLoaders for each age group\n",
    "test_transform = transforms.Compose([transforms.Resize((224, 224)), transforms.ToTensor(), transforms.Normalize([0.5, 0.5, 0.5], [0.5, 0.5, 0.5])])\n",
    "\n",
    "below_20_test_set = HAM10000(below_20_df, transform=test_transform)\n",
    "below_20_test_loader = DataLoader(below_20_test_set, batch_size=32, shuffle=False, num_workers=4)\n",
    "\n",
    "between_20_40_test_set = HAM10000(between_20_40_df, transform=test_transform)\n",
    "between_20_40_test_loader = DataLoader(between_20_40_test_set, batch_size=32, shuffle=False, num_workers=4)\n",
    "\n",
    "between_40_60_test_set = HAM10000(between_40_60_df, transform=test_transform)\n",
    "between_40_60_test_loader = DataLoader(between_40_60_test_set, batch_size=32, shuffle=False, num_workers=4)\n",
    "\n",
    "above_60_test_set = HAM10000(above_60_df, transform=test_transform)\n",
    "above_60_test_loader = DataLoader(above_60_test_set, batch_size=32, shuffle=False, num_workers=4)\n"
   ]
  },
  {
   "cell_type": "code",
   "execution_count": 94,
   "metadata": {},
   "outputs": [
    {
     "data": {
      "text/html": [
       "<div>\n",
       "<style scoped>\n",
       "    .dataframe tbody tr th:only-of-type {\n",
       "        vertical-align: middle;\n",
       "    }\n",
       "\n",
       "    .dataframe tbody tr th {\n",
       "        vertical-align: top;\n",
       "    }\n",
       "\n",
       "    .dataframe thead th {\n",
       "        text-align: right;\n",
       "    }\n",
       "</style>\n",
       "<table border=\"1\" class=\"dataframe\">\n",
       "  <thead>\n",
       "    <tr style=\"text-align: right;\">\n",
       "      <th></th>\n",
       "      <th>index</th>\n",
       "      <th>lesion_id</th>\n",
       "      <th>image_id</th>\n",
       "      <th>dx</th>\n",
       "      <th>dx_type</th>\n",
       "      <th>age</th>\n",
       "      <th>sex</th>\n",
       "      <th>localization</th>\n",
       "      <th>path</th>\n",
       "      <th>cell_type</th>\n",
       "      <th>cell_type_idx</th>\n",
       "      <th>duplicates</th>\n",
       "      <th>train_or_val</th>\n",
       "      <th>age_group</th>\n",
       "    </tr>\n",
       "  </thead>\n",
       "  <tbody>\n",
       "    <tr>\n",
       "      <th>30842</th>\n",
       "      <td>31117</td>\n",
       "      <td>HAM_0001953</td>\n",
       "      <td>ISIC_0025611</td>\n",
       "      <td>mel</td>\n",
       "      <td>histo</td>\n",
       "      <td>65.0</td>\n",
       "      <td>male</td>\n",
       "      <td>back</td>\n",
       "      <td>dataset/HAM10000_images_part_1/ISIC_0025611.jpg</td>\n",
       "      <td>dermatofibroma</td>\n",
       "      <td>6</td>\n",
       "      <td>duplicated</td>\n",
       "      <td>train</td>\n",
       "      <td>3</td>\n",
       "    </tr>\n",
       "    <tr>\n",
       "      <th>30843</th>\n",
       "      <td>31118</td>\n",
       "      <td>HAM_0002552</td>\n",
       "      <td>ISIC_0032985</td>\n",
       "      <td>mel</td>\n",
       "      <td>histo</td>\n",
       "      <td>25.0</td>\n",
       "      <td>male</td>\n",
       "      <td>upper extremity</td>\n",
       "      <td>dataset/HAM10000_images_part_2/ISIC_0032985.jpg</td>\n",
       "      <td>dermatofibroma</td>\n",
       "      <td>6</td>\n",
       "      <td>duplicated</td>\n",
       "      <td>train</td>\n",
       "      <td>1</td>\n",
       "    </tr>\n",
       "    <tr>\n",
       "      <th>30844</th>\n",
       "      <td>31119</td>\n",
       "      <td>HAM_0002552</td>\n",
       "      <td>ISIC_0032936</td>\n",
       "      <td>mel</td>\n",
       "      <td>histo</td>\n",
       "      <td>25.0</td>\n",
       "      <td>male</td>\n",
       "      <td>upper extremity</td>\n",
       "      <td>dataset/HAM10000_images_part_2/ISIC_0032936.jpg</td>\n",
       "      <td>dermatofibroma</td>\n",
       "      <td>6</td>\n",
       "      <td>duplicated</td>\n",
       "      <td>train</td>\n",
       "      <td>1</td>\n",
       "    </tr>\n",
       "    <tr>\n",
       "      <th>30845</th>\n",
       "      <td>31120</td>\n",
       "      <td>HAM_0002552</td>\n",
       "      <td>ISIC_0033232</td>\n",
       "      <td>mel</td>\n",
       "      <td>histo</td>\n",
       "      <td>25.0</td>\n",
       "      <td>male</td>\n",
       "      <td>upper extremity</td>\n",
       "      <td>dataset/HAM10000_images_part_2/ISIC_0033232.jpg</td>\n",
       "      <td>dermatofibroma</td>\n",
       "      <td>6</td>\n",
       "      <td>duplicated</td>\n",
       "      <td>train</td>\n",
       "      <td>1</td>\n",
       "    </tr>\n",
       "    <tr>\n",
       "      <th>30846</th>\n",
       "      <td>31121</td>\n",
       "      <td>HAM_0003521</td>\n",
       "      <td>ISIC_0032258</td>\n",
       "      <td>mel</td>\n",
       "      <td>histo</td>\n",
       "      <td>70.0</td>\n",
       "      <td>female</td>\n",
       "      <td>back</td>\n",
       "      <td>dataset/HAM10000_images_part_2/ISIC_0032258.jpg</td>\n",
       "      <td>dermatofibroma</td>\n",
       "      <td>6</td>\n",
       "      <td>duplicated</td>\n",
       "      <td>train</td>\n",
       "      <td>3</td>\n",
       "    </tr>\n",
       "  </tbody>\n",
       "</table>\n",
       "</div>"
      ],
      "text/plain": [
       "       index    lesion_id      image_id   dx dx_type   age     sex  \\\n",
       "30842  31117  HAM_0001953  ISIC_0025611  mel   histo  65.0    male   \n",
       "30843  31118  HAM_0002552  ISIC_0032985  mel   histo  25.0    male   \n",
       "30844  31119  HAM_0002552  ISIC_0032936  mel   histo  25.0    male   \n",
       "30845  31120  HAM_0002552  ISIC_0033232  mel   histo  25.0    male   \n",
       "30846  31121  HAM_0003521  ISIC_0032258  mel   histo  70.0  female   \n",
       "\n",
       "          localization                                             path  \\\n",
       "30842             back  dataset/HAM10000_images_part_1/ISIC_0025611.jpg   \n",
       "30843  upper extremity  dataset/HAM10000_images_part_2/ISIC_0032985.jpg   \n",
       "30844  upper extremity  dataset/HAM10000_images_part_2/ISIC_0032936.jpg   \n",
       "30845  upper extremity  dataset/HAM10000_images_part_2/ISIC_0033232.jpg   \n",
       "30846             back  dataset/HAM10000_images_part_2/ISIC_0032258.jpg   \n",
       "\n",
       "            cell_type  cell_type_idx  duplicates train_or_val age_group  \n",
       "30842  dermatofibroma              6  duplicated        train         3  \n",
       "30843  dermatofibroma              6  duplicated        train         1  \n",
       "30844  dermatofibroma              6  duplicated        train         1  \n",
       "30845  dermatofibroma              6  duplicated        train         1  \n",
       "30846  dermatofibroma              6  duplicated        train         3  "
      ]
     },
     "execution_count": 94,
     "metadata": {},
     "output_type": "execute_result"
    }
   ],
   "source": [
    "df_train.tail()"
   ]
  },
  {
   "cell_type": "code",
   "execution_count": 95,
   "metadata": {},
   "outputs": [],
   "source": [
    "import numpy as np\n",
    "from sklearn.metrics import classification_report, confusion_matrix, accuracy_score\n",
    "\n",
    "\n",
    "def evaluate_age_group(age_group_test_loader, age_group_name):\n",
    "    model.eval()\n",
    "    y_label = []\n",
    "    y_predict = []\n",
    "    with torch.no_grad():\n",
    "        for i, data in enumerate(age_group_test_loader):\n",
    "            images, labels, _ = data  # add \"_\" to unpack the age_groups\n",
    "            N = images.size(0)\n",
    "            images = Variable(images).to(device)\n",
    "            outputs = model(images)\n",
    "            prediction = outputs.max(1, keepdim=True)[1]\n",
    "            y_label.extend(labels.cpu().numpy())\n",
    "            y_predict.extend(np.squeeze(prediction.cpu().numpy().T))\n",
    "\n",
    "    # Compute the confusion matrix\n",
    "    confusion_mtx = confusion_matrix(y_label, y_predict)\n",
    "    \n",
    "    # Find unique labels in y_label and create a new target_names list\n",
    "    unique_labels = np.unique(y_label)\n",
    "    new_target_names = [plot_labels[i] for i in unique_labels]\n",
    "\n",
    "    # Plot the confusion matrix\n",
    "    plot_confusion_matrix(confusion_mtx, new_target_names)\n",
    "\n",
    "    # Print classification report with zero_division parameter set to 1\n",
    "    age_group_report = classification_report(y_label, y_predict, labels=unique_labels, target_names=new_target_names, zero_division=1)\n",
    "    print(f\"{age_group_name} classification report:\")\n",
    "    print(age_group_report)\n",
    "    \n",
    "    # Return the accuracy value\n",
    "    return accuracy_score(y_label, y_predict)\n"
   ]
  },
  {
   "cell_type": "code",
   "execution_count": 106,
   "metadata": {},
   "outputs": [
    {
     "name": "stdout",
     "output_type": "stream",
     "text": [
      "Below 20 classification report:\n",
      "              precision    recall  f1-score   support\n",
      "\n",
      "         bcc       1.00      1.00      1.00         1\n",
      "         bkl       1.00      0.00      0.00         1\n",
      "          nv       0.87      0.90      0.88        29\n",
      "         mel       0.00      0.00      0.00         3\n",
      "\n",
      "    accuracy                           0.79        34\n",
      "   macro avg       0.72      0.47      0.47        34\n",
      "weighted avg       0.80      0.79      0.78        34\n",
      "\n"
     ]
    },
    {
     "data": {
      "image/png": "[encoded data removed]",
      "text/plain": [
       "<Figure size 640x480 with 2 Axes>"
      ]
     },
     "metadata": {},
     "output_type": "display_data"
    }
   ],
   "source": [
    "# Call the function for each age group and store the accuracy values\n",
    "below_20_accuracy = evaluate_age_group(below_20_test_loader, \"Below 20\")\n"
   ]
  },
  {
   "cell_type": "code",
   "execution_count": 97,
   "metadata": {},
   "outputs": [
    {
     "name": "stdout",
     "output_type": "stream",
     "text": [
      "Between 20 and 40 classification report:\n",
      "              precision    recall  f1-score   support\n",
      "\n",
      "       akiec       0.33      1.00      0.50         2\n",
      "         bcc       0.25      0.50      0.33         2\n",
      "         bkl       0.22      0.89      0.36         9\n",
      "          df       1.00      1.00      1.00         2\n",
      "          nv       0.99      0.91      0.95       456\n",
      "        vasc       0.80      1.00      0.89         4\n",
      "         mel       0.00      0.00      0.00         5\n",
      "\n",
      "    accuracy                           0.90       480\n",
      "   macro avg       0.51      0.76      0.58       480\n",
      "weighted avg       0.96      0.90      0.92       480\n",
      "\n"
     ]
    },
    {
     "data": {
      "image/png": "[encoded data removed]",
      "text/plain": [
       "<Figure size 640x480 with 2 Axes>"
      ]
     },
     "metadata": {},
     "output_type": "display_data"
    }
   ],
   "source": [
    "between_20_40_accuracy = evaluate_age_group(between_20_40_test_loader, \"Between 20 and 40\")\n"
   ]
  },
  {
   "cell_type": "code",
   "execution_count": 109,
   "metadata": {},
   "outputs": [
    {
     "name": "stdout",
     "output_type": "stream",
     "text": [
      "Between 40 and 60 classification report:\n",
      "              precision    recall  f1-score   support\n",
      "\n",
      "       akiec       0.88      0.62      0.73        24\n",
      "         bcc       0.84      0.89      0.86        18\n",
      "         bkl       0.74      0.59      0.66        54\n",
      "          df       1.00      0.62      0.77         8\n",
      "          nv       0.97      0.98      0.98       840\n",
      "        vasc       1.00      1.00      1.00        15\n",
      "         mel       0.50      0.69      0.58        26\n",
      "\n",
      "    accuracy                           0.94       985\n",
      "   macro avg       0.85      0.77      0.80       985\n",
      "weighted avg       0.94      0.94      0.94       985\n",
      "\n"
     ]
    },
    {
     "data": {
      "image/png": "[encoded data removed]",
      "text/plain": [
       "<Figure size 640x480 with 2 Axes>"
      ]
     },
     "metadata": {},
     "output_type": "display_data"
    }
   ],
   "source": [
    "between_40_60_accuracy = evaluate_age_group(between_40_60_test_loader, \"Between 40 and 60\")\n",
    "\n"
   ]
  },
  {
   "cell_type": "code",
   "execution_count": 110,
   "metadata": {},
   "outputs": [
    {
     "name": "stdout",
     "output_type": "stream",
     "text": [
      "Above 60 classification report:\n",
      "              precision    recall  f1-score   support\n",
      "\n",
      "       akiec       0.70      0.56      0.62        25\n",
      "         bcc       0.97      0.79      0.87        39\n",
      "         bkl       0.81      0.54      0.65        82\n",
      "          df       0.67      1.00      0.80         2\n",
      "          nv       0.85      0.96      0.90       210\n",
      "        vasc       1.00      0.67      0.80         3\n",
      "         mel       0.60      0.79      0.68        39\n",
      "\n",
      "    accuracy                           0.81       400\n",
      "   macro avg       0.80      0.76      0.76       400\n",
      "weighted avg       0.82      0.81      0.81       400\n",
      "\n"
     ]
    },
    {
     "data": {
      "image/png": "[encoded data removed]",
      "text/plain": [
       "<Figure size 640x480 with 2 Axes>"
      ]
     },
     "metadata": {},
     "output_type": "display_data"
    }
   ],
   "source": [
    "above_60_accuracy = evaluate_age_group(above_60_test_loader, \"Above 60\")\n"
   ]
  },
  {
   "cell_type": "code",
   "execution_count": 56,
   "metadata": {},
   "outputs": [
    {
     "data": {
      "image/png": "[encoded data removed]",
      "text/plain": [
       "<Figure size 640x480 with 1 Axes>"
      ]
     },
     "metadata": {},
     "output_type": "display_data"
    }
   ],
   "source": [
    "\n",
    "# Plot the bar chart with the accuracy values for each age group\n",
    "age_groups = [\"Below 20\", \"Between 20-40\", \"Between 40-60\", \"Above 60\"]\n",
    "accuracies = [below_20_accuracy, between_20_40_accuracy, between_40_60_accuracy, above_60_accuracy]\n",
    "\n",
    "fig, ax = plt.subplots()\n",
    "bars = ax.bar(age_groups, accuracies, width=0.4)\n",
    "\n",
    "plt.xlabel(\"Age Groups\")\n",
    "plt.ylabel(\"Test Accuracy\")\n",
    "plt.title(\"Accuracy of the Model for Different Age Groups\")\n",
    "plt.ylim(0, 1)\n",
    "\n",
    "# Function to add the accuracy values on top of the bars\n",
    "def add_values_on_bars(bars):\n",
    "    for bar in bars:\n",
    "        height = bar.get_height()\n",
    "        ax.annotate('{:.4f}'.format(height),\n",
    "                    xy=(bar.get_x() + bar.get_width() / 2, height),\n",
    "                    xytext=(0, 3),  # 3 points vertical offset\n",
    "                    textcoords=\"offset points\",\n",
    "                    ha='center', va='bottom')\n",
    "\n",
    "add_values_on_bars(bars)\n",
    "plt.show()\n"
   ]
  },
  {
   "cell_type": "code",
   "execution_count": null,
   "metadata": {},
   "outputs": [],
   "source": []
  }
 ],
 "metadata": {
  "kernelspec": {
   "display_name": "Python 3 (ipykernel)",
   "language": "python",
   "name": "python3"
  },
  "language_info": {
   "codemirror_mode": {
    "name": "ipython",
    "version": 3
   },
   "file_extension": ".py",
   "mimetype": "text/x-python",
   "name": "python",
   "nbconvert_exporter": "python",
   "pygments_lexer": "ipython3",
   "version": "3.10.9"
  }
 },
 "nbformat": 4,
 "nbformat_minor": 4
}
