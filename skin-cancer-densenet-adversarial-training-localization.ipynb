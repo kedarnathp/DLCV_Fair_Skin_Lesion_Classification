{
 "cells": [
  {
   "cell_type": "code",
   "execution_count": 1,
   "metadata": {
    "_cell_guid": "b1076dfc-b9ad-4769-8c92-a6c4dae69d19",
    "_uuid": "8f2839f25d086af736a60e9eeb907d3b93b6e0e5",
    "execution": {
     "iopub.execute_input": "2023-03-18T17:31:57.829169Z",
     "iopub.status.busy": "2023-03-18T17:31:57.828439Z",
     "iopub.status.idle": "2023-03-18T17:31:57.844792Z",
     "shell.execute_reply": "2023-03-18T17:31:57.843635Z",
     "shell.execute_reply.started": "2023-03-18T17:31:57.829125Z"
    }
   },
   "outputs": [
    {
     "name": "stdout",
     "output_type": "stream",
     "text": [
      "['HAM10000_metadata.csv', 'HAM10000_images_part_1', 'hmnist_8_8_L.csv', 'hmnist_28_28_RGB.csv', 'HAM10000_images_part_2', 'hmnist_8_8_RGB.csv', 'hmnist_28_28_L.csv']\n"
     ]
    }
   ],
   "source": [
    "%matplotlib inline\n",
    "# python libraties\n",
    "import os, cv2,itertools\n",
    "import matplotlib.pyplot as plt\n",
    "import numpy as np\n",
    "import pandas as pd\n",
    "from tqdm import tqdm\n",
    "from glob import glob\n",
    "from PIL import Image\n",
    "\n",
    "# pytorch libraries\n",
    "import torch\n",
    "from torch import optim,nn\n",
    "from torch.autograd import Variable\n",
    "from torch.utils.data import DataLoader,Dataset\n",
    "from torchvision import models,transforms\n",
    "\n",
    "# sklearn libraries\n",
    "from sklearn.metrics import confusion_matrix\n",
    "from sklearn.model_selection import train_test_split\n",
    "from sklearn.metrics import classification_report\n",
    "\n",
    "# to make the results are reproducible\n",
    "np.random.seed(10)\n",
    "torch.manual_seed(10)\n",
    "torch.cuda.manual_seed(10)\n",
    "\n",
    "print(os.listdir(\"dataset\"))"
   ]
  },
  {
   "cell_type": "code",
   "execution_count": 2,
   "metadata": {
    "execution": {
     "iopub.execute_input": "2023-03-18T17:31:57.847534Z",
     "iopub.status.busy": "2023-03-18T17:31:57.847063Z",
     "iopub.status.idle": "2023-03-18T17:31:57.963254Z",
     "shell.execute_reply": "2023-03-18T17:31:57.962279Z",
     "shell.execute_reply.started": "2023-03-18T17:31:57.847480Z"
    }
   },
   "outputs": [],
   "source": [
    "data_dir = 'dataset'\n",
    "all_image_path = glob(os.path.join(data_dir, '*', '*.jpg'))\n",
    "imageid_path_dict = {os.path.splitext(os.path.basename(x))[0]: x for x in all_image_path}\n",
    "lesion_type_dict = {\n",
    "    'nv': 'Melanocytic nevi',\n",
    "    'mel': 'dermatofibroma',\n",
    "    'bkl': 'Benign keratosis-like lesions ',\n",
    "    'bcc': 'Basal cell carcinoma',\n",
    "    'akiec': 'Actinic keratoses',\n",
    "    'vasc': 'Vascular lesions',\n",
    "    'df': 'Dermatofibroma'\n",
    "}"
   ]
  },
  {
   "cell_type": "code",
   "execution_count": 3,
   "metadata": {
    "execution": {
     "iopub.execute_input": "2023-03-18T17:31:57.965614Z",
     "iopub.status.busy": "2023-03-18T17:31:57.964681Z",
     "iopub.status.idle": "2023-03-18T17:31:57.974141Z",
     "shell.execute_reply": "2023-03-18T17:31:57.972742Z",
     "shell.execute_reply.started": "2023-03-18T17:31:57.965572Z"
    }
   },
   "outputs": [],
   "source": [
    "def compute_img_mean_std(image_paths):\n",
    "    \"\"\"\n",
    "        computing the mean and std of three channel on the whole dataset,\n",
    "        first we should normalize the image from 0-255 to 0-1\n",
    "    \"\"\"\n",
    "\n",
    "    img_h, img_w = 224, 224\n",
    "    imgs = []\n",
    "    means, stdevs = [], []\n",
    "\n",
    "    for i in tqdm(range(len(image_paths))):\n",
    "        img = cv2.imread(image_paths[i])\n",
    "        img = cv2.resize(img, (img_h, img_w))\n",
    "        imgs.append(img)\n",
    "\n",
    "    imgs = np.stack(imgs, axis=3)\n",
    "    print(imgs.shape)\n",
    "\n",
    "    imgs = imgs.astype(np.float32) / 255.\n",
    "\n",
    "    for i in range(3):\n",
    "        pixels = imgs[:, :, i, :].ravel()  # resize to one row\n",
    "        means.append(np.mean(pixels))\n",
    "        stdevs.append(np.std(pixels))\n",
    "\n",
    "    means.reverse()  # BGR --> RGB\n",
    "    stdevs.reverse()\n",
    "\n",
    "    print(\"normMean = {}\".format(means))\n",
    "    print(\"normStd = {}\".format(stdevs))\n",
    "    return means,stdevs"
   ]
  },
  {
   "cell_type": "code",
   "execution_count": 4,
   "metadata": {
    "execution": {
     "iopub.execute_input": "2023-03-18T17:31:57.978187Z",
     "iopub.status.busy": "2023-03-18T17:31:57.977129Z"
    }
   },
   "outputs": [
    {
     "name": "stderr",
     "output_type": "stream",
     "text": [
      "100%|████████████████████████████████████████████████████████████████████████████| 10015/10015 [01:15<00:00, 133.17it/s]\n"
     ]
    },
    {
     "name": "stdout",
     "output_type": "stream",
     "text": [
      "(224, 224, 3, 10015)\n",
      "normMean = [0.76303905, 0.54564434, 0.5700453]\n",
      "normStd = [0.14092831, 0.15261248, 0.16997118]\n"
     ]
    }
   ],
   "source": [
    "norm_mean, norm_std = compute_img_mean_std(all_image_path)"
   ]
  },
  {
   "cell_type": "code",
   "execution_count": 5,
   "metadata": {},
   "outputs": [
    {
     "data": {
      "text/html": [
       "<div>\n",
       "<style scoped>\n",
       "    .dataframe tbody tr th:only-of-type {\n",
       "        vertical-align: middle;\n",
       "    }\n",
       "\n",
       "    .dataframe tbody tr th {\n",
       "        vertical-align: top;\n",
       "    }\n",
       "\n",
       "    .dataframe thead th {\n",
       "        text-align: right;\n",
       "    }\n",
       "</style>\n",
       "<table border=\"1\" class=\"dataframe\">\n",
       "  <thead>\n",
       "    <tr style=\"text-align: right;\">\n",
       "      <th></th>\n",
       "      <th>lesion_id</th>\n",
       "      <th>image_id</th>\n",
       "      <th>dx</th>\n",
       "      <th>dx_type</th>\n",
       "      <th>age</th>\n",
       "      <th>sex</th>\n",
       "      <th>localization</th>\n",
       "      <th>path</th>\n",
       "      <th>cell_type</th>\n",
       "      <th>cell_type_idx</th>\n",
       "    </tr>\n",
       "  </thead>\n",
       "  <tbody>\n",
       "    <tr>\n",
       "      <th>0</th>\n",
       "      <td>HAM_0000118</td>\n",
       "      <td>ISIC_0027419</td>\n",
       "      <td>bkl</td>\n",
       "      <td>histo</td>\n",
       "      <td>80.0</td>\n",
       "      <td>male</td>\n",
       "      <td>scalp</td>\n",
       "      <td>dataset/HAM10000_images_part_1/ISIC_0027419.jpg</td>\n",
       "      <td>Benign keratosis-like lesions</td>\n",
       "      <td>2</td>\n",
       "    </tr>\n",
       "    <tr>\n",
       "      <th>1</th>\n",
       "      <td>HAM_0000118</td>\n",
       "      <td>ISIC_0025030</td>\n",
       "      <td>bkl</td>\n",
       "      <td>histo</td>\n",
       "      <td>80.0</td>\n",
       "      <td>male</td>\n",
       "      <td>scalp</td>\n",
       "      <td>dataset/HAM10000_images_part_1/ISIC_0025030.jpg</td>\n",
       "      <td>Benign keratosis-like lesions</td>\n",
       "      <td>2</td>\n",
       "    </tr>\n",
       "    <tr>\n",
       "      <th>2</th>\n",
       "      <td>HAM_0002730</td>\n",
       "      <td>ISIC_0026769</td>\n",
       "      <td>bkl</td>\n",
       "      <td>histo</td>\n",
       "      <td>80.0</td>\n",
       "      <td>male</td>\n",
       "      <td>scalp</td>\n",
       "      <td>dataset/HAM10000_images_part_1/ISIC_0026769.jpg</td>\n",
       "      <td>Benign keratosis-like lesions</td>\n",
       "      <td>2</td>\n",
       "    </tr>\n",
       "    <tr>\n",
       "      <th>3</th>\n",
       "      <td>HAM_0002730</td>\n",
       "      <td>ISIC_0025661</td>\n",
       "      <td>bkl</td>\n",
       "      <td>histo</td>\n",
       "      <td>80.0</td>\n",
       "      <td>male</td>\n",
       "      <td>scalp</td>\n",
       "      <td>dataset/HAM10000_images_part_1/ISIC_0025661.jpg</td>\n",
       "      <td>Benign keratosis-like lesions</td>\n",
       "      <td>2</td>\n",
       "    </tr>\n",
       "    <tr>\n",
       "      <th>4</th>\n",
       "      <td>HAM_0001466</td>\n",
       "      <td>ISIC_0031633</td>\n",
       "      <td>bkl</td>\n",
       "      <td>histo</td>\n",
       "      <td>75.0</td>\n",
       "      <td>male</td>\n",
       "      <td>ear</td>\n",
       "      <td>dataset/HAM10000_images_part_2/ISIC_0031633.jpg</td>\n",
       "      <td>Benign keratosis-like lesions</td>\n",
       "      <td>2</td>\n",
       "    </tr>\n",
       "  </tbody>\n",
       "</table>\n",
       "</div>"
      ],
      "text/plain": [
       "     lesion_id      image_id   dx dx_type   age   sex localization  \\\n",
       "0  HAM_0000118  ISIC_0027419  bkl   histo  80.0  male        scalp   \n",
       "1  HAM_0000118  ISIC_0025030  bkl   histo  80.0  male        scalp   \n",
       "2  HAM_0002730  ISIC_0026769  bkl   histo  80.0  male        scalp   \n",
       "3  HAM_0002730  ISIC_0025661  bkl   histo  80.0  male        scalp   \n",
       "4  HAM_0001466  ISIC_0031633  bkl   histo  75.0  male          ear   \n",
       "\n",
       "                                              path  \\\n",
       "0  dataset/HAM10000_images_part_1/ISIC_0027419.jpg   \n",
       "1  dataset/HAM10000_images_part_1/ISIC_0025030.jpg   \n",
       "2  dataset/HAM10000_images_part_1/ISIC_0026769.jpg   \n",
       "3  dataset/HAM10000_images_part_1/ISIC_0025661.jpg   \n",
       "4  dataset/HAM10000_images_part_2/ISIC_0031633.jpg   \n",
       "\n",
       "                        cell_type  cell_type_idx  \n",
       "0  Benign keratosis-like lesions               2  \n",
       "1  Benign keratosis-like lesions               2  \n",
       "2  Benign keratosis-like lesions               2  \n",
       "3  Benign keratosis-like lesions               2  \n",
       "4  Benign keratosis-like lesions               2  "
      ]
     },
     "execution_count": 5,
     "metadata": {},
     "output_type": "execute_result"
    }
   ],
   "source": [
    "df_original = pd.read_csv(os.path.join(data_dir, 'HAM10000_metadata.csv'))\n",
    "df_original['path'] = df_original['image_id'].map(imageid_path_dict.get)\n",
    "df_original['cell_type'] = df_original['dx'].map(lesion_type_dict.get)\n",
    "df_original['cell_type_idx'] = pd.Categorical(df_original['cell_type']).codes\n",
    "df_original.head()"
   ]
  },
  {
   "cell_type": "code",
   "execution_count": 6,
   "metadata": {},
   "outputs": [
    {
     "name": "stdout",
     "output_type": "stream",
     "text": [
      "male       5406\n",
      "female     4552\n",
      "unknown      57\n",
      "Name: sex, dtype: int64\n"
     ]
    }
   ],
   "source": [
    "# Count the number of females and males in the dataset\n",
    "gender_counts = df_original['sex'].value_counts()\n",
    "print(gender_counts)\n"
   ]
  },
  {
   "cell_type": "code",
   "execution_count": 7,
   "metadata": {},
   "outputs": [
    {
     "data": {
      "text/html": [
       "<div>\n",
       "<style scoped>\n",
       "    .dataframe tbody tr th:only-of-type {\n",
       "        vertical-align: middle;\n",
       "    }\n",
       "\n",
       "    .dataframe tbody tr th {\n",
       "        vertical-align: top;\n",
       "    }\n",
       "\n",
       "    .dataframe thead th {\n",
       "        text-align: right;\n",
       "    }\n",
       "</style>\n",
       "<table border=\"1\" class=\"dataframe\">\n",
       "  <thead>\n",
       "    <tr style=\"text-align: right;\">\n",
       "      <th></th>\n",
       "      <th>lesion_id</th>\n",
       "      <th>image_id</th>\n",
       "      <th>dx</th>\n",
       "      <th>dx_type</th>\n",
       "      <th>age</th>\n",
       "      <th>sex</th>\n",
       "      <th>localization</th>\n",
       "      <th>path</th>\n",
       "      <th>cell_type</th>\n",
       "      <th>cell_type_idx</th>\n",
       "    </tr>\n",
       "  </thead>\n",
       "  <tbody>\n",
       "    <tr>\n",
       "      <th>0</th>\n",
       "      <td>HAM_0000001</td>\n",
       "      <td>1</td>\n",
       "      <td>1</td>\n",
       "      <td>1</td>\n",
       "      <td>1</td>\n",
       "      <td>1</td>\n",
       "      <td>1</td>\n",
       "      <td>1</td>\n",
       "      <td>1</td>\n",
       "      <td>1</td>\n",
       "    </tr>\n",
       "    <tr>\n",
       "      <th>1</th>\n",
       "      <td>HAM_0000003</td>\n",
       "      <td>1</td>\n",
       "      <td>1</td>\n",
       "      <td>1</td>\n",
       "      <td>1</td>\n",
       "      <td>1</td>\n",
       "      <td>1</td>\n",
       "      <td>1</td>\n",
       "      <td>1</td>\n",
       "      <td>1</td>\n",
       "    </tr>\n",
       "    <tr>\n",
       "      <th>2</th>\n",
       "      <td>HAM_0000004</td>\n",
       "      <td>1</td>\n",
       "      <td>1</td>\n",
       "      <td>1</td>\n",
       "      <td>1</td>\n",
       "      <td>1</td>\n",
       "      <td>1</td>\n",
       "      <td>1</td>\n",
       "      <td>1</td>\n",
       "      <td>1</td>\n",
       "    </tr>\n",
       "    <tr>\n",
       "      <th>3</th>\n",
       "      <td>HAM_0000007</td>\n",
       "      <td>1</td>\n",
       "      <td>1</td>\n",
       "      <td>1</td>\n",
       "      <td>1</td>\n",
       "      <td>1</td>\n",
       "      <td>1</td>\n",
       "      <td>1</td>\n",
       "      <td>1</td>\n",
       "      <td>1</td>\n",
       "    </tr>\n",
       "    <tr>\n",
       "      <th>4</th>\n",
       "      <td>HAM_0000008</td>\n",
       "      <td>1</td>\n",
       "      <td>1</td>\n",
       "      <td>1</td>\n",
       "      <td>1</td>\n",
       "      <td>1</td>\n",
       "      <td>1</td>\n",
       "      <td>1</td>\n",
       "      <td>1</td>\n",
       "      <td>1</td>\n",
       "    </tr>\n",
       "  </tbody>\n",
       "</table>\n",
       "</div>"
      ],
      "text/plain": [
       "     lesion_id  image_id  dx  dx_type  age  sex  localization  path  \\\n",
       "0  HAM_0000001         1   1        1    1    1             1     1   \n",
       "1  HAM_0000003         1   1        1    1    1             1     1   \n",
       "2  HAM_0000004         1   1        1    1    1             1     1   \n",
       "3  HAM_0000007         1   1        1    1    1             1     1   \n",
       "4  HAM_0000008         1   1        1    1    1             1     1   \n",
       "\n",
       "   cell_type  cell_type_idx  \n",
       "0          1              1  \n",
       "1          1              1  \n",
       "2          1              1  \n",
       "3          1              1  \n",
       "4          1              1  "
      ]
     },
     "execution_count": 7,
     "metadata": {},
     "output_type": "execute_result"
    }
   ],
   "source": [
    "# this will tell us how many images are associated with each lesion_id\n",
    "df_undup = df_original.groupby('lesion_id').count()\n",
    "# now we filter out lesion_id's that have only one image associated with it\n",
    "df_undup = df_undup[df_undup['image_id'] == 1]\n",
    "df_undup.reset_index(inplace=True)\n",
    "df_undup.head()"
   ]
  },
  {
   "cell_type": "code",
   "execution_count": 8,
   "metadata": {},
   "outputs": [
    {
     "data": {
      "text/html": [
       "<div>\n",
       "<style scoped>\n",
       "    .dataframe tbody tr th:only-of-type {\n",
       "        vertical-align: middle;\n",
       "    }\n",
       "\n",
       "    .dataframe tbody tr th {\n",
       "        vertical-align: top;\n",
       "    }\n",
       "\n",
       "    .dataframe thead th {\n",
       "        text-align: right;\n",
       "    }\n",
       "</style>\n",
       "<table border=\"1\" class=\"dataframe\">\n",
       "  <thead>\n",
       "    <tr style=\"text-align: right;\">\n",
       "      <th></th>\n",
       "      <th>lesion_id</th>\n",
       "      <th>image_id</th>\n",
       "      <th>dx</th>\n",
       "      <th>dx_type</th>\n",
       "      <th>age</th>\n",
       "      <th>sex</th>\n",
       "      <th>localization</th>\n",
       "      <th>path</th>\n",
       "      <th>cell_type</th>\n",
       "      <th>cell_type_idx</th>\n",
       "      <th>duplicates</th>\n",
       "    </tr>\n",
       "  </thead>\n",
       "  <tbody>\n",
       "    <tr>\n",
       "      <th>0</th>\n",
       "      <td>HAM_0000118</td>\n",
       "      <td>ISIC_0027419</td>\n",
       "      <td>bkl</td>\n",
       "      <td>histo</td>\n",
       "      <td>80.0</td>\n",
       "      <td>male</td>\n",
       "      <td>scalp</td>\n",
       "      <td>dataset/HAM10000_images_part_1/ISIC_0027419.jpg</td>\n",
       "      <td>Benign keratosis-like lesions</td>\n",
       "      <td>2</td>\n",
       "      <td>duplicated</td>\n",
       "    </tr>\n",
       "    <tr>\n",
       "      <th>1</th>\n",
       "      <td>HAM_0000118</td>\n",
       "      <td>ISIC_0025030</td>\n",
       "      <td>bkl</td>\n",
       "      <td>histo</td>\n",
       "      <td>80.0</td>\n",
       "      <td>male</td>\n",
       "      <td>scalp</td>\n",
       "      <td>dataset/HAM10000_images_part_1/ISIC_0025030.jpg</td>\n",
       "      <td>Benign keratosis-like lesions</td>\n",
       "      <td>2</td>\n",
       "      <td>duplicated</td>\n",
       "    </tr>\n",
       "    <tr>\n",
       "      <th>2</th>\n",
       "      <td>HAM_0002730</td>\n",
       "      <td>ISIC_0026769</td>\n",
       "      <td>bkl</td>\n",
       "      <td>histo</td>\n",
       "      <td>80.0</td>\n",
       "      <td>male</td>\n",
       "      <td>scalp</td>\n",
       "      <td>dataset/HAM10000_images_part_1/ISIC_0026769.jpg</td>\n",
       "      <td>Benign keratosis-like lesions</td>\n",
       "      <td>2</td>\n",
       "      <td>duplicated</td>\n",
       "    </tr>\n",
       "    <tr>\n",
       "      <th>3</th>\n",
       "      <td>HAM_0002730</td>\n",
       "      <td>ISIC_0025661</td>\n",
       "      <td>bkl</td>\n",
       "      <td>histo</td>\n",
       "      <td>80.0</td>\n",
       "      <td>male</td>\n",
       "      <td>scalp</td>\n",
       "      <td>dataset/HAM10000_images_part_1/ISIC_0025661.jpg</td>\n",
       "      <td>Benign keratosis-like lesions</td>\n",
       "      <td>2</td>\n",
       "      <td>duplicated</td>\n",
       "    </tr>\n",
       "    <tr>\n",
       "      <th>4</th>\n",
       "      <td>HAM_0001466</td>\n",
       "      <td>ISIC_0031633</td>\n",
       "      <td>bkl</td>\n",
       "      <td>histo</td>\n",
       "      <td>75.0</td>\n",
       "      <td>male</td>\n",
       "      <td>ear</td>\n",
       "      <td>dataset/HAM10000_images_part_2/ISIC_0031633.jpg</td>\n",
       "      <td>Benign keratosis-like lesions</td>\n",
       "      <td>2</td>\n",
       "      <td>duplicated</td>\n",
       "    </tr>\n",
       "  </tbody>\n",
       "</table>\n",
       "</div>"
      ],
      "text/plain": [
       "     lesion_id      image_id   dx dx_type   age   sex localization  \\\n",
       "0  HAM_0000118  ISIC_0027419  bkl   histo  80.0  male        scalp   \n",
       "1  HAM_0000118  ISIC_0025030  bkl   histo  80.0  male        scalp   \n",
       "2  HAM_0002730  ISIC_0026769  bkl   histo  80.0  male        scalp   \n",
       "3  HAM_0002730  ISIC_0025661  bkl   histo  80.0  male        scalp   \n",
       "4  HAM_0001466  ISIC_0031633  bkl   histo  75.0  male          ear   \n",
       "\n",
       "                                              path  \\\n",
       "0  dataset/HAM10000_images_part_1/ISIC_0027419.jpg   \n",
       "1  dataset/HAM10000_images_part_1/ISIC_0025030.jpg   \n",
       "2  dataset/HAM10000_images_part_1/ISIC_0026769.jpg   \n",
       "3  dataset/HAM10000_images_part_1/ISIC_0025661.jpg   \n",
       "4  dataset/HAM10000_images_part_2/ISIC_0031633.jpg   \n",
       "\n",
       "                        cell_type  cell_type_idx  duplicates  \n",
       "0  Benign keratosis-like lesions               2  duplicated  \n",
       "1  Benign keratosis-like lesions               2  duplicated  \n",
       "2  Benign keratosis-like lesions               2  duplicated  \n",
       "3  Benign keratosis-like lesions               2  duplicated  \n",
       "4  Benign keratosis-like lesions               2  duplicated  "
      ]
     },
     "execution_count": 8,
     "metadata": {},
     "output_type": "execute_result"
    }
   ],
   "source": [
    "# here we identify lesion_id's that have duplicate images and those that have only one image.\n",
    "def get_duplicates(x):\n",
    "    unique_list = list(df_undup['lesion_id'])\n",
    "    if x in unique_list:\n",
    "        return 'unduplicated'\n",
    "    else:\n",
    "        return 'duplicated'\n",
    "\n",
    "# create a new colum that is a copy of the lesion_id column\n",
    "df_original['duplicates'] = df_original['lesion_id']\n",
    "# apply the function to this new column\n",
    "df_original['duplicates'] = df_original['duplicates'].apply(get_duplicates)\n",
    "df_original.head()"
   ]
  },
  {
   "cell_type": "code",
   "execution_count": 9,
   "metadata": {},
   "outputs": [
    {
     "data": {
      "text/plain": [
       "unduplicated    5514\n",
       "duplicated      4501\n",
       "Name: duplicates, dtype: int64"
      ]
     },
     "execution_count": 9,
     "metadata": {},
     "output_type": "execute_result"
    }
   ],
   "source": [
    "df_original['duplicates'].value_counts()"
   ]
  },
  {
   "cell_type": "code",
   "execution_count": 10,
   "metadata": {},
   "outputs": [
    {
     "data": {
      "text/plain": [
       "(5514, 11)"
      ]
     },
     "execution_count": 10,
     "metadata": {},
     "output_type": "execute_result"
    }
   ],
   "source": [
    "# now we filter out images that don't have duplicates\n",
    "df_undup = df_original[df_original['duplicates'] == 'unduplicated']\n",
    "df_undup.shape"
   ]
  },
  {
   "cell_type": "code",
   "execution_count": 11,
   "metadata": {},
   "outputs": [
    {
     "data": {
      "text/plain": [
       "((2757, 11), (2757, 11))"
      ]
     },
     "execution_count": 11,
     "metadata": {},
     "output_type": "execute_result"
    }
   ],
   "source": [
    "y = df_undup['cell_type_idx']\n",
    "df_train, df_val = train_test_split(df_undup, test_size=0.5, random_state=101, stratify=y)\n",
    "df_train.shape, df_val.shape"
   ]
  },
  {
   "cell_type": "code",
   "execution_count": 12,
   "metadata": {},
   "outputs": [
    {
     "name": "stdout",
     "output_type": "stream",
     "text": [
      "Training dataset:\n",
      "Males: 1435\n",
      "Females: 1300\n",
      "\n",
      "Validation dataset:\n",
      "Males: 1472\n",
      "Females: 1262\n"
     ]
    }
   ],
   "source": [
    "# Calculate the number of males and females in the train dataset\n",
    "train_male_count = len(df_train[df_train['sex'] == 'male'])\n",
    "train_female_count = len(df_train[df_train['sex'] == 'female'])\n",
    "\n",
    "# Calculate the number of males and females in the validation dataset\n",
    "val_male_count = len(df_val[df_val['sex'] == 'male'])\n",
    "val_female_count = len(df_val[df_val['sex'] == 'female'])\n",
    "\n",
    "print(\"Training dataset:\")\n",
    "print(f\"Males: {train_male_count}\")\n",
    "print(f\"Females: {train_female_count}\")\n",
    "\n",
    "print(\"\\nValidation dataset:\")\n",
    "print(f\"Males: {val_male_count}\")\n",
    "print(f\"Females: {val_female_count}\")\n"
   ]
  },
  {
   "cell_type": "code",
   "execution_count": 13,
   "metadata": {},
   "outputs": [
    {
     "data": {
      "text/plain": [
       "4    2208\n",
       "2     220\n",
       "6     115\n",
       "1      88\n",
       "0      75\n",
       "5      32\n",
       "3      19\n",
       "Name: cell_type_idx, dtype: int64"
      ]
     },
     "execution_count": 13,
     "metadata": {},
     "output_type": "execute_result"
    }
   ],
   "source": [
    "df_val['cell_type_idx'].value_counts()"
   ]
  },
  {
   "cell_type": "code",
   "execution_count": 14,
   "metadata": {},
   "outputs": [
    {
     "data": {
      "text/plain": [
       "4    2207\n",
       "2     220\n",
       "6     115\n",
       "1      87\n",
       "0      76\n",
       "5      32\n",
       "3      20\n",
       "Name: cell_type_idx, dtype: int64"
      ]
     },
     "execution_count": 14,
     "metadata": {},
     "output_type": "execute_result"
    }
   ],
   "source": [
    "df_train['cell_type_idx'].value_counts()"
   ]
  },
  {
   "cell_type": "code",
   "execution_count": 15,
   "metadata": {},
   "outputs": [
    {
     "name": "stdout",
     "output_type": "stream",
     "text": [
      "Training dataset: 7258\n",
      "Validation dataset: 2757\n"
     ]
    }
   ],
   "source": [
    "# This set will be df_original excluding all rows that are in the val set\n",
    "# This function identifies if an image is part of the train or val set.\n",
    "def get_val_rows(x):\n",
    "    # create a list of all the lesion_id's in the val set\n",
    "    val_list = list(df_val['image_id'])\n",
    "    if str(x) in val_list:\n",
    "        return 'val'\n",
    "    else:\n",
    "        return 'train'\n",
    "\n",
    "# identify train and val rows\n",
    "# create a new colum that is a copy of the image_id column\n",
    "df_original['train_or_val'] = df_original['image_id']\n",
    "# apply the function to this new column\n",
    "df_original['train_or_val'] = df_original['train_or_val'].apply(get_val_rows)\n",
    "# filter out train rows\n",
    "df_train = df_original[df_original['train_or_val'] == 'train']\n",
    "print(f\"Training dataset: {len(df_train)}\")\n",
    "print(f\"Validation dataset: { len(df_val)}\")"
   ]
  },
  {
   "cell_type": "code",
   "execution_count": 16,
   "metadata": {},
   "outputs": [
    {
     "name": "stdout",
     "output_type": "stream",
     "text": [
      "Training dataset:\n",
      "Males: 3934\n",
      "Females: 3290\n",
      "\n",
      "Validation dataset:\n",
      "Males: 1472\n",
      "Females: 1262\n"
     ]
    }
   ],
   "source": [
    "# Calculate the number of males and females in the train dataset\n",
    "train_male_count = len(df_train[df_train['sex'] == 'male'])\n",
    "train_female_count = len(df_train[df_train['sex'] == 'female'])\n",
    "\n",
    "# Calculate the number of males and females in the validation dataset\n",
    "val_male_count = len(df_val[df_val['sex'] == 'male'])\n",
    "val_female_count = len(df_val[df_val['sex'] == 'female'])\n",
    "\n",
    "print(\"Training dataset:\")\n",
    "print(f\"Males: {train_male_count}\")\n",
    "print(f\"Females: {train_female_count}\")\n",
    "\n",
    "print(\"\\nValidation dataset:\")\n",
    "print(f\"Males: {val_male_count}\")\n",
    "print(f\"Females: {val_female_count}\")\n"
   ]
  },
  {
   "cell_type": "code",
   "execution_count": 17,
   "metadata": {},
   "outputs": [
    {
     "data": {
      "text/plain": [
       "4    4497\n",
       "6     998\n",
       "2     879\n",
       "1     426\n",
       "0     252\n",
       "5     110\n",
       "3      96\n",
       "Name: cell_type_idx, dtype: int64"
      ]
     },
     "execution_count": 17,
     "metadata": {},
     "output_type": "execute_result"
    }
   ],
   "source": [
    "df_train['cell_type_idx'].value_counts()"
   ]
  },
  {
   "cell_type": "code",
   "execution_count": 18,
   "metadata": {},
   "outputs": [
    {
     "data": {
      "text/plain": [
       "Melanocytic nevi                  2208\n",
       "Benign keratosis-like lesions      220\n",
       "dermatofibroma                     115\n",
       "Basal cell carcinoma                88\n",
       "Actinic keratoses                   75\n",
       "Vascular lesions                    32\n",
       "Dermatofibroma                      19\n",
       "Name: cell_type, dtype: int64"
      ]
     },
     "execution_count": 18,
     "metadata": {},
     "output_type": "execute_result"
    }
   ],
   "source": [
    "df_val['cell_type'].value_counts()"
   ]
  },
  {
   "cell_type": "code",
   "execution_count": 19,
   "metadata": {},
   "outputs": [
    {
     "data": {
      "text/plain": [
       "male       3934\n",
       "female     3290\n",
       "unknown      34\n",
       "Name: sex, dtype: int64"
      ]
     },
     "execution_count": 19,
     "metadata": {},
     "output_type": "execute_result"
    }
   ],
   "source": [
    "df_train['sex'].value_counts()"
   ]
  },
  {
   "cell_type": "code",
   "execution_count": 20,
   "metadata": {},
   "outputs": [
    {
     "data": {
      "text/plain": [
       "45.0    835\n",
       "50.0    786\n",
       "55.0    686\n",
       "40.0    666\n",
       "70.0    605\n",
       "60.0    572\n",
       "65.0    567\n",
       "35.0    539\n",
       "75.0    477\n",
       "30.0    363\n",
       "80.0    312\n",
       "85.0    254\n",
       "25.0    194\n",
       "20.0    146\n",
       "15.0     74\n",
       "5.0      74\n",
       "0.0      38\n",
       "10.0     37\n",
       "Name: age, dtype: int64"
      ]
     },
     "execution_count": 20,
     "metadata": {},
     "output_type": "execute_result"
    }
   ],
   "source": [
    "df_train['age'].value_counts()"
   ]
  },
  {
   "cell_type": "code",
   "execution_count": 21,
   "metadata": {},
   "outputs": [
    {
     "data": {
      "text/plain": [
       "back               1691\n",
       "lower extremity    1461\n",
       "upper extremity     879\n",
       "trunk               803\n",
       "abdomen             674\n",
       "face                630\n",
       "chest               350\n",
       "foot                240\n",
       "unknown             141\n",
       "neck                132\n",
       "scalp               109\n",
       "hand                 66\n",
       "ear                  48\n",
       "genital              28\n",
       "acral                 6\n",
       "Name: localization, dtype: int64"
      ]
     },
     "execution_count": 21,
     "metadata": {},
     "output_type": "execute_result"
    }
   ],
   "source": [
    "df_train['localization'].value_counts()"
   ]
  },
  {
   "cell_type": "markdown",
   "metadata": {},
   "source": [
    "## Bias Mitigation: Data Augmentation (Oversampling training data)"
   ]
  },
  {
   "cell_type": "code",
   "execution_count": 22,
   "metadata": {},
   "outputs": [
    {
     "name": "stderr",
     "output_type": "stream",
     "text": [
      "/tmp/ipykernel_656135/2085359477.py:5: FutureWarning: The frame.append method is deprecated and will be removed from pandas in a future version. Use pandas.concat instead.\n",
      "  df_train=df_train.append([df_train.loc[df_train['cell_type_idx'] == i,:]]*(data_aug_rate[i]-1), ignore_index=True)\n"
     ]
    },
    {
     "data": {
      "text/plain": [
       "dermatofibroma                    4990\n",
       "Dermatofibroma                    4800\n",
       "Melanocytic nevi                  4497\n",
       "Vascular lesions                  4400\n",
       "Benign keratosis-like lesions     4395\n",
       "Basal cell carcinoma              4260\n",
       "Actinic keratoses                 3780\n",
       "Name: cell_type, dtype: int64"
      ]
     },
     "execution_count": 22,
     "metadata": {},
     "output_type": "execute_result"
    }
   ],
   "source": [
    "# # Copy fewer class to balance the number of 7 classes\n",
    "data_aug_rate = [15,10,5,50,0,40,5]\n",
    "for i in range(7):\n",
    "    if data_aug_rate[i]:\n",
    "        df_train=df_train.append([df_train.loc[df_train['cell_type_idx'] == i,:]]*(data_aug_rate[i]-1), ignore_index=True)\n",
    "df_train['cell_type'].value_counts()"
   ]
  },
  {
   "cell_type": "code",
   "execution_count": 23,
   "metadata": {},
   "outputs": [],
   "source": [
    "# split validation into val and test\n",
    "df_val, df_test = train_test_split(df_val, test_size=0.7)  \n",
    "df_train = df_train.reset_index()\n",
    "df_val = df_val.reset_index()\n",
    "df_test = df_test.reset_index()\n"
   ]
  },
  {
   "cell_type": "code",
   "execution_count": 24,
   "metadata": {},
   "outputs": [
    {
     "name": "stdout",
     "output_type": "stream",
     "text": [
      " Training dataset size: 31122\n",
      " Testing dataset size: 1930\n",
      " Validation dataset size: 827\n"
     ]
    }
   ],
   "source": [
    "print(f\" Training dataset size: {len(df_train)}\")\n",
    "print(f\" Testing dataset size: {len(df_test)}\")\n",
    "print(f\" Validation dataset size: {len(df_val)}\")"
   ]
  },
  {
   "cell_type": "code",
   "execution_count": 25,
   "metadata": {},
   "outputs": [],
   "source": [
    "# df_train['age'].value_counts()"
   ]
  },
  {
   "cell_type": "code",
   "execution_count": 26,
   "metadata": {},
   "outputs": [],
   "source": [
    "# # Filter the test dataset based on age groups\n",
    "# below_20_df = df_test[df_test['age'] <= 20].reset_index(drop=True)\n",
    "# between_20_40_df = df_test[(df_test['age'] > 20) & (df_test['age'] <= 40)].reset_index(drop=True)\n",
    "# between_40_60_df = df_test[(df_test['age'] > 40) & (df_test['age'] <= 60)].reset_index(drop=True)\n",
    "# above_60_df = df_test[df_test['age'] > 60].reset_index(drop=True)\n"
   ]
  },
  {
   "cell_type": "code",
   "execution_count": 27,
   "metadata": {},
   "outputs": [],
   "source": [
    "# # Assuming your DataFrame is called 'df' and has a column 'age' with the age of each sample\n",
    "# age_bins = [0, 20, 40, 60, np.inf]\n",
    "# age_group_labels = [0, 1, 2, 3]\n",
    "# df_train['age_group'] = pd.cut(df_train['age'], bins=age_bins, labels=age_group_labels)\n",
    "# df_val['age_group'] = pd.cut(df_train['age'], bins=age_bins, labels=age_group_labels)\n",
    "# df_test['age_group'] = pd.cut(df_train['age'], bins=age_bins, labels=age_group_labels)\n",
    "\n",
    "# df_train = df_train.dropna(subset=['age_group'])\n",
    "# df_val = df_val.dropna(subset=['age_group'])\n",
    "# df_test = df_test.dropna(subset=['age_group'])\n",
    "\n",
    "# df_train = df_train.dropna(subset=['age_group']).reset_index(drop=True)\n",
    "# df_val = df_val.dropna(subset=['age_group']).reset_index(drop=True)\n",
    "# df_test = df_test.dropna(subset=['age_group']).reset_index(drop=True)\n",
    "\n",
    "\n"
   ]
  },
  {
   "cell_type": "code",
   "execution_count": 26,
   "metadata": {},
   "outputs": [],
   "source": [
    "body_regions = {\n",
    "    'Upper body': ['face', 'neck', 'scalp', 'ear', 'chest', 'upper extremity', 'hand'],\n",
    "    'Mid body': ['trunk', 'back', 'abdomen'],\n",
    "    'Lower body': ['lower extremity', 'foot', 'genital', 'acral']\n",
    "}\n",
    "\n",
    "localization_mapping = {area: region for region, areas in body_regions.items() for area in areas}\n"
   ]
  },
  {
   "cell_type": "code",
   "execution_count": 27,
   "metadata": {},
   "outputs": [],
   "source": [
    "# add new column body region\n",
    "df_test['body_region'] = df_test['localization'].replace(localization_mapping)\n",
    "df_train['body_region'] = df_train['localization'].replace(localization_mapping)\n",
    "df_val['body_region'] = df_val['localization'].replace(localization_mapping)\n",
    "\n"
   ]
  },
  {
   "cell_type": "code",
   "execution_count": 28,
   "metadata": {},
   "outputs": [],
   "source": [
    "# test\n",
    "upper_body_df = df_test[df_test['localization'].isin(body_regions['Upper body'])].reset_index(drop=True)\n",
    "mid_body_df = df_test[df_test['localization'].isin(body_regions['Mid body'])].reset_index(drop=True)\n",
    "lower_body_df = df_test[df_test['localization'].isin(body_regions['Lower body'])].reset_index(drop=True)\n",
    "\n",
    "# train\n",
    "upper_body_df_train = df_train[df_train['localization'].isin(body_regions['Upper body'])].reset_index(drop=True)\n",
    "mid_body_df_train = df_train[df_train['localization'].isin(body_regions['Mid body'])].reset_index(drop=True)\n",
    "lower_body_df_train = df_train[df_train['localization'].isin(body_regions['Lower body'])].reset_index(drop=True)\n",
    "\n",
    "\n",
    "# val\n",
    "upper_body_df_val = df_val[df_val['localization'].isin(body_regions['Upper body'])].reset_index(drop=True)\n",
    "mid_body_df_val = df_val[df_val['localization'].isin(body_regions['Mid body'])].reset_index(drop=True)\n",
    "lower_body_df_val = df_val[df_val['localization'].isin(body_regions['Lower body'])].reset_index(drop=True)\n",
    "\n"
   ]
  },
  {
   "cell_type": "code",
   "execution_count": 29,
   "metadata": {},
   "outputs": [
    {
     "data": {
      "text/plain": [
       "Mid body      1012\n",
       "Lower body     503\n",
       "Upper body     346\n",
       "unknown         69\n",
       "Name: body_region, dtype: int64"
      ]
     },
     "execution_count": 29,
     "metadata": {},
     "output_type": "execute_result"
    }
   ],
   "source": [
    "df_test['body_region'].value_counts()\n"
   ]
  },
  {
   "cell_type": "code",
   "execution_count": 30,
   "metadata": {},
   "outputs": [
    {
     "data": {
      "text/plain": [
       "Upper body    12152\n",
       "Mid body      10005\n",
       "Lower body     8692\n",
       "unknown         273\n",
       "Name: body_region, dtype: int64"
      ]
     },
     "execution_count": 30,
     "metadata": {},
     "output_type": "execute_result"
    }
   ],
   "source": [
    "df_train['body_region'].value_counts()\n"
   ]
  },
  {
   "cell_type": "code",
   "execution_count": 49,
   "metadata": {},
   "outputs": [
    {
     "name": "stdout",
     "output_type": "stream",
     "text": [
      " Training dataset size: 31122\n",
      " Testing dataset size: 1930\n",
      " Validation dataset size: 827\n"
     ]
    }
   ],
   "source": [
    "print(f\" Training dataset size: {len(df_train)}\")\n",
    "print(f\" Testing dataset size: {len(df_test)}\")\n",
    "print(f\" Validation dataset size: {len(df_val)}\")"
   ]
  },
  {
   "cell_type": "code",
   "execution_count": 50,
   "metadata": {},
   "outputs": [],
   "source": [
    "# feature_extract is a boolean that defines if we are finetuning or feature extracting. \n",
    "# If feature_extract = False, the model is finetuned and all model parameters are updated. \n",
    "# If feature_extract = True, only the last layer parameters are updated, the others remain fixed.\n",
    "def set_parameter_requires_grad(model, feature_extracting):\n",
    "    if feature_extracting:\n",
    "        for param in model.parameters():\n",
    "            param.requires_grad = False"
   ]
  },
  {
   "cell_type": "code",
   "execution_count": 51,
   "metadata": {},
   "outputs": [],
   "source": [
    "import torch.nn.functional as F\n",
    "\n",
    "class GradientReversalLayer(torch.autograd.Function):\n",
    "    @staticmethod\n",
    "    def forward(ctx, x):\n",
    "        return x.view_as(x)\n",
    "\n",
    "    @staticmethod\n",
    "    def backward(ctx, grad_output):\n",
    "        return -grad_output\n",
    "\n",
    "class AgeClassifier(nn.Module):\n",
    "    def __init__(self, num_classes, num_age_groups):\n",
    "        super(AgeClassifier, self).__init__()\n",
    "        self.fc = nn.Linear(num_classes, num_age_groups)\n",
    "\n",
    "    def forward(self, x):\n",
    "        x = self.fc(x)\n",
    "        return F.log_softmax(x, dim=1)\n",
    "    \n",
    "\n",
    "\n",
    "class LocalizationClassifier(nn.Module):\n",
    "    def __init__(self, input_size, num_body_regions):\n",
    "        super(LocalizationClassifier, self).__init__()\n",
    "        self.fc = nn.Linear(input_size, num_body_regions)\n",
    "\n",
    "    def forward(self, x):\n",
    "        x = self.fc(x)\n",
    "        return F.log_softmax(x, dim=1)\n"
   ]
  },
  {
   "cell_type": "code",
   "execution_count": 52,
   "metadata": {},
   "outputs": [],
   "source": [
    "#  let's modify the initialize_model function to add the age classifier:\n",
    "\n",
    "\n",
    "from torchvision.models import resnet18, vgg16, densenet121, inception_v3, resnet50, resnet101\n",
    "from torchvision.models.densenet import DenseNet121_Weights\n",
    "\n",
    "def initialize_model(model_name, num_classes, num_body_regions, feature_extract, use_pretrained=True):\n",
    "    # Initialize these variables which will be set in this if statement. Each of these\n",
    "    #   variables is model specific.\n",
    "    model_ft = None\n",
    "    input_size = 0\n",
    "\n",
    "    if model_name == \"resnet\":\n",
    "        \"\"\" Resnet18, resnet34, resnet50, resnet101\n",
    "        \"\"\"\n",
    "        model_ft = resnet50(pretrained=use_pretrained)\n",
    "        set_parameter_requires_grad(model_ft, feature_extract)\n",
    "        num_ftrs = model_ft.fc.in_features\n",
    "        model_ft.fc = nn.Linear(num_ftrs, num_classes)\n",
    "        input_size = 224\n",
    "\n",
    "    elif model_name == \"vgg\":\n",
    "        \"\"\" VGG11_bn\n",
    "        \"\"\"\n",
    "        model_ft = vgg16_bn(pretrained=use_pretrained)\n",
    "        set_parameter_requires_grad(model_ft, feature_extract)\n",
    "        num_ftrs = model_ft.classifier[6].in_features\n",
    "        model_ft.classifier[6] = nn.Linear(num_ftrs,num_classes)\n",
    "        input_size = 224\n",
    "\n",
    "    # modified only this\n",
    "    elif model_name == \"densenet\":\n",
    "        \"\"\" Densenet121\n",
    "        \"\"\"\n",
    "        model_ft = densenet121(weights=DenseNet121_Weights.IMAGENET1K_V1 if use_pretrained else None)\n",
    "        set_parameter_requires_grad(model_ft, feature_extract)\n",
    "        num_ftrs = model_ft.classifier.in_features\n",
    "        model_ft.classifier = nn.Linear(num_ftrs, num_classes)\n",
    "        input_size = 224\n",
    "\n",
    "        localization_classifier = LocalizationClassifier(num_classes, num_body_regions)\n",
    "\n",
    "    elif model_name == \"inception\":\n",
    "        \"\"\" Inception v3\n",
    "        Be careful, expects (299,299) sized images and has auxiliary output\n",
    "        \"\"\"\n",
    "        model_ft = inception_v3(pretrained=use_pretrained)\n",
    "        set_parameter_requires_grad(model_ft, feature_extract)\n",
    "        # Handle the auxilary net\n",
    "        num_ftrs = model_ft.AuxLogits.fc.in_features\n",
    "        model_ft.AuxLogits.fc = nn.Linear(num_ftrs, num_classes)\n",
    "        # Handle the primary net\n",
    "        num_ftrs = model_ft.fc.in_features\n",
    "        model_ft.fc = nn.Linear(num_ftrs,num_classes)\n",
    "        input_size = 299\n",
    "\n",
    "    else:\n",
    "        print(\"Invalid model name, exiting...\")\n",
    "        exit()\n",
    "\n",
    "    return model_ft, localization_classifier, input_size\n",
    "\n"
   ]
  },
  {
   "cell_type": "code",
   "execution_count": 53,
   "metadata": {},
   "outputs": [],
   "source": [
    "# Initialize the model for this run\n",
    "model_name = 'densenet'\n",
    "num_classes = 7\n",
    "feature_extract = False\n",
    "\n",
    "num_body_regions = 4  # Define the number of body regions\n",
    "model_ft, localization_classifier, input_size = initialize_model(model_name, num_classes, num_body_regions, feature_extract, use_pretrained=True)\n",
    "localization_classifier = LocalizationClassifier(num_classes, num_body_regions)\n",
    "\n",
    "\n",
    "# Define the device:\n",
    "device = torch.device('cuda:3')\n",
    "# Put the model on the device:\n",
    "model = model_ft.to(device)\n",
    "\n",
    "localization_classifier = localization_classifier.to(device)\n",
    "\n"
   ]
  },
  {
   "cell_type": "code",
   "execution_count": 54,
   "metadata": {},
   "outputs": [],
   "source": [
    "train_transform = transforms.Compose([transforms.Resize((224, 224)),transforms.RandomHorizontalFlip(),\n",
    "                                      transforms.RandomVerticalFlip(),transforms.RandomRotation(20),\n",
    "                                      transforms.ColorJitter(brightness=0.1, contrast=0.1, hue=0.1),\n",
    "                                        transforms.ToTensor(), transforms.Normalize([0.5, 0.5, 0.5], [0.5, 0.5, 0.5])])\n",
    "# define the transformation of the val images.\n",
    "val_transform = transforms.Compose([transforms.Resize((224, 224)), transforms.ToTensor(),\n",
    "                                    transforms.Normalize([0.5, 0.5, 0.5], [0.5, 0.5, 0.5])])\n",
    "\n",
    "# define the transformation of the val images.\n",
    "test_transform = transforms.Compose([transforms.Resize((224, 224)), transforms.ToTensor(),\n",
    "                                    transforms.Normalize([0.5, 0.5, 0.5], [0.5, 0.5, 0.5])])"
   ]
  },
  {
   "cell_type": "code",
   "execution_count": 55,
   "metadata": {},
   "outputs": [],
   "source": [
    "class HAM10000(Dataset):\n",
    "    def __init__(self, df, transform=None):\n",
    "        self.df = df\n",
    "        self.transform = transform\n",
    "\n",
    "    def __len__(self):\n",
    "        return len(self.df)\n",
    "\n",
    "    def __getitem__(self, index):\n",
    "        # Load data and get label\n",
    "        X = Image.open(self.df['path'][index])\n",
    "        y = torch.tensor(int(self.df['cell_type_idx'][index]))\n",
    "        localization_mapping = {'Upper body': 0, 'Mid body': 1, 'Lower body': 2, 'unknown': 3}\n",
    "\n",
    "        localization = torch.tensor(localization_mapping[self.df['body_region'][index]])\n",
    "\n",
    "        if self.transform:\n",
    "            X = self.transform(X)\n",
    "\n",
    "        return X, y, localization\n",
    "\n"
   ]
  },
  {
   "cell_type": "code",
   "execution_count": 56,
   "metadata": {},
   "outputs": [],
   "source": [
    "# Define the training set using the table train_df and using our defined transitions (train_transform)\n",
    "training_set = HAM10000(df_train, transform=train_transform)\n",
    "train_loader = DataLoader(training_set, batch_size=32, shuffle=True, num_workers=4)\n",
    "\n",
    "\n",
    "# transform for the validation set\n",
    "validation_set = HAM10000(df_val, transform=val_transform)\n",
    "val_loader = DataLoader(validation_set, batch_size=32, shuffle=False, num_workers=4)\n",
    "# transform for the test  set (No jitter, rotations)\n",
    "test_set = HAM10000(df_test, transform=test_transform)\n",
    "test_loader = DataLoader(test_set, batch_size=32, shuffle=False, num_workers=4)"
   ]
  },
  {
   "cell_type": "markdown",
   "metadata": {},
   "source": [
    "## Adversarial Training"
   ]
  },
  {
   "cell_type": "code",
   "execution_count": 57,
   "metadata": {},
   "outputs": [],
   "source": [
    "# for classifier training\n",
    "\n",
    "\n",
    "# For the classifier training\n",
    "optimizer_localization = optim.SGD(localization_classifier.parameters(), lr=0.001, momentum=0.9)\n",
    "criterion_localization = nn.CrossEntropyLoss().to(device)\n",
    "\n",
    "\n",
    "\n",
    "\n",
    "# model training\n",
    "# we use Adam optimizer, use weighted-cross entropy loss as our loss function\n",
    "optimizer = optim.Adam(model.parameters(), lr=1e-3)\n",
    "criterion = nn.CrossEntropyLoss().to(device)\n",
    "\n"
   ]
  },
  {
   "cell_type": "code",
   "execution_count": 58,
   "metadata": {},
   "outputs": [],
   "source": [
    "class AverageMeter(object):\n",
    "    def __init__(self):\n",
    "        self.reset()\n",
    "\n",
    "    def reset(self):\n",
    "        self.val = 0\n",
    "        self.avg = 0\n",
    "        self.sum = 0\n",
    "        self.count = 0\n",
    "\n",
    "    def update(self, val, n=1):\n",
    "        self.val = val\n",
    "        self.sum += val * n\n",
    "        self.count += n\n",
    "        self.avg = self.sum / self.count"
   ]
  },
  {
   "cell_type": "code",
   "execution_count": 59,
   "metadata": {},
   "outputs": [],
   "source": [
    "def train(train_loader, model, localization_classifier, criterion, criterion_localization, optimizer, optimizer_localization, epoch):\n",
    "    model.train()\n",
    "    localization_classifier.train()\n",
    "    train_loss = AverageMeter()\n",
    "    train_acc = AverageMeter()\n",
    "    localization_loss_meter = AverageMeter()\n",
    "    localization_acc = AverageMeter()\n",
    "\n",
    "    curr_iter = (epoch - 1) * len(train_loader)\n",
    "    for i, data in enumerate(train_loader):\n",
    "        images, labels, localizations = data\n",
    "        N = images.size(0)\n",
    "        images = Variable(images).to(device)\n",
    "        labels = Variable(labels).to(device)\n",
    "        localizations = Variable(localizations).to(device)\n",
    "\n",
    "        optimizer.zero_grad()\n",
    "        optimizer_localization.zero_grad()\n",
    "\n",
    "        # Compute the model output and the localization classifier output\n",
    "        outputs = model(images)\n",
    "        localization_outputs = localization_classifier(GradientReversalLayer.apply(outputs))\n",
    "\n",
    "        # Compute the classification loss and the adversarial loss\n",
    "        loss = criterion(outputs, labels)\n",
    "        localization_loss = criterion_localization(localization_outputs, localizations)\n",
    "        total_loss = loss + 0.4 * localization_loss   # alpha (adversarial loss)\n",
    "\n",
    "        total_loss.backward()\n",
    "        optimizer.step()\n",
    "        optimizer_localization.step()\n",
    "\n",
    "        prediction = outputs.max(1, keepdim=True)[1]\n",
    "        train_acc.update(prediction.eq(labels.view_as(prediction)).sum().item()/N)\n",
    "        train_loss.update(loss.item())\n",
    "        \n",
    "        localization_prediction = localization_outputs.max(1, keepdim=True)[1]\n",
    "        localization_acc_value = localization_prediction.eq(localizations.view_as(localization_prediction)).sum().item()/N\n",
    "        localization_acc.update(localization_acc_value)\n",
    "        localization_loss_meter.update(localization_loss.item())\n",
    "\n",
    "        curr_iter += 1\n",
    "    \n",
    "    print('[epoch %d], [train loss %.5f], [train acc %.5f], [localization loss %.5f], [localization acc %.5f]' % (\n",
    "        epoch, train_loss.avg, train_acc.avg, localization_loss_meter.avg, localization_acc.avg))\n",
    "    total_loss_train.append(train_loss.avg)\n",
    "    total_acc_train.append(train_acc.avg)\n",
    "    return train_loss.avg, train_acc.avg, localization_loss_meter.avg, localization_acc.avg\n",
    "\n"
   ]
  },
  {
   "cell_type": "code",
   "execution_count": 62,
   "metadata": {},
   "outputs": [],
   "source": [
    "\n",
    "def validate(val_loader, model, localization_classifier, criterion, criterion_localization, optimizer, optimizer_localization, epoch):\n",
    "    model.eval()\n",
    "    localization_classifier.eval()\n",
    "    val_loss = AverageMeter()\n",
    "    val_acc = AverageMeter()\n",
    "    localization_loss_meter = AverageMeter()\n",
    "    localization_acc = AverageMeter()\n",
    "\n",
    "    with torch.no_grad():\n",
    "        for i, data in enumerate(val_loader):\n",
    "            images, labels, localizations = data\n",
    "            N = images.size(0)\n",
    "            images = Variable(images).to(device)\n",
    "            labels = Variable(labels).to(device)\n",
    "            localizations = Variable(localizations).to(device)\n",
    "\n",
    "            outputs = model(images)\n",
    "            prediction = outputs.max(1, keepdim=True)[1]\n",
    "            localization_outputs = localization_classifier(GradientReversalLayer.apply(outputs))\n",
    "            localization_prediction = localization_outputs.max(1, keepdim=True)[1]\n",
    "\n",
    "            val_acc.update(prediction.eq(labels.view_as(prediction)).sum().item()/N)\n",
    "            val_loss.update(criterion(outputs, labels).item())\n",
    "            localization_loss_meter.update(criterion_localization(localization_outputs, localizations).item())\n",
    "            localization_acc.update(localization_prediction.eq(localizations.view_as(localization_prediction)).sum().item()/N)\n",
    "\n",
    "    print('------------------------------------------------------------')\n",
    "    print('[epoch %d], [val loss %.5f], [val acc %.5f], [localization val loss %.5f], [localization val acc %.5f]' % (epoch, val_loss.avg, val_acc.avg, localization_loss_meter.avg, localization_acc.avg))\n",
    "    print('------------------------------------------------------------')\n",
    "    return val_loss.avg, val_acc.avg, localization_loss_meter.avg, localization_acc.avg\n"
   ]
  },
  {
   "cell_type": "code",
   "execution_count": 63,
   "metadata": {
    "scrolled": true
   },
   "outputs": [
    {
     "name": "stdout",
     "output_type": "stream",
     "text": [
      "[epoch 1], [train loss 0.68735], [train acc 0.74537], [localization loss 1.17940], [localization acc 0.46351]\n",
      "------------------------------------------------------------\n",
      "[epoch 1], [val loss 0.50011], [val acc 0.80658], [localization val loss 1.11633], [localization val acc 0.52204]\n",
      "------------------------------------------------------------\n",
      "*****************************************************\n",
      "best record: [epoch 1], [val loss 0.50011], [val acc 0.80658]\n",
      "*****************************************************\n",
      "[epoch 2], [train loss 0.55294], [train acc 0.78981], [localization loss 1.16729], [localization acc 0.44139]\n",
      "------------------------------------------------------------\n",
      "[epoch 2], [val loss 0.41896], [val acc 0.86133], [localization val loss 1.15714], [localization val acc 0.49582]\n",
      "------------------------------------------------------------\n",
      "*****************************************************\n",
      "best record: [epoch 2], [val loss 0.41896], [val acc 0.86133]\n",
      "*****************************************************\n",
      "[epoch 3], [train loss 0.45562], [train acc 0.82794], [localization loss 1.16558], [localization acc 0.41185]\n",
      "------------------------------------------------------------\n",
      "[epoch 3], [val loss 0.42707], [val acc 0.85314], [localization val loss 1.31169], [localization val acc 0.18665]\n",
      "------------------------------------------------------------\n",
      "[epoch 4], [train loss 0.39571], [train acc 0.84889], [localization loss 1.16937], [localization acc 0.40296]\n",
      "------------------------------------------------------------\n",
      "[epoch 4], [val loss 0.52964], [val acc 0.83850], [localization val loss 1.21848], [localization val acc 0.25637]\n",
      "------------------------------------------------------------\n",
      "[epoch 5], [train loss 0.54970], [train acc 0.81167], [localization loss 1.18385], [localization acc 0.41519]\n",
      "------------------------------------------------------------\n",
      "[epoch 5], [val loss 0.43408], [val acc 0.86427], [localization val loss 1.13833], [localization val acc 0.54990]\n",
      "------------------------------------------------------------\n",
      "*****************************************************\n",
      "best record: [epoch 5], [val loss 0.43408], [val acc 0.86427]\n",
      "*****************************************************\n",
      "[epoch 6], [train loss 0.35651], [train acc 0.86406], [localization loss 1.21740], [localization acc 0.40135]\n",
      "------------------------------------------------------------\n",
      "[epoch 6], [val loss 0.50445], [val acc 0.84811], [localization val loss 1.29954], [localization val acc 0.22774]\n",
      "------------------------------------------------------------\n",
      "[epoch 7], [train loss 0.37574], [train acc 0.86240], [localization loss 1.57638], [localization acc 0.39163]\n",
      "------------------------------------------------------------\n",
      "[epoch 7], [val loss 0.54603], [val acc 0.82002], [localization val loss 2.46375], [localization val acc 0.48553]\n",
      "------------------------------------------------------------\n",
      "[epoch 8], [train loss 3.02448], [train acc 0.37946], [localization loss 20.71663], [localization acc 0.35719]\n",
      "------------------------------------------------------------\n",
      "[epoch 8], [val loss 1.44700], [val acc 0.33734], [localization val loss 195.85581], [localization val acc 0.30159]\n",
      "------------------------------------------------------------\n",
      "[epoch 9], [train loss 62.89744], [train acc 0.22680], [localization loss 1411.80612], [localization acc 0.33576]\n",
      "------------------------------------------------------------\n",
      "[epoch 9], [val loss 9.56230], [val acc 0.04995], [localization val loss 5633.70350], [localization val acc 0.25668]\n",
      "------------------------------------------------------------\n",
      "[epoch 10], [train loss 254.54054], [train acc 0.18263], [localization loss 12464.60414], [localization acc 0.34294]\n",
      "------------------------------------------------------------\n",
      "[epoch 10], [val loss 18.54017], [val acc 0.07158], [localization val loss 24089.97900], [localization val acc 0.17637]\n",
      "------------------------------------------------------------\n",
      "[epoch 11], [train loss 476.69386], [train acc 0.17384], [localization loss 56793.62826], [localization acc 0.33399]\n",
      "------------------------------------------------------------\n",
      "[epoch 11], [val loss 18.06697], [val acc 0.52475], [localization val loss 69069.36103], [localization val acc 0.52956]\n",
      "------------------------------------------------------------\n",
      "[epoch 12], [train loss 907.37307], [train acc 0.18019], [localization loss 173270.31626], [localization acc 0.33486]\n",
      "------------------------------------------------------------\n",
      "[epoch 12], [val loss 82.35655], [val acc 0.06677], [localization val loss 244462.30589], [localization val acc 0.21243]\n",
      "------------------------------------------------------------\n",
      "[epoch 13], [train loss 1459.34914], [train acc 0.17247], [localization loss 451706.61784], [localization acc 0.33621]\n",
      "------------------------------------------------------------\n",
      "[epoch 13], [val loss 350.78361], [val acc 0.08066], [localization val loss 960928.18990], [localization val acc 0.25668]\n",
      "------------------------------------------------------------\n",
      "[epoch 14], [train loss 1908.79042], [train acc 0.17501], [localization loss 1007224.83842], [localization acc 0.33856]\n",
      "------------------------------------------------------------\n",
      "[epoch 14], [val loss 525.25925], [val acc 0.42410], [localization val loss 791965.60457], [localization val acc 0.44596]\n",
      "------------------------------------------------------------\n",
      "[epoch 15], [train loss 2972.40523], [train acc 0.16536], [localization loss 2047383.77399], [localization acc 0.33386]\n",
      "------------------------------------------------------------\n",
      "[epoch 15], [val loss 826.92922], [val acc 0.04251], [localization val loss 1544627.18269], [localization val acc 0.52956]\n",
      "------------------------------------------------------------\n",
      "[epoch 16], [train loss 4639.63952], [train acc 0.15799], [localization loss 3104443.45524], [localization acc 0.33310]\n",
      "------------------------------------------------------------\n",
      "[epoch 16], [val loss 1064.16968], [val acc 0.03868], [localization val loss 2342024.13702], [localization val acc 0.52956]\n",
      "------------------------------------------------------------\n",
      "[epoch 17], [train loss 7025.61178], [train acc 0.15175], [localization loss 5338245.93400], [localization acc 0.33666]\n",
      "------------------------------------------------------------\n",
      "[epoch 17], [val loss 1682.25091], [val acc 0.27733], [localization val loss 6703230.37500], [localization val acc 0.18425]\n",
      "------------------------------------------------------------\n",
      "[epoch 18], [train loss 11458.82018], [train acc 0.14815], [localization loss 8713323.44672], [localization acc 0.33454]\n",
      "------------------------------------------------------------\n",
      "[epoch 18], [val loss 2783.04401], [val acc 0.04995], [localization val loss 24184779.38462], [localization val acc 0.18425]\n",
      "------------------------------------------------------------\n",
      "[epoch 19], [train loss 15400.91218], [train acc 0.15657], [localization loss 12587394.30948], [localization acc 0.33308]\n",
      "------------------------------------------------------------\n",
      "[epoch 19], [val loss 3318.71727], [val acc 0.05355], [localization val loss 7609738.45192], [localization val acc 0.25690]\n",
      "------------------------------------------------------------\n",
      "[epoch 20], [train loss 18959.07507], [train acc 0.17835], [localization loss 22097609.15301], [localization acc 0.33708]\n",
      "------------------------------------------------------------\n",
      "[epoch 20], [val loss 3864.38748], [val acc 0.05618], [localization val loss 10762023.00000], [localization val acc 0.52956]\n",
      "------------------------------------------------------------\n",
      "[epoch 21], [train loss 23130.88804], [train acc 0.17406], [localization loss 35939751.80344], [localization acc 0.33960]\n",
      "------------------------------------------------------------\n",
      "[epoch 21], [val loss 4222.54303], [val acc 0.04634], [localization val loss 65607758.76923], [localization val acc 0.25668]\n",
      "------------------------------------------------------------\n",
      "[epoch 22], [train loss 27716.18567], [train acc 0.17006], [localization loss 45095922.82785], [localization acc 0.33409]\n",
      "------------------------------------------------------------\n",
      "[epoch 22], [val loss 2980.10058], [val acc 0.05475], [localization val loss 34416643.69231], [localization val acc 0.25668]\n",
      "------------------------------------------------------------\n"
     ]
    },
    {
     "name": "stdout",
     "output_type": "stream",
     "text": [
      "[epoch 23], [train loss 32338.64524], [train acc 0.19762], [localization loss 59326148.88695], [localization acc 0.33306]\n",
      "------------------------------------------------------------\n",
      "[epoch 23], [val loss 3846.90076], [val acc 0.05235], [localization val loss 142772912.00000], [localization val acc 0.18425]\n",
      "------------------------------------------------------------\n",
      "[epoch 24], [train loss 37116.32980], [train acc 0.19043], [localization loss 78422898.74358], [localization acc 0.32949]\n",
      "------------------------------------------------------------\n",
      "[epoch 24], [val loss 4782.61259], [val acc 0.04251], [localization val loss 81069303.23077], [localization val acc 0.52956]\n",
      "------------------------------------------------------------\n",
      "[epoch 25], [train loss 42231.85024], [train acc 0.18441], [localization loss 101765035.79959], [localization acc 0.33196]\n",
      "------------------------------------------------------------\n",
      "[epoch 25], [val loss 4702.85850], [val acc 0.05791], [localization val loss 65325840.15385], [localization val acc 0.33307]\n",
      "------------------------------------------------------------\n"
     ]
    }
   ],
   "source": [
    "\n",
    "epoch_num = 25\n",
    "best_val_acc = 0\n",
    "\n",
    "total_loss_train, total_acc_train, total_localization_loss_train, total_localization_acc_train = [], [], [], []\n",
    "total_loss_val, total_acc_val, total_localization_loss_val, total_localization_acc_val = [], [], [], []\n",
    "\n",
    "for epoch in range(1, epoch_num + 1):\n",
    "    # Train the model and the localization classifier\n",
    "    loss_train, acc_train, localization_loss_train, localization_acc_train = train(train_loader, model, localization_classifier, criterion, criterion_localization, optimizer, optimizer_localization, epoch)\n",
    "    \n",
    "    # Validate the model and the localization classifier\n",
    "    loss_val, acc_val, loss_val_localization, acc_val_localization = validate(val_loader, model, localization_classifier, criterion, criterion_localization, optimizer, optimizer_localization, epoch)\n",
    "    \n",
    "    total_loss_train.append(loss_train)\n",
    "    total_acc_train.append(acc_train)\n",
    "    total_localization_loss_train.append(localization_loss_train)\n",
    "    total_localization_acc_train.append(localization_acc_train)\n",
    "    \n",
    "    total_loss_val.append(loss_val)\n",
    "    total_acc_val.append(acc_val)\n",
    "    total_localization_loss_val.append(loss_val_localization)\n",
    "    total_localization_acc_val.append(acc_val_localization)\n",
    "    \n",
    "    if acc_val > best_val_acc:\n",
    "        best_val_acc = acc_val\n",
    "        torch.save(model.state_dict(), \"2_adversarial_learning_skin_lesion.pt\")\n",
    "        torch.save(localization_classifier.state_dict(), \"localization_classifier_skin_lesion.pt\")\n",
    "        print('*****************************************************')\n",
    "        print('best record: [epoch %d], [val loss %.5f], [val acc %.5f]' % (epoch, loss_val, acc_val))\n",
    "        print('*****************************************************')\n"
   ]
  },
  {
   "cell_type": "code",
   "execution_count": 64,
   "metadata": {},
   "outputs": [
    {
     "data": {
      "image/png": "[encoded data removed]",
      "text/plain": [
       "<Figure size 640x480 with 1 Axes>"
      ]
     },
     "metadata": {},
     "output_type": "display_data"
    },
    {
     "data": {
      "image/png": "[encoded data removed]",
      "text/plain": [
       "<Figure size 640x480 with 1 Axes>"
      ]
     },
     "metadata": {},
     "output_type": "display_data"
    }
   ],
   "source": [
    "\n",
    "\n",
    "plt.plot(total_loss_train, label='Train')\n",
    "plt.plot(total_loss_val, label='Validation')\n",
    "plt.title('Loss')\n",
    "plt.xlabel('Epoch')\n",
    "plt.ylabel('Loss')\n",
    "plt.legend()\n",
    "plt.grid()\n",
    "plt.show()\n",
    "\n",
    "# Plot the training and validation accuracy\n",
    "plt.plot(total_acc_train, label='Train')\n",
    "plt.plot(total_acc_val, label='Validation')\n",
    "plt.title('Accuracy')\n",
    "plt.xlabel('Epoch')\n",
    "plt.ylabel('Accuracy')\n",
    "plt.legend()\n",
    "plt.grid()\n",
    "plt.show()\n",
    "\n"
   ]
  },
  {
   "cell_type": "code",
   "execution_count": null,
   "metadata": {},
   "outputs": [],
   "source": []
  },
  {
   "cell_type": "code",
   "execution_count": null,
   "metadata": {},
   "outputs": [],
   "source": []
  },
  {
   "cell_type": "code",
   "execution_count": 65,
   "metadata": {},
   "outputs": [],
   "source": [
    "def plot_confusion_matrix(cm, classes,\n",
    "                          normalize=False,\n",
    "                          title='Confusion matrix',\n",
    "                          cmap=plt.cm.Blues):\n",
    "    \"\"\"\n",
    "    This function prints and plots the confusion matrix.\n",
    "    Normalization can be applied by setting `normalize=True`.\n",
    "    \"\"\"\n",
    "    plt.imshow(cm, interpolation='nearest', cmap=cmap)\n",
    "    plt.title(title)\n",
    "    plt.colorbar()\n",
    "    tick_marks = np.arange(len(classes))\n",
    "    plt.xticks(tick_marks, classes, rotation=45)\n",
    "    plt.yticks(tick_marks, classes)\n",
    "\n",
    "    if normalize:\n",
    "        cm = cm.astype('float') / cm.sum(axis=1)[:, np.newaxis]\n",
    "\n",
    "    thresh = cm.max() / 2.\n",
    "    for i, j in itertools.product(range(cm.shape[0]), range(cm.shape[1])):\n",
    "        plt.text(j, i, cm[i, j],\n",
    "                 horizontalalignment=\"center\",\n",
    "                 color=\"white\" if cm[i, j] > thresh else \"black\")\n",
    "\n",
    "    plt.tight_layout()\n",
    "    plt.ylabel('True label')\n",
    "    plt.xlabel('Predicted label')"
   ]
  },
  {
   "cell_type": "code",
   "execution_count": 66,
   "metadata": {},
   "outputs": [
    {
     "data": {
      "image/png": "[encoded data removed]",
      "text/plain": [
       "<Figure size 640x480 with 2 Axes>"
      ]
     },
     "metadata": {},
     "output_type": "display_data"
    }
   ],
   "source": [
    "# Load saved state dict of trained model\n",
    "\n",
    "\n",
    "\n",
    "state_dict = torch.load('2_adversarial_learning_skin_lesion.pt')\n",
    "model.load_state_dict(state_dict)\n",
    "\n",
    "\n",
    "model.eval()\n",
    "y_label = []\n",
    "y_predict = []\n",
    "with torch.no_grad():\n",
    "    for i, data in enumerate(test_loader):\n",
    "        images, labels, _ = data  # add \"_\" to unpack the age_groups\n",
    "        N = images.size(0)\n",
    "        images = Variable(images).to(device)\n",
    "        outputs = model(images)\n",
    "        prediction = outputs.max(1, keepdim=True)[1]\n",
    "        y_label.extend(labels.cpu().numpy())\n",
    "        y_predict.extend(np.squeeze(prediction.cpu().numpy().T))\n",
    "\n",
    "# compute the confusion matrix\n",
    "confusion_mtx = confusion_matrix(y_label, y_predict)\n",
    "# plot the confusion matrix\n",
    "plot_labels = ['akiec', 'bcc', 'bkl', 'df', 'nv', 'vasc','mel']\n",
    "plot_confusion_matrix(confusion_mtx, plot_labels)"
   ]
  },
  {
   "cell_type": "code",
   "execution_count": 67,
   "metadata": {},
   "outputs": [
    {
     "name": "stdout",
     "output_type": "stream",
     "text": [
      "              precision    recall  f1-score   support\n",
      "\n",
      "       akiec       0.49      0.76      0.60        51\n",
      "         bcc       0.74      0.75      0.74        60\n",
      "         bkl       0.56      0.68      0.61       151\n",
      "          df       0.32      0.92      0.48        12\n",
      "          nv       0.98      0.90      0.94      1560\n",
      "        vasc       0.70      0.95      0.81        22\n",
      "         mel       0.46      0.72      0.56        74\n",
      "\n",
      "    accuracy                           0.87      1930\n",
      "   macro avg       0.61      0.81      0.68      1930\n",
      "weighted avg       0.90      0.87      0.88      1930\n",
      "\n"
     ]
    }
   ],
   "source": [
    "# Generate a classification report\n",
    "report = classification_report(y_label, y_predict, target_names=plot_labels)\n",
    "print(report)"
   ]
  },
  {
   "cell_type": "markdown",
   "metadata": {},
   "source": [
    "## Bias Investigation"
   ]
  },
  {
   "cell_type": "markdown",
   "metadata": {},
   "source": [
    "### 4. Localization"
   ]
  },
  {
   "cell_type": "code",
   "execution_count": 68,
   "metadata": {},
   "outputs": [
    {
     "data": {
      "text/plain": [
       "lower extremity    428\n",
       "trunk              424\n",
       "back               346\n",
       "abdomen            242\n",
       "upper extremity    172\n",
       "face                76\n",
       "unknown             69\n",
       "foot                56\n",
       "chest               38\n",
       "neck                26\n",
       "genital             18\n",
       "hand                16\n",
       "scalp               12\n",
       "ear                  6\n",
       "acral                1\n",
       "Name: localization, dtype: int64"
      ]
     },
     "execution_count": 68,
     "metadata": {},
     "output_type": "execute_result"
    }
   ],
   "source": [
    "df_test['localization'].value_counts()"
   ]
  },
  {
   "cell_type": "code",
   "execution_count": 69,
   "metadata": {},
   "outputs": [],
   "source": [
    "body_regions = {\n",
    "    'Upper body': ['face', 'neck', 'scalp', 'ear', 'chest', 'upper extremity', 'hand'],\n",
    "    'Mid body': ['trunk', 'back', 'abdomen'],\n",
    "    'Lower body': ['lower extremity', 'foot', 'genital', 'acral']\n",
    "}\n",
    "\n",
    "localization_mapping = {area: region for region, areas in body_regions.items() for area in areas}\n"
   ]
  },
  {
   "cell_type": "code",
   "execution_count": 70,
   "metadata": {},
   "outputs": [
    {
     "data": {
      "text/plain": [
       "Mid body      1012\n",
       "Lower body     503\n",
       "Upper body     346\n",
       "unknown         69\n",
       "Name: body_region, dtype: int64"
      ]
     },
     "execution_count": 70,
     "metadata": {},
     "output_type": "execute_result"
    }
   ],
   "source": [
    "# add new column body region\n",
    "df_test['body_region'] = df_test['localization'].replace(localization_mapping)\n",
    "df_test['body_region'].value_counts()\n"
   ]
  },
  {
   "cell_type": "code",
   "execution_count": 71,
   "metadata": {},
   "outputs": [],
   "source": [
    "upper_body_df = df_test[df_test['localization'].isin(body_regions['Upper body'])].reset_index(drop=True)\n",
    "mid_body_df = df_test[df_test['localization'].isin(body_regions['Mid body'])].reset_index(drop=True)\n",
    "lower_body_df = df_test[df_test['localization'].isin(body_regions['Lower body'])].reset_index(drop=True)\n"
   ]
  },
  {
   "cell_type": "code",
   "execution_count": 81,
   "metadata": {},
   "outputs": [],
   "source": [
    "import numpy as np\n",
    "from sklearn.metrics import classification_report, confusion_matrix, accuracy_score\n",
    "\n",
    "\n",
    "def evaluate_body_region(body_region_test_loader, body_region_name):\n",
    "    model.eval()\n",
    "    y_label = []\n",
    "    y_predict = []\n",
    "    with torch.no_grad():\n",
    "        for i, data in enumerate(body_region_test_loader):\n",
    "            images, labels, _ = data  # Unpack all three values, ignore localizations with '_'\n",
    "            N = images.size(0)\n",
    "            images = Variable(images).to(device)\n",
    "            outputs = model(images)\n",
    "            prediction = outputs.max(1, keepdim=True)[1]\n",
    "            y_label.extend(labels.cpu().numpy())\n",
    "            y_predict.extend(np.squeeze(prediction.cpu().numpy().T))\n",
    "\n",
    "    # Compute the confusion matrix\n",
    "    confusion_mtx = confusion_matrix(y_label, y_predict)\n",
    "    \n",
    "    # Find unique labels in y_label and create a new target_names list\n",
    "    unique_labels = np.unique(y_label)\n",
    "    new_target_names = [plot_labels[i] for i in unique_labels]\n",
    "\n",
    "    # Plot the confusion matrix\n",
    "    plot_confusion_matrix(confusion_mtx, new_target_names)\n",
    "\n",
    "    # Print classification report with zero_division parameter set to 1\n",
    "    body_region_report = classification_report(y_label, y_predict, target_names=new_target_names, zero_division=1)\n",
    "    print(f\"{body_region_name} classification report:\")\n",
    "    print(body_region_report)\n",
    "\n",
    "    # Return the overall accuracy\n",
    "    return accuracy_score(y_label, y_predict)\n",
    "\n"
   ]
  },
  {
   "cell_type": "code",
   "execution_count": 82,
   "metadata": {},
   "outputs": [],
   "source": [
    "# Create test DataLoaders for each body region\n",
    "upper_body_test_set = HAM10000(upper_body_df, transform=test_transform)\n",
    "upper_body_test_loader = DataLoader(upper_body_test_set, batch_size=32, shuffle=False, num_workers=4)\n",
    "\n",
    "mid_body_test_set = HAM10000(mid_body_df, transform=test_transform)\n",
    "mid_body_test_loader = DataLoader(mid_body_test_set, batch_size=32, shuffle=False, num_workers=4)\n",
    "\n",
    "lower_body_test_set = HAM10000(lower_body_df, transform=test_transform)\n",
    "lower_body_test_loader = DataLoader(lower_body_test_set, batch_size=32, shuffle=False, num_workers=4)\n"
   ]
  },
  {
   "cell_type": "code",
   "execution_count": 83,
   "metadata": {},
   "outputs": [
    {
     "name": "stdout",
     "output_type": "stream",
     "text": [
      "Upper body classification report:\n",
      "              precision    recall  f1-score   support\n",
      "\n",
      "       akiec       0.58      0.81      0.67        36\n",
      "         bcc       0.70      0.67      0.68        21\n",
      "         bkl       0.60      0.66      0.63        70\n",
      "          df       0.25      0.67      0.36         3\n",
      "          nv       0.97      0.79      0.87       185\n",
      "        vasc       0.57      1.00      0.73         4\n",
      "         mel       0.61      0.74      0.67        27\n",
      "\n",
      "    accuracy                           0.75       346\n",
      "   macro avg       0.61      0.76      0.66       346\n",
      "weighted avg       0.80      0.75      0.77       346\n",
      "\n"
     ]
    },
    {
     "data": {
      "image/png": "[encoded data removed]",
      "text/plain": [
       "<Figure size 640x480 with 2 Axes>"
      ]
     },
     "metadata": {},
     "output_type": "display_data"
    }
   ],
   "source": [
    "upper_body_accuracy = evaluate_body_region(upper_body_test_loader, \"Upper body\")\n",
    "\n",
    "\n"
   ]
  },
  {
   "cell_type": "code",
   "execution_count": 84,
   "metadata": {},
   "outputs": [
    {
     "name": "stdout",
     "output_type": "stream",
     "text": [
      "Mid body classification report:\n",
      "              precision    recall  f1-score   support\n",
      "\n",
      "       akiec       0.26      0.56      0.36         9\n",
      "         bcc       0.77      0.82      0.79        28\n",
      "         bkl       0.45      0.67      0.54        51\n",
      "          df       0.09      1.00      0.17         1\n",
      "          nv       0.98      0.89      0.93       875\n",
      "        vasc       0.84      1.00      0.91        16\n",
      "         mel       0.34      0.62      0.44        32\n",
      "\n",
      "    accuracy                           0.87      1012\n",
      "   macro avg       0.53      0.79      0.59      1012\n",
      "weighted avg       0.92      0.87      0.89      1012\n",
      "\n"
     ]
    },
    {
     "data": {
      "image/png": "[encoded data removed]",
      "text/plain": [
       "<Figure size 640x480 with 2 Axes>"
      ]
     },
     "metadata": {},
     "output_type": "display_data"
    }
   ],
   "source": [
    "mid_body_accuracy = evaluate_body_region(mid_body_test_loader, \"Mid body\")"
   ]
  },
  {
   "cell_type": "code",
   "execution_count": 85,
   "metadata": {},
   "outputs": [
    {
     "name": "stdout",
     "output_type": "stream",
     "text": [
      "Lower body classification report:\n",
      "              precision    recall  f1-score   support\n",
      "\n",
      "       akiec       0.50      0.83      0.62         6\n",
      "         bcc       0.80      0.73      0.76        11\n",
      "         bkl       0.68      0.71      0.69        24\n",
      "          df       0.57      1.00      0.73         8\n",
      "          nv       0.99      0.95      0.97       439\n",
      "        vasc       0.33      0.50      0.40         2\n",
      "         mel       0.61      0.85      0.71        13\n",
      "\n",
      "    accuracy                           0.93       503\n",
      "   macro avg       0.64      0.80      0.70       503\n",
      "weighted avg       0.95      0.93      0.94       503\n",
      "\n"
     ]
    },
    {
     "data": {
      "image/png": "[encoded data removed]",
      "text/plain": [
       "<Figure size 640x480 with 2 Axes>"
      ]
     },
     "metadata": {},
     "output_type": "display_data"
    }
   ],
   "source": [
    "lower_body_accuracy = evaluate_body_region(lower_body_test_loader, \"Lower body\")"
   ]
  },
  {
   "cell_type": "code",
   "execution_count": 90,
   "metadata": {},
   "outputs": [
    {
     "data": {
      "image/png": "[encoded data removed]",
      "text/plain": [
       "<Figure size 640x480 with 1 Axes>"
      ]
     },
     "metadata": {},
     "output_type": "display_data"
    }
   ],
   "source": [
    "\n",
    "# Plot the bar chart with the accuracy values for each body region\n",
    "body_regions = [\"Upper body\", \"Mid body\", \"Lower body\"]\n",
    "fig, ax = plt.subplots()\n",
    "bars = ax.bar(body_regions, accuracies, width=0.4)\n",
    "\n",
    "plt.xlabel(\"Body Regions\")\n",
    "plt.ylabel(\"Test Accuracy\")\n",
    "plt.title(\"Accuracy of the Model for Different Body Regions\")\n",
    "plt.ylim(0, 1)\n",
    "\n",
    "# Function to add the accuracy values on top of the bars\n",
    "def add_values_on_bars(bars):\n",
    "    for bar in bars:\n",
    "        height = bar.get_height()\n",
    "        ax.annotate('{:.4f}'.format(height),\n",
    "                    xy=(bar.get_x() + bar.get_width() / 2, height),\n",
    "                    xytext=(0, 3),  # 3 points vertical offset\n",
    "                    textcoords=\"offset points\",\n",
    "                    ha='center', va='bottom')\n",
    "\n",
    "# Call the function to add the accuracy values on top of the bars\n",
    "add_values_on_bars(bars)\n",
    "\n",
    "# Display the plot\n",
    "plt.show()\n"
   ]
  },
  {
   "cell_type": "code",
   "execution_count": null,
   "metadata": {},
   "outputs": [],
   "source": []
  }
 ],
 "metadata": {
  "kernelspec": {
   "display_name": "Python 3 (ipykernel)",
   "language": "python",
   "name": "python3"
  },
  "language_info": {
   "codemirror_mode": {
    "name": "ipython",
    "version": 3
   },
   "file_extension": ".py",
   "mimetype": "text/x-python",
   "name": "python",
   "nbconvert_exporter": "python",
   "pygments_lexer": "ipython3",
   "version": "3.10.9"
  }
 },
 "nbformat": 4,
 "nbformat_minor": 4
}
