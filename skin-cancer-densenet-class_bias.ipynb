{
 "cells": [
  {
   "cell_type": "code",
   "execution_count": 1,
   "metadata": {
    "_cell_guid": "b1076dfc-b9ad-4769-8c92-a6c4dae69d19",
    "_uuid": "8f2839f25d086af736a60e9eeb907d3b93b6e0e5",
    "execution": {
     "iopub.execute_input": "2023-03-18T17:31:57.829169Z",
     "iopub.status.busy": "2023-03-18T17:31:57.828439Z",
     "iopub.status.idle": "2023-03-18T17:31:57.844792Z",
     "shell.execute_reply": "2023-03-18T17:31:57.843635Z",
     "shell.execute_reply.started": "2023-03-18T17:31:57.829125Z"
    }
   },
   "outputs": [
    {
     "name": "stdout",
     "output_type": "stream",
     "text": [
      "['HAM10000_metadata.csv', 'HAM10000_images_part_1', 'hmnist_8_8_L.csv', 'hmnist_28_28_RGB.csv', 'HAM10000_images_part_2', 'hmnist_8_8_RGB.csv', 'hmnist_28_28_L.csv']\n"
     ]
    }
   ],
   "source": [
    "%matplotlib inline\n",
    "# python libraties\n",
    "import os, cv2,itertools\n",
    "import matplotlib.pyplot as plt\n",
    "import numpy as np\n",
    "import pandas as pd\n",
    "from tqdm import tqdm\n",
    "from glob import glob\n",
    "from PIL import Image\n",
    "\n",
    "# pytorch libraries\n",
    "import torch\n",
    "from torch import optim,nn\n",
    "from torch.autograd import Variable\n",
    "from torch.utils.data import DataLoader,Dataset\n",
    "from torchvision import models,transforms\n",
    "\n",
    "# sklearn libraries\n",
    "from sklearn.metrics import confusion_matrix\n",
    "from sklearn.model_selection import train_test_split\n",
    "from sklearn.metrics import classification_report\n",
    "\n",
    "# to make the results are reproducible\n",
    "np.random.seed(10)\n",
    "torch.manual_seed(10)\n",
    "torch.cuda.manual_seed(10)\n",
    "\n",
    "print(os.listdir(\"dataset\"))"
   ]
  },
  {
   "cell_type": "code",
   "execution_count": 2,
   "metadata": {
    "execution": {
     "iopub.execute_input": "2023-03-18T17:31:57.847534Z",
     "iopub.status.busy": "2023-03-18T17:31:57.847063Z",
     "iopub.status.idle": "2023-03-18T17:31:57.963254Z",
     "shell.execute_reply": "2023-03-18T17:31:57.962279Z",
     "shell.execute_reply.started": "2023-03-18T17:31:57.847480Z"
    }
   },
   "outputs": [],
   "source": [
    "data_dir = 'dataset'\n",
    "all_image_path = glob(os.path.join(data_dir, '*', '*.jpg'))\n",
    "imageid_path_dict = {os.path.splitext(os.path.basename(x))[0]: x for x in all_image_path}\n",
    "lesion_type_dict = {\n",
    "    'nv': 'Melanocytic nevi',\n",
    "    'mel': 'dermatofibroma',\n",
    "    'bkl': 'Benign keratosis-like lesions ',\n",
    "    'bcc': 'Basal cell carcinoma',\n",
    "    'akiec': 'Actinic keratoses',\n",
    "    'vasc': 'Vascular lesions',\n",
    "    'df': 'Dermatofibroma'\n",
    "}"
   ]
  },
  {
   "cell_type": "code",
   "execution_count": 3,
   "metadata": {
    "execution": {
     "iopub.execute_input": "2023-03-18T17:31:57.965614Z",
     "iopub.status.busy": "2023-03-18T17:31:57.964681Z",
     "iopub.status.idle": "2023-03-18T17:31:57.974141Z",
     "shell.execute_reply": "2023-03-18T17:31:57.972742Z",
     "shell.execute_reply.started": "2023-03-18T17:31:57.965572Z"
    }
   },
   "outputs": [],
   "source": [
    "def compute_img_mean_std(image_paths):\n",
    "    \"\"\"\n",
    "        computing the mean and std of three channel on the whole dataset,\n",
    "        first we should normalize the image from 0-255 to 0-1\n",
    "    \"\"\"\n",
    "\n",
    "    img_h, img_w = 224, 224\n",
    "    imgs = []\n",
    "    means, stdevs = [], []\n",
    "\n",
    "    for i in tqdm(range(len(image_paths))):\n",
    "        img = cv2.imread(image_paths[i])\n",
    "        img = cv2.resize(img, (img_h, img_w))\n",
    "        imgs.append(img)\n",
    "\n",
    "    imgs = np.stack(imgs, axis=3)\n",
    "    print(imgs.shape)\n",
    "\n",
    "    imgs = imgs.astype(np.float32) / 255.\n",
    "\n",
    "    for i in range(3):\n",
    "        pixels = imgs[:, :, i, :].ravel()  # resize to one row\n",
    "        means.append(np.mean(pixels))\n",
    "        stdevs.append(np.std(pixels))\n",
    "\n",
    "    means.reverse()  # BGR --> RGB\n",
    "    stdevs.reverse()\n",
    "\n",
    "    print(\"normMean = {}\".format(means))\n",
    "    print(\"normStd = {}\".format(stdevs))\n",
    "    return means,stdevs"
   ]
  },
  {
   "cell_type": "code",
   "execution_count": 4,
   "metadata": {
    "execution": {
     "iopub.execute_input": "2023-03-18T17:31:57.978187Z",
     "iopub.status.busy": "2023-03-18T17:31:57.977129Z"
    }
   },
   "outputs": [
    {
     "name": "stderr",
     "output_type": "stream",
     "text": [
      "100%|█████████████████████████████████████████████████████████████████████████████| 10015/10015 [03:09<00:00, 52.91it/s]\n"
     ]
    },
    {
     "name": "stdout",
     "output_type": "stream",
     "text": [
      "(224, 224, 3, 10015)\n",
      "normMean = [0.76303905, 0.54564434, 0.5700453]\n",
      "normStd = [0.14092831, 0.15261248, 0.16997118]\n"
     ]
    }
   ],
   "source": [
    "norm_mean, norm_std = compute_img_mean_std(all_image_path)"
   ]
  },
  {
   "cell_type": "code",
   "execution_count": 5,
   "metadata": {},
   "outputs": [
    {
     "data": {
      "text/html": [
       "<div>\n",
       "<style scoped>\n",
       "    .dataframe tbody tr th:only-of-type {\n",
       "        vertical-align: middle;\n",
       "    }\n",
       "\n",
       "    .dataframe tbody tr th {\n",
       "        vertical-align: top;\n",
       "    }\n",
       "\n",
       "    .dataframe thead th {\n",
       "        text-align: right;\n",
       "    }\n",
       "</style>\n",
       "<table border=\"1\" class=\"dataframe\">\n",
       "  <thead>\n",
       "    <tr style=\"text-align: right;\">\n",
       "      <th></th>\n",
       "      <th>lesion_id</th>\n",
       "      <th>image_id</th>\n",
       "      <th>dx</th>\n",
       "      <th>dx_type</th>\n",
       "      <th>age</th>\n",
       "      <th>sex</th>\n",
       "      <th>localization</th>\n",
       "      <th>path</th>\n",
       "      <th>cell_type</th>\n",
       "      <th>cell_type_idx</th>\n",
       "    </tr>\n",
       "  </thead>\n",
       "  <tbody>\n",
       "    <tr>\n",
       "      <th>0</th>\n",
       "      <td>HAM_0000118</td>\n",
       "      <td>ISIC_0027419</td>\n",
       "      <td>bkl</td>\n",
       "      <td>histo</td>\n",
       "      <td>80.0</td>\n",
       "      <td>male</td>\n",
       "      <td>scalp</td>\n",
       "      <td>dataset/HAM10000_images_part_1/ISIC_0027419.jpg</td>\n",
       "      <td>Benign keratosis-like lesions</td>\n",
       "      <td>2</td>\n",
       "    </tr>\n",
       "    <tr>\n",
       "      <th>1</th>\n",
       "      <td>HAM_0000118</td>\n",
       "      <td>ISIC_0025030</td>\n",
       "      <td>bkl</td>\n",
       "      <td>histo</td>\n",
       "      <td>80.0</td>\n",
       "      <td>male</td>\n",
       "      <td>scalp</td>\n",
       "      <td>dataset/HAM10000_images_part_1/ISIC_0025030.jpg</td>\n",
       "      <td>Benign keratosis-like lesions</td>\n",
       "      <td>2</td>\n",
       "    </tr>\n",
       "    <tr>\n",
       "      <th>2</th>\n",
       "      <td>HAM_0002730</td>\n",
       "      <td>ISIC_0026769</td>\n",
       "      <td>bkl</td>\n",
       "      <td>histo</td>\n",
       "      <td>80.0</td>\n",
       "      <td>male</td>\n",
       "      <td>scalp</td>\n",
       "      <td>dataset/HAM10000_images_part_1/ISIC_0026769.jpg</td>\n",
       "      <td>Benign keratosis-like lesions</td>\n",
       "      <td>2</td>\n",
       "    </tr>\n",
       "    <tr>\n",
       "      <th>3</th>\n",
       "      <td>HAM_0002730</td>\n",
       "      <td>ISIC_0025661</td>\n",
       "      <td>bkl</td>\n",
       "      <td>histo</td>\n",
       "      <td>80.0</td>\n",
       "      <td>male</td>\n",
       "      <td>scalp</td>\n",
       "      <td>dataset/HAM10000_images_part_1/ISIC_0025661.jpg</td>\n",
       "      <td>Benign keratosis-like lesions</td>\n",
       "      <td>2</td>\n",
       "    </tr>\n",
       "    <tr>\n",
       "      <th>4</th>\n",
       "      <td>HAM_0001466</td>\n",
       "      <td>ISIC_0031633</td>\n",
       "      <td>bkl</td>\n",
       "      <td>histo</td>\n",
       "      <td>75.0</td>\n",
       "      <td>male</td>\n",
       "      <td>ear</td>\n",
       "      <td>dataset/HAM10000_images_part_2/ISIC_0031633.jpg</td>\n",
       "      <td>Benign keratosis-like lesions</td>\n",
       "      <td>2</td>\n",
       "    </tr>\n",
       "  </tbody>\n",
       "</table>\n",
       "</div>"
      ],
      "text/plain": [
       "     lesion_id      image_id   dx dx_type   age   sex localization  \\\n",
       "0  HAM_0000118  ISIC_0027419  bkl   histo  80.0  male        scalp   \n",
       "1  HAM_0000118  ISIC_0025030  bkl   histo  80.0  male        scalp   \n",
       "2  HAM_0002730  ISIC_0026769  bkl   histo  80.0  male        scalp   \n",
       "3  HAM_0002730  ISIC_0025661  bkl   histo  80.0  male        scalp   \n",
       "4  HAM_0001466  ISIC_0031633  bkl   histo  75.0  male          ear   \n",
       "\n",
       "                                              path  \\\n",
       "0  dataset/HAM10000_images_part_1/ISIC_0027419.jpg   \n",
       "1  dataset/HAM10000_images_part_1/ISIC_0025030.jpg   \n",
       "2  dataset/HAM10000_images_part_1/ISIC_0026769.jpg   \n",
       "3  dataset/HAM10000_images_part_1/ISIC_0025661.jpg   \n",
       "4  dataset/HAM10000_images_part_2/ISIC_0031633.jpg   \n",
       "\n",
       "                        cell_type  cell_type_idx  \n",
       "0  Benign keratosis-like lesions               2  \n",
       "1  Benign keratosis-like lesions               2  \n",
       "2  Benign keratosis-like lesions               2  \n",
       "3  Benign keratosis-like lesions               2  \n",
       "4  Benign keratosis-like lesions               2  "
      ]
     },
     "execution_count": 5,
     "metadata": {},
     "output_type": "execute_result"
    }
   ],
   "source": [
    "df_original = pd.read_csv(os.path.join(data_dir, 'HAM10000_metadata.csv'))\n",
    "df_original['path'] = df_original['image_id'].map(imageid_path_dict.get)\n",
    "df_original['cell_type'] = df_original['dx'].map(lesion_type_dict.get)\n",
    "df_original['cell_type_idx'] = pd.Categorical(df_original['cell_type']).codes\n",
    "df_original.head()"
   ]
  },
  {
   "cell_type": "code",
   "execution_count": 6,
   "metadata": {},
   "outputs": [
    {
     "name": "stdout",
     "output_type": "stream",
     "text": [
      "male       5406\n",
      "female     4552\n",
      "unknown      57\n",
      "Name: sex, dtype: int64\n"
     ]
    }
   ],
   "source": [
    "# Count the number of females and males in the dataset\n",
    "gender_counts = df_original['sex'].value_counts()\n",
    "print(gender_counts)\n"
   ]
  },
  {
   "cell_type": "code",
   "execution_count": 7,
   "metadata": {},
   "outputs": [
    {
     "data": {
      "text/html": [
       "<div>\n",
       "<style scoped>\n",
       "    .dataframe tbody tr th:only-of-type {\n",
       "        vertical-align: middle;\n",
       "    }\n",
       "\n",
       "    .dataframe tbody tr th {\n",
       "        vertical-align: top;\n",
       "    }\n",
       "\n",
       "    .dataframe thead th {\n",
       "        text-align: right;\n",
       "    }\n",
       "</style>\n",
       "<table border=\"1\" class=\"dataframe\">\n",
       "  <thead>\n",
       "    <tr style=\"text-align: right;\">\n",
       "      <th></th>\n",
       "      <th>lesion_id</th>\n",
       "      <th>image_id</th>\n",
       "      <th>dx</th>\n",
       "      <th>dx_type</th>\n",
       "      <th>age</th>\n",
       "      <th>sex</th>\n",
       "      <th>localization</th>\n",
       "      <th>path</th>\n",
       "      <th>cell_type</th>\n",
       "      <th>cell_type_idx</th>\n",
       "    </tr>\n",
       "  </thead>\n",
       "  <tbody>\n",
       "    <tr>\n",
       "      <th>0</th>\n",
       "      <td>HAM_0000001</td>\n",
       "      <td>1</td>\n",
       "      <td>1</td>\n",
       "      <td>1</td>\n",
       "      <td>1</td>\n",
       "      <td>1</td>\n",
       "      <td>1</td>\n",
       "      <td>1</td>\n",
       "      <td>1</td>\n",
       "      <td>1</td>\n",
       "    </tr>\n",
       "    <tr>\n",
       "      <th>1</th>\n",
       "      <td>HAM_0000003</td>\n",
       "      <td>1</td>\n",
       "      <td>1</td>\n",
       "      <td>1</td>\n",
       "      <td>1</td>\n",
       "      <td>1</td>\n",
       "      <td>1</td>\n",
       "      <td>1</td>\n",
       "      <td>1</td>\n",
       "      <td>1</td>\n",
       "    </tr>\n",
       "    <tr>\n",
       "      <th>2</th>\n",
       "      <td>HAM_0000004</td>\n",
       "      <td>1</td>\n",
       "      <td>1</td>\n",
       "      <td>1</td>\n",
       "      <td>1</td>\n",
       "      <td>1</td>\n",
       "      <td>1</td>\n",
       "      <td>1</td>\n",
       "      <td>1</td>\n",
       "      <td>1</td>\n",
       "    </tr>\n",
       "    <tr>\n",
       "      <th>3</th>\n",
       "      <td>HAM_0000007</td>\n",
       "      <td>1</td>\n",
       "      <td>1</td>\n",
       "      <td>1</td>\n",
       "      <td>1</td>\n",
       "      <td>1</td>\n",
       "      <td>1</td>\n",
       "      <td>1</td>\n",
       "      <td>1</td>\n",
       "      <td>1</td>\n",
       "    </tr>\n",
       "    <tr>\n",
       "      <th>4</th>\n",
       "      <td>HAM_0000008</td>\n",
       "      <td>1</td>\n",
       "      <td>1</td>\n",
       "      <td>1</td>\n",
       "      <td>1</td>\n",
       "      <td>1</td>\n",
       "      <td>1</td>\n",
       "      <td>1</td>\n",
       "      <td>1</td>\n",
       "      <td>1</td>\n",
       "    </tr>\n",
       "  </tbody>\n",
       "</table>\n",
       "</div>"
      ],
      "text/plain": [
       "     lesion_id  image_id  dx  dx_type  age  sex  localization  path  \\\n",
       "0  HAM_0000001         1   1        1    1    1             1     1   \n",
       "1  HAM_0000003         1   1        1    1    1             1     1   \n",
       "2  HAM_0000004         1   1        1    1    1             1     1   \n",
       "3  HAM_0000007         1   1        1    1    1             1     1   \n",
       "4  HAM_0000008         1   1        1    1    1             1     1   \n",
       "\n",
       "   cell_type  cell_type_idx  \n",
       "0          1              1  \n",
       "1          1              1  \n",
       "2          1              1  \n",
       "3          1              1  \n",
       "4          1              1  "
      ]
     },
     "execution_count": 7,
     "metadata": {},
     "output_type": "execute_result"
    }
   ],
   "source": [
    "# this will tell us how many images are associated with each lesion_id\n",
    "df_undup = df_original.groupby('lesion_id').count()\n",
    "# now we filter out lesion_id's that have only one image associated with it\n",
    "df_undup = df_undup[df_undup['image_id'] == 1]\n",
    "df_undup.reset_index(inplace=True)\n",
    "df_undup.head()"
   ]
  },
  {
   "cell_type": "code",
   "execution_count": 8,
   "metadata": {},
   "outputs": [
    {
     "data": {
      "text/html": [
       "<div>\n",
       "<style scoped>\n",
       "    .dataframe tbody tr th:only-of-type {\n",
       "        vertical-align: middle;\n",
       "    }\n",
       "\n",
       "    .dataframe tbody tr th {\n",
       "        vertical-align: top;\n",
       "    }\n",
       "\n",
       "    .dataframe thead th {\n",
       "        text-align: right;\n",
       "    }\n",
       "</style>\n",
       "<table border=\"1\" class=\"dataframe\">\n",
       "  <thead>\n",
       "    <tr style=\"text-align: right;\">\n",
       "      <th></th>\n",
       "      <th>lesion_id</th>\n",
       "      <th>image_id</th>\n",
       "      <th>dx</th>\n",
       "      <th>dx_type</th>\n",
       "      <th>age</th>\n",
       "      <th>sex</th>\n",
       "      <th>localization</th>\n",
       "      <th>path</th>\n",
       "      <th>cell_type</th>\n",
       "      <th>cell_type_idx</th>\n",
       "      <th>duplicates</th>\n",
       "    </tr>\n",
       "  </thead>\n",
       "  <tbody>\n",
       "    <tr>\n",
       "      <th>0</th>\n",
       "      <td>HAM_0000118</td>\n",
       "      <td>ISIC_0027419</td>\n",
       "      <td>bkl</td>\n",
       "      <td>histo</td>\n",
       "      <td>80.0</td>\n",
       "      <td>male</td>\n",
       "      <td>scalp</td>\n",
       "      <td>dataset/HAM10000_images_part_1/ISIC_0027419.jpg</td>\n",
       "      <td>Benign keratosis-like lesions</td>\n",
       "      <td>2</td>\n",
       "      <td>duplicated</td>\n",
       "    </tr>\n",
       "    <tr>\n",
       "      <th>1</th>\n",
       "      <td>HAM_0000118</td>\n",
       "      <td>ISIC_0025030</td>\n",
       "      <td>bkl</td>\n",
       "      <td>histo</td>\n",
       "      <td>80.0</td>\n",
       "      <td>male</td>\n",
       "      <td>scalp</td>\n",
       "      <td>dataset/HAM10000_images_part_1/ISIC_0025030.jpg</td>\n",
       "      <td>Benign keratosis-like lesions</td>\n",
       "      <td>2</td>\n",
       "      <td>duplicated</td>\n",
       "    </tr>\n",
       "    <tr>\n",
       "      <th>2</th>\n",
       "      <td>HAM_0002730</td>\n",
       "      <td>ISIC_0026769</td>\n",
       "      <td>bkl</td>\n",
       "      <td>histo</td>\n",
       "      <td>80.0</td>\n",
       "      <td>male</td>\n",
       "      <td>scalp</td>\n",
       "      <td>dataset/HAM10000_images_part_1/ISIC_0026769.jpg</td>\n",
       "      <td>Benign keratosis-like lesions</td>\n",
       "      <td>2</td>\n",
       "      <td>duplicated</td>\n",
       "    </tr>\n",
       "    <tr>\n",
       "      <th>3</th>\n",
       "      <td>HAM_0002730</td>\n",
       "      <td>ISIC_0025661</td>\n",
       "      <td>bkl</td>\n",
       "      <td>histo</td>\n",
       "      <td>80.0</td>\n",
       "      <td>male</td>\n",
       "      <td>scalp</td>\n",
       "      <td>dataset/HAM10000_images_part_1/ISIC_0025661.jpg</td>\n",
       "      <td>Benign keratosis-like lesions</td>\n",
       "      <td>2</td>\n",
       "      <td>duplicated</td>\n",
       "    </tr>\n",
       "    <tr>\n",
       "      <th>4</th>\n",
       "      <td>HAM_0001466</td>\n",
       "      <td>ISIC_0031633</td>\n",
       "      <td>bkl</td>\n",
       "      <td>histo</td>\n",
       "      <td>75.0</td>\n",
       "      <td>male</td>\n",
       "      <td>ear</td>\n",
       "      <td>dataset/HAM10000_images_part_2/ISIC_0031633.jpg</td>\n",
       "      <td>Benign keratosis-like lesions</td>\n",
       "      <td>2</td>\n",
       "      <td>duplicated</td>\n",
       "    </tr>\n",
       "  </tbody>\n",
       "</table>\n",
       "</div>"
      ],
      "text/plain": [
       "     lesion_id      image_id   dx dx_type   age   sex localization  \\\n",
       "0  HAM_0000118  ISIC_0027419  bkl   histo  80.0  male        scalp   \n",
       "1  HAM_0000118  ISIC_0025030  bkl   histo  80.0  male        scalp   \n",
       "2  HAM_0002730  ISIC_0026769  bkl   histo  80.0  male        scalp   \n",
       "3  HAM_0002730  ISIC_0025661  bkl   histo  80.0  male        scalp   \n",
       "4  HAM_0001466  ISIC_0031633  bkl   histo  75.0  male          ear   \n",
       "\n",
       "                                              path  \\\n",
       "0  dataset/HAM10000_images_part_1/ISIC_0027419.jpg   \n",
       "1  dataset/HAM10000_images_part_1/ISIC_0025030.jpg   \n",
       "2  dataset/HAM10000_images_part_1/ISIC_0026769.jpg   \n",
       "3  dataset/HAM10000_images_part_1/ISIC_0025661.jpg   \n",
       "4  dataset/HAM10000_images_part_2/ISIC_0031633.jpg   \n",
       "\n",
       "                        cell_type  cell_type_idx  duplicates  \n",
       "0  Benign keratosis-like lesions               2  duplicated  \n",
       "1  Benign keratosis-like lesions               2  duplicated  \n",
       "2  Benign keratosis-like lesions               2  duplicated  \n",
       "3  Benign keratosis-like lesions               2  duplicated  \n",
       "4  Benign keratosis-like lesions               2  duplicated  "
      ]
     },
     "execution_count": 8,
     "metadata": {},
     "output_type": "execute_result"
    }
   ],
   "source": [
    "# here we identify lesion_id's that have duplicate images and those that have only one image.\n",
    "def get_duplicates(x):\n",
    "    unique_list = list(df_undup['lesion_id'])\n",
    "    if x in unique_list:\n",
    "        return 'unduplicated'\n",
    "    else:\n",
    "        return 'duplicated'\n",
    "\n",
    "# create a new colum that is a copy of the lesion_id column\n",
    "df_original['duplicates'] = df_original['lesion_id']\n",
    "# apply the function to this new column\n",
    "df_original['duplicates'] = df_original['duplicates'].apply(get_duplicates)\n",
    "df_original.head()"
   ]
  },
  {
   "cell_type": "code",
   "execution_count": 9,
   "metadata": {},
   "outputs": [
    {
     "data": {
      "text/plain": [
       "unduplicated    5514\n",
       "duplicated      4501\n",
       "Name: duplicates, dtype: int64"
      ]
     },
     "execution_count": 9,
     "metadata": {},
     "output_type": "execute_result"
    }
   ],
   "source": [
    "df_original['duplicates'].value_counts()"
   ]
  },
  {
   "cell_type": "code",
   "execution_count": 10,
   "metadata": {},
   "outputs": [
    {
     "data": {
      "text/plain": [
       "(5514, 11)"
      ]
     },
     "execution_count": 10,
     "metadata": {},
     "output_type": "execute_result"
    }
   ],
   "source": [
    "# now we filter out images that don't have duplicates\n",
    "df_undup = df_original[df_original['duplicates'] == 'unduplicated']\n",
    "df_undup.shape"
   ]
  },
  {
   "cell_type": "code",
   "execution_count": 11,
   "metadata": {},
   "outputs": [
    {
     "data": {
      "text/plain": [
       "((2757, 11), (2757, 11))"
      ]
     },
     "execution_count": 11,
     "metadata": {},
     "output_type": "execute_result"
    }
   ],
   "source": [
    "y = df_undup['cell_type_idx']\n",
    "df_train, df_val = train_test_split(df_undup, test_size=0.5, random_state=101, stratify=y)\n",
    "df_train.shape, df_val.shape"
   ]
  },
  {
   "cell_type": "code",
   "execution_count": 12,
   "metadata": {},
   "outputs": [
    {
     "name": "stdout",
     "output_type": "stream",
     "text": [
      "Training dataset:\n",
      "Males: 1435\n",
      "Females: 1300\n",
      "\n",
      "Validation dataset:\n",
      "Males: 1472\n",
      "Females: 1262\n"
     ]
    }
   ],
   "source": [
    "# Calculate the number of males and females in the train dataset\n",
    "train_male_count = len(df_train[df_train['sex'] == 'male'])\n",
    "train_female_count = len(df_train[df_train['sex'] == 'female'])\n",
    "\n",
    "# Calculate the number of males and females in the validation dataset\n",
    "val_male_count = len(df_val[df_val['sex'] == 'male'])\n",
    "val_female_count = len(df_val[df_val['sex'] == 'female'])\n",
    "\n",
    "print(\"Training dataset:\")\n",
    "print(f\"Males: {train_male_count}\")\n",
    "print(f\"Females: {train_female_count}\")\n",
    "\n",
    "print(\"\\nValidation dataset:\")\n",
    "print(f\"Males: {val_male_count}\")\n",
    "print(f\"Females: {val_female_count}\")\n"
   ]
  },
  {
   "cell_type": "code",
   "execution_count": 13,
   "metadata": {},
   "outputs": [
    {
     "data": {
      "text/plain": [
       "4    2208\n",
       "2     220\n",
       "6     115\n",
       "1      88\n",
       "0      75\n",
       "5      32\n",
       "3      19\n",
       "Name: cell_type_idx, dtype: int64"
      ]
     },
     "execution_count": 13,
     "metadata": {},
     "output_type": "execute_result"
    }
   ],
   "source": [
    "df_val['cell_type_idx'].value_counts()"
   ]
  },
  {
   "cell_type": "code",
   "execution_count": 14,
   "metadata": {},
   "outputs": [
    {
     "data": {
      "text/plain": [
       "4    2207\n",
       "2     220\n",
       "6     115\n",
       "1      87\n",
       "0      76\n",
       "5      32\n",
       "3      20\n",
       "Name: cell_type_idx, dtype: int64"
      ]
     },
     "execution_count": 14,
     "metadata": {},
     "output_type": "execute_result"
    }
   ],
   "source": [
    "df_train['cell_type_idx'].value_counts()"
   ]
  },
  {
   "cell_type": "code",
   "execution_count": 15,
   "metadata": {},
   "outputs": [
    {
     "name": "stdout",
     "output_type": "stream",
     "text": [
      "Training dataset: 7258\n",
      "Validation dataset: 2757\n"
     ]
    }
   ],
   "source": [
    "# This set will be df_original excluding all rows that are in the val set\n",
    "# This function identifies if an image is part of the train or val set.\n",
    "def get_val_rows(x):\n",
    "    # create a list of all the lesion_id's in the val set\n",
    "    val_list = list(df_val['image_id'])\n",
    "    if str(x) in val_list:\n",
    "        return 'val'\n",
    "    else:\n",
    "        return 'train'\n",
    "\n",
    "# identify train and val rows\n",
    "# create a new colum that is a copy of the image_id column\n",
    "df_original['train_or_val'] = df_original['image_id']\n",
    "# apply the function to this new column\n",
    "df_original['train_or_val'] = df_original['train_or_val'].apply(get_val_rows)\n",
    "# filter out train rows\n",
    "df_train = df_original[df_original['train_or_val'] == 'train']\n",
    "print(f\"Training dataset: {len(df_train)}\")\n",
    "print(f\"Validation dataset: { len(df_val)}\")"
   ]
  },
  {
   "cell_type": "code",
   "execution_count": 16,
   "metadata": {},
   "outputs": [
    {
     "name": "stdout",
     "output_type": "stream",
     "text": [
      "Training dataset:\n",
      "Males: 3934\n",
      "Females: 3290\n",
      "\n",
      "Validation dataset:\n",
      "Males: 1472\n",
      "Females: 1262\n"
     ]
    }
   ],
   "source": [
    "# Calculate the number of males and females in the train dataset\n",
    "train_male_count = len(df_train[df_train['sex'] == 'male'])\n",
    "train_female_count = len(df_train[df_train['sex'] == 'female'])\n",
    "\n",
    "# Calculate the number of males and females in the validation dataset\n",
    "val_male_count = len(df_val[df_val['sex'] == 'male'])\n",
    "val_female_count = len(df_val[df_val['sex'] == 'female'])\n",
    "\n",
    "print(\"Training dataset:\")\n",
    "print(f\"Males: {train_male_count}\")\n",
    "print(f\"Females: {train_female_count}\")\n",
    "\n",
    "print(\"\\nValidation dataset:\")\n",
    "print(f\"Males: {val_male_count}\")\n",
    "print(f\"Females: {val_female_count}\")\n"
   ]
  },
  {
   "cell_type": "code",
   "execution_count": 17,
   "metadata": {},
   "outputs": [
    {
     "data": {
      "text/plain": [
       "4    4497\n",
       "6     998\n",
       "2     879\n",
       "1     426\n",
       "0     252\n",
       "5     110\n",
       "3      96\n",
       "Name: cell_type_idx, dtype: int64"
      ]
     },
     "execution_count": 17,
     "metadata": {},
     "output_type": "execute_result"
    }
   ],
   "source": [
    "df_train['cell_type_idx'].value_counts()"
   ]
  },
  {
   "cell_type": "code",
   "execution_count": 18,
   "metadata": {},
   "outputs": [
    {
     "data": {
      "text/plain": [
       "Melanocytic nevi                  2208\n",
       "Benign keratosis-like lesions      220\n",
       "dermatofibroma                     115\n",
       "Basal cell carcinoma                88\n",
       "Actinic keratoses                   75\n",
       "Vascular lesions                    32\n",
       "Dermatofibroma                      19\n",
       "Name: cell_type, dtype: int64"
      ]
     },
     "execution_count": 18,
     "metadata": {},
     "output_type": "execute_result"
    }
   ],
   "source": [
    "df_val['cell_type'].value_counts()"
   ]
  },
  {
   "cell_type": "code",
   "execution_count": 19,
   "metadata": {},
   "outputs": [
    {
     "data": {
      "text/plain": [
       "male       3934\n",
       "female     3290\n",
       "unknown      34\n",
       "Name: sex, dtype: int64"
      ]
     },
     "execution_count": 19,
     "metadata": {},
     "output_type": "execute_result"
    }
   ],
   "source": [
    "df_train['sex'].value_counts()"
   ]
  },
  {
   "cell_type": "code",
   "execution_count": 20,
   "metadata": {},
   "outputs": [
    {
     "data": {
      "text/plain": [
       "45.0    835\n",
       "50.0    786\n",
       "55.0    686\n",
       "40.0    666\n",
       "70.0    605\n",
       "60.0    572\n",
       "65.0    567\n",
       "35.0    539\n",
       "75.0    477\n",
       "30.0    363\n",
       "80.0    312\n",
       "85.0    254\n",
       "25.0    194\n",
       "20.0    146\n",
       "15.0     74\n",
       "5.0      74\n",
       "0.0      38\n",
       "10.0     37\n",
       "Name: age, dtype: int64"
      ]
     },
     "execution_count": 20,
     "metadata": {},
     "output_type": "execute_result"
    }
   ],
   "source": [
    "df_train['age'].value_counts()"
   ]
  },
  {
   "cell_type": "code",
   "execution_count": 21,
   "metadata": {},
   "outputs": [
    {
     "data": {
      "text/plain": [
       "back               1691\n",
       "lower extremity    1461\n",
       "upper extremity     879\n",
       "trunk               803\n",
       "abdomen             674\n",
       "face                630\n",
       "chest               350\n",
       "foot                240\n",
       "unknown             141\n",
       "neck                132\n",
       "scalp               109\n",
       "hand                 66\n",
       "ear                  48\n",
       "genital              28\n",
       "acral                 6\n",
       "Name: localization, dtype: int64"
      ]
     },
     "execution_count": 21,
     "metadata": {},
     "output_type": "execute_result"
    }
   ],
   "source": [
    "df_train['localization'].value_counts()"
   ]
  },
  {
   "cell_type": "markdown",
   "metadata": {},
   "source": [
    "## Bias Mitigation: Data Augmentation (Oversampling training data)"
   ]
  },
  {
   "cell_type": "code",
   "execution_count": 22,
   "metadata": {},
   "outputs": [
    {
     "name": "stderr",
     "output_type": "stream",
     "text": [
      "/tmp/ipykernel_4130930/2085359477.py:5: FutureWarning: The frame.append method is deprecated and will be removed from pandas in a future version. Use pandas.concat instead.\n",
      "  df_train=df_train.append([df_train.loc[df_train['cell_type_idx'] == i,:]]*(data_aug_rate[i]-1), ignore_index=True)\n"
     ]
    },
    {
     "data": {
      "text/plain": [
       "dermatofibroma                    4990\n",
       "Dermatofibroma                    4800\n",
       "Melanocytic nevi                  4497\n",
       "Vascular lesions                  4400\n",
       "Benign keratosis-like lesions     4395\n",
       "Basal cell carcinoma              4260\n",
       "Actinic keratoses                 3780\n",
       "Name: cell_type, dtype: int64"
      ]
     },
     "execution_count": 22,
     "metadata": {},
     "output_type": "execute_result"
    }
   ],
   "source": [
    "# # Copy fewer class to balance the number of 7 classes\n",
    "data_aug_rate = [15,10,5,50,0,40,5]\n",
    "for i in range(7):\n",
    "    if data_aug_rate[i]:\n",
    "        df_train=df_train.append([df_train.loc[df_train['cell_type_idx'] == i,:]]*(data_aug_rate[i]-1), ignore_index=True)\n",
    "df_train['cell_type'].value_counts()"
   ]
  },
  {
   "cell_type": "code",
   "execution_count": 23,
   "metadata": {},
   "outputs": [],
   "source": [
    "# split validation into val and test\n",
    "df_val, df_test = train_test_split(df_val, test_size=0.7)  \n",
    "df_train = df_train.reset_index()\n",
    "df_val = df_val.reset_index()\n",
    "df_test = df_test.reset_index()\n"
   ]
  },
  {
   "cell_type": "code",
   "execution_count": 50,
   "metadata": {},
   "outputs": [
    {
     "name": "stdout",
     "output_type": "stream",
     "text": [
      " Training dataset size: 31122\n",
      " Testing dataset size: 1930\n",
      " Validation dataset size: 827\n"
     ]
    }
   ],
   "source": [
    "print(f\" Training dataset size: {len(df_train)}\")\n",
    "print(f\" Testing dataset size: {len(df_test)}\")\n",
    "print(f\" Validation dataset size: {len(df_val)}\")"
   ]
  },
  {
   "cell_type": "code",
   "execution_count": 51,
   "metadata": {},
   "outputs": [],
   "source": [
    "# feature_extract is a boolean that defines if we are finetuning or feature extracting. \n",
    "# If feature_extract = False, the model is finetuned and all model parameters are updated. \n",
    "# If feature_extract = True, only the last layer parameters are updated, the others remain fixed.\n",
    "def set_parameter_requires_grad(model, feature_extracting):\n",
    "    if feature_extracting:\n",
    "        for param in model.parameters():\n",
    "            param.requires_grad = False"
   ]
  },
  {
   "cell_type": "code",
   "execution_count": 52,
   "metadata": {},
   "outputs": [],
   "source": [
    "\n",
    "\n",
    "from torchvision.models import resnet18, vgg16, densenet121, inception_v3, resnet50, resnet101\n",
    "from torchvision.models.densenet import DenseNet121_Weights\n",
    "\n",
    "def initialize_model(model_name, num_classes, feature_extract, use_pretrained=True):\n",
    "    # Initialize these variables which will be set in this if statement. Each of these\n",
    "    #   variables is model specific.\n",
    "    model_ft = None\n",
    "    input_size = 0\n",
    "\n",
    "    if model_name == \"resnet\":\n",
    "        \"\"\" Resnet18, resnet34, resnet50, resnet101\n",
    "        \"\"\"\n",
    "        model_ft = resnet50(pretrained=use_pretrained)\n",
    "        set_parameter_requires_grad(model_ft, feature_extract)\n",
    "        num_ftrs = model_ft.fc.in_features\n",
    "        model_ft.fc = nn.Linear(num_ftrs, num_classes)\n",
    "        input_size = 224\n",
    "\n",
    "    elif model_name == \"vgg\":\n",
    "        \"\"\" VGG11_bn\n",
    "        \"\"\"\n",
    "        model_ft = vgg16_bn(pretrained=use_pretrained)\n",
    "        set_parameter_requires_grad(model_ft, feature_extract)\n",
    "        num_ftrs = model_ft.classifier[6].in_features\n",
    "        model_ft.classifier[6] = nn.Linear(num_ftrs,num_classes)\n",
    "        input_size = 224\n",
    "\n",
    "    elif model_name == \"densenet\":\n",
    "        \"\"\" Densenet121\n",
    "        \"\"\"\n",
    "        model_ft = densenet121(weights=DenseNet121_Weights.IMAGENET1K_V1 if use_pretrained else None)\n",
    "        set_parameter_requires_grad(model_ft, feature_extract)\n",
    "        num_ftrs = model_ft.classifier.in_features\n",
    "        model_ft.classifier = nn.Linear(num_ftrs, num_classes)\n",
    "        input_size = 224\n",
    "\n",
    "    elif model_name == \"inception\":\n",
    "        \"\"\" Inception v3\n",
    "        Be careful, expects (299,299) sized images and has auxiliary output\n",
    "        \"\"\"\n",
    "        model_ft = inception_v3(pretrained=use_pretrained)\n",
    "        set_parameter_requires_grad(model_ft, feature_extract)\n",
    "        # Handle the auxilary net\n",
    "        num_ftrs = model_ft.AuxLogits.fc.in_features\n",
    "        model_ft.AuxLogits.fc = nn.Linear(num_ftrs, num_classes)\n",
    "        # Handle the primary net\n",
    "        num_ftrs = model_ft.fc.in_features\n",
    "        model_ft.fc = nn.Linear(num_ftrs,num_classes)\n",
    "        input_size = 299\n",
    "\n",
    "    else:\n",
    "        print(\"Invalid model name, exiting...\")\n",
    "        exit()\n",
    "\n",
    "    return model_ft, input_size\n"
   ]
  },
  {
   "cell_type": "code",
   "execution_count": 53,
   "metadata": {},
   "outputs": [],
   "source": [
    "# resnet,vgg,densenet,inception\n",
    "model_name = 'densenet'\n",
    "num_classes = 7\n",
    "feature_extract = False\n",
    "# Initialize the model for this run\n",
    "model_ft, input_size = initialize_model(model_name, num_classes, feature_extract, use_pretrained=True)\n",
    "# Define the device:\n",
    "device = torch.device('cuda:2')\n",
    "# Put the model on the device:\n",
    "model = model_ft.to(device)\n"
   ]
  },
  {
   "cell_type": "code",
   "execution_count": 54,
   "metadata": {},
   "outputs": [],
   "source": [
    "train_transform = transforms.Compose([transforms.Resize((224, 224)),transforms.RandomHorizontalFlip(),\n",
    "                                      transforms.RandomVerticalFlip(),transforms.RandomRotation(20),\n",
    "                                      transforms.ColorJitter(brightness=0.1, contrast=0.1, hue=0.1),\n",
    "                                        transforms.ToTensor(), transforms.Normalize([0.5, 0.5, 0.5], [0.5, 0.5, 0.5])])\n",
    "# define the transformation of the val images.\n",
    "val_transform = transforms.Compose([transforms.Resize((224, 224)), transforms.ToTensor(),\n",
    "                                    transforms.Normalize([0.5, 0.5, 0.5], [0.5, 0.5, 0.5])])\n",
    "\n",
    "# define the transformation of the val images.\n",
    "test_transform = transforms.Compose([transforms.Resize((224, 224)), transforms.ToTensor(),\n",
    "                                    transforms.Normalize([0.5, 0.5, 0.5], [0.5, 0.5, 0.5])])"
   ]
  },
  {
   "cell_type": "code",
   "execution_count": 55,
   "metadata": {},
   "outputs": [],
   "source": [
    "class HAM10000(Dataset):\n",
    "    def __init__(self, df, transform=None):\n",
    "        self.df = df\n",
    "        self.transform = transform\n",
    "\n",
    "    def __len__(self):\n",
    "        return len(self.df)\n",
    "\n",
    "    def __getitem__(self, index):\n",
    "        # Load data and get label\n",
    "        X = Image.open(self.df['path'][index])\n",
    "        y = torch.tensor(int(self.df['cell_type_idx'][index]))\n",
    "\n",
    "        if self.transform:\n",
    "            X = self.transform(X)\n",
    "\n",
    "        return X, y"
   ]
  },
  {
   "cell_type": "code",
   "execution_count": 56,
   "metadata": {},
   "outputs": [],
   "source": [
    "# Define the training set using the table train_df and using our defined transitions (train_transform)\n",
    "training_set = HAM10000(df_train, transform=train_transform)\n",
    "train_loader = DataLoader(training_set, batch_size=32, shuffle=True, num_workers=4)\n",
    "\n",
    "\n",
    "# transform for the validation set\n",
    "validation_set = HAM10000(df_val, transform=val_transform)\n",
    "val_loader = DataLoader(validation_set, batch_size=32, shuffle=False, num_workers=4)\n",
    "# transform for the test  set (No jitter, rotations)\n",
    "test_set = HAM10000(df_test, transform=test_transform)\n",
    "test_loader = DataLoader(test_set, batch_size=32, shuffle=False, num_workers=4)"
   ]
  },
  {
   "cell_type": "markdown",
   "metadata": {},
   "source": [
    "## Bias Mitigation in classes :"
   ]
  },
  {
   "cell_type": "markdown",
   "metadata": {},
   "source": [
    "### Multi-class Cross entropy loss"
   ]
  },
  {
   "cell_type": "code",
   "execution_count": 57,
   "metadata": {},
   "outputs": [],
   "source": [
    "# # we use Adam optimizer, use cross entropy loss as our loss function\n",
    "# optimizer = optim.Adam(model.parameters(), lr=1e-3)\n",
    "# criterion = nn.CrossEntropyLoss().to(device)"
   ]
  },
  {
   "cell_type": "markdown",
   "metadata": {},
   "source": [
    "### Weighted Multi-class Cross entropy loss"
   ]
  },
  {
   "cell_type": "code",
   "execution_count": 76,
   "metadata": {},
   "outputs": [],
   "source": [
    "# from sklearn.utils.class_weight import compute_class_weight\n",
    "\n",
    "# # Compute class weights for imbalanced dataset\n",
    "# class_weights = compute_class_weight('balanced', classes=np.unique(df_train['cell_type_idx']), y=df_train['cell_type_idx'])\n",
    "# class_weights = torch.tensor(class_weights, dtype=torch.float).to(device)\n",
    "\n",
    "\n",
    "\n",
    "# # we use Adam optimizer, use weighted-cross entropy loss as our loss function\n",
    "# criterion = nn.CrossEntropyLoss(weight=class_weights).to(device)\n",
    "\n",
    "# optimizer = optim.Adam(model.parameters(), lr=1e-3)\n"
   ]
  },
  {
   "cell_type": "markdown",
   "metadata": {},
   "source": [
    "### Class balance loss"
   ]
  },
  {
   "cell_type": "code",
   "execution_count": 58,
   "metadata": {},
   "outputs": [],
   "source": [
    "import torch\n",
    "import torch.nn as nn\n",
    "import torch.nn.functional as F\n",
    "\n",
    "class ClassBalancedCrossEntropyLoss(nn.Module):\n",
    "    def __init__(self, num_samples, beta=0.9999):\n",
    "        super(ClassBalancedCrossEntropyLoss, self).__init__()\n",
    "        self.beta = beta\n",
    "        self.num_samples = num_samples\n",
    "\n",
    "        # Compute the effective number of samples\n",
    "        self.effective_num_samples = (1 - self.beta ** self.num_samples) / (1 - self.beta)\n",
    "        self.weights = (1 - self.beta) / self.effective_num_samples\n",
    "\n",
    "\n",
    "    def forward(self, inputs, targets):\n",
    "        log_probs = F.log_softmax(inputs, dim=1)\n",
    "        targets_one_hot = F.one_hot(targets, num_classes=len(self.weights)).float()\n",
    "        weighted_log_probs = targets_one_hot * self.weights.unsqueeze(0) * log_probs\n",
    "        loss = -weighted_log_probs.sum() / inputs.size(0)\n",
    "        return loss\n",
    "\n",
    "\n",
    "\n"
   ]
  },
  {
   "cell_type": "code",
   "execution_count": 59,
   "metadata": {},
   "outputs": [],
   "source": [
    "num_samples = df_train['cell_type_idx'].value_counts().sort_index().values\n",
    "num_samples = torch.tensor(num_samples, dtype=torch.float).to(device)\n",
    "\n",
    "beta = 0.9999  # You can adjust this parameter based on your needs\n",
    "criterion = ClassBalancedCrossEntropyLoss(num_samples, beta=beta).to(device)\n",
    "optimizer = optim.Adam(model.parameters(), lr=1e-3)\n"
   ]
  },
  {
   "cell_type": "code",
   "execution_count": 60,
   "metadata": {},
   "outputs": [],
   "source": [
    "class AverageMeter(object):\n",
    "    def __init__(self):\n",
    "        self.reset()\n",
    "\n",
    "    def reset(self):\n",
    "        self.val = 0\n",
    "        self.avg = 0\n",
    "        self.sum = 0\n",
    "        self.count = 0\n",
    "\n",
    "    def update(self, val, n=1):\n",
    "        self.val = val\n",
    "        self.sum += val * n\n",
    "        self.count += n\n",
    "        self.avg = self.sum / self.count"
   ]
  },
  {
   "cell_type": "code",
   "execution_count": 61,
   "metadata": {},
   "outputs": [],
   "source": [
    "total_loss_train, total_acc_train = [],[]\n",
    "def train(train_loader, model, criterion, optimizer, epoch):\n",
    "    model.train()\n",
    "    train_loss = AverageMeter()\n",
    "    train_acc = AverageMeter()\n",
    "    curr_iter = (epoch - 1) * len(train_loader)\n",
    "    for i, data in enumerate(train_loader):\n",
    "        images, labels = data\n",
    "        N = images.size(0)\n",
    "        # print('image shape:',images.size(0), 'label shape',labels.size(0))\n",
    "        images = Variable(images).to(device)\n",
    "        labels = Variable(labels).to(device)\n",
    "\n",
    "        optimizer.zero_grad()\n",
    "        outputs = model(images)\n",
    "\n",
    "        loss = criterion(outputs, labels)\n",
    "        loss.backward()\n",
    "        optimizer.step()\n",
    "        prediction = outputs.max(1, keepdim=True)[1]\n",
    "        train_acc.update(prediction.eq(labels.view_as(prediction)).sum().item()/N)\n",
    "        train_loss.update(loss.item())\n",
    "        curr_iter += 1\n",
    "        if (i + 1) % 100 == 0:\n",
    "            print('[epoch %d], [iter %d / %d], [train loss %.5f], [train acc %.5f]' % (\n",
    "                epoch, i + 1, len(train_loader), train_loss.avg, train_acc.avg))\n",
    "            total_loss_train.append(train_loss.avg)\n",
    "            total_acc_train.append(train_acc.avg)\n",
    "    return train_loss.avg, train_acc.avg"
   ]
  },
  {
   "cell_type": "code",
   "execution_count": 62,
   "metadata": {},
   "outputs": [],
   "source": [
    "def validate(val_loader, model, criterion, optimizer, epoch):\n",
    "    model.eval()\n",
    "    val_loss = AverageMeter()\n",
    "    val_acc = AverageMeter()\n",
    "    with torch.no_grad():\n",
    "        for i, data in enumerate(val_loader):\n",
    "            images, labels = data\n",
    "            N = images.size(0)\n",
    "            images = Variable(images).to(device)\n",
    "            labels = Variable(labels).to(device)\n",
    "\n",
    "            outputs = model(images)\n",
    "            prediction = outputs.max(1, keepdim=True)[1]\n",
    "\n",
    "            val_acc.update(prediction.eq(labels.view_as(prediction)).sum().item()/N)\n",
    "\n",
    "            val_loss.update(criterion(outputs, labels).item())\n",
    "\n",
    "    print('------------------------------------------------------------')\n",
    "    print('[epoch %d], [val loss %.5f], [val acc %.5f]' % (epoch, val_loss.avg, val_acc.avg))\n",
    "    print('------------------------------------------------------------')\n",
    "    return val_loss.avg, val_acc.avg"
   ]
  },
  {
   "cell_type": "markdown",
   "metadata": {},
   "source": [
    "### Oversampling"
   ]
  },
  {
   "cell_type": "code",
   "execution_count": 50,
   "metadata": {
    "scrolled": false
   },
   "outputs": [
    {
     "name": "stdout",
     "output_type": "stream",
     "text": [
      "[epoch 1], [iter 100 / 973], [train loss 1.27444], [train acc 0.52156]\n",
      "[epoch 1], [iter 200 / 973], [train loss 1.14463], [train acc 0.57141]\n",
      "[epoch 1], [iter 300 / 973], [train loss 1.05542], [train acc 0.60396]\n",
      "[epoch 1], [iter 400 / 973], [train loss 1.00065], [train acc 0.62438]\n",
      "[epoch 1], [iter 500 / 973], [train loss 0.95442], [train acc 0.64163]\n",
      "[epoch 1], [iter 600 / 973], [train loss 0.91879], [train acc 0.65385]\n",
      "[epoch 1], [iter 700 / 973], [train loss 0.89889], [train acc 0.66031]\n",
      "[epoch 1], [iter 800 / 973], [train loss 0.87162], [train acc 0.67172]\n",
      "[epoch 1], [iter 900 / 973], [train loss 0.84772], [train acc 0.68045]\n",
      "------------------------------------------------------------\n",
      "[epoch 1], [val loss 0.46707], [val acc 0.83903]\n",
      "------------------------------------------------------------\n",
      "*****************************************************\n",
      "best record: [epoch 1], [val loss 0.46707], [val acc 0.83903]\n",
      "*****************************************************\n",
      "[epoch 2], [iter 100 / 973], [train loss 0.60897], [train acc 0.77281]\n",
      "[epoch 2], [iter 200 / 973], [train loss 0.59857], [train acc 0.77266]\n",
      "[epoch 2], [iter 300 / 973], [train loss 0.60123], [train acc 0.77187]\n",
      "[epoch 2], [iter 400 / 973], [train loss 0.59548], [train acc 0.77391]\n",
      "[epoch 2], [iter 500 / 973], [train loss 0.58927], [train acc 0.77550]\n",
      "[epoch 2], [iter 600 / 973], [train loss 0.57896], [train acc 0.77979]\n",
      "[epoch 2], [iter 700 / 973], [train loss 0.57616], [train acc 0.78085]\n",
      "[epoch 2], [iter 800 / 973], [train loss 0.57289], [train acc 0.78199]\n",
      "[epoch 2], [iter 900 / 973], [train loss 0.56519], [train acc 0.78510]\n",
      "------------------------------------------------------------\n",
      "[epoch 2], [val loss 0.38496], [val acc 0.85127]\n",
      "------------------------------------------------------------\n",
      "*****************************************************\n",
      "best record: [epoch 2], [val loss 0.38496], [val acc 0.85127]\n",
      "*****************************************************\n",
      "[epoch 3], [iter 100 / 973], [train loss 0.52735], [train acc 0.80125]\n",
      "[epoch 3], [iter 200 / 973], [train loss 0.49659], [train acc 0.81063]\n",
      "[epoch 3], [iter 300 / 973], [train loss 0.48878], [train acc 0.81323]\n",
      "[epoch 3], [iter 400 / 973], [train loss 0.48690], [train acc 0.81469]\n",
      "[epoch 3], [iter 500 / 973], [train loss 0.48288], [train acc 0.81712]\n",
      "[epoch 3], [iter 600 / 973], [train loss 0.47561], [train acc 0.81979]\n",
      "[epoch 3], [iter 700 / 973], [train loss 0.47052], [train acc 0.82138]\n",
      "[epoch 3], [iter 800 / 973], [train loss 0.46780], [train acc 0.82227]\n",
      "[epoch 3], [iter 900 / 973], [train loss 0.46452], [train acc 0.82333]\n",
      "------------------------------------------------------------\n",
      "[epoch 3], [val loss 0.35079], [val acc 0.83761]\n",
      "------------------------------------------------------------\n",
      "[epoch 4], [iter 100 / 973], [train loss 0.39016], [train acc 0.84656]\n",
      "[epoch 4], [iter 200 / 973], [train loss 0.38814], [train acc 0.84891]\n",
      "[epoch 4], [iter 300 / 973], [train loss 0.39140], [train acc 0.85000]\n",
      "[epoch 4], [iter 400 / 973], [train loss 0.39358], [train acc 0.84781]\n",
      "[epoch 4], [iter 500 / 973], [train loss 0.40214], [train acc 0.84475]\n",
      "[epoch 4], [iter 600 / 973], [train loss 0.39411], [train acc 0.84839]\n",
      "[epoch 4], [iter 700 / 973], [train loss 0.39150], [train acc 0.84951]\n",
      "[epoch 4], [iter 800 / 973], [train loss 0.38822], [train acc 0.85047]\n",
      "[epoch 4], [iter 900 / 973], [train loss 0.38936], [train acc 0.85080]\n",
      "------------------------------------------------------------\n",
      "[epoch 4], [val loss 0.29784], [val acc 0.88778]\n",
      "------------------------------------------------------------\n",
      "*****************************************************\n",
      "best record: [epoch 4], [val loss 0.29784], [val acc 0.88778]\n",
      "*****************************************************\n",
      "[epoch 5], [iter 100 / 973], [train loss 0.32484], [train acc 0.87344]\n",
      "[epoch 5], [iter 200 / 973], [train loss 0.32317], [train acc 0.87656]\n",
      "[epoch 5], [iter 300 / 973], [train loss 0.32952], [train acc 0.87271]\n",
      "[epoch 5], [iter 400 / 973], [train loss 0.33622], [train acc 0.86945]\n",
      "[epoch 5], [iter 500 / 973], [train loss 0.33999], [train acc 0.86787]\n",
      "[epoch 5], [iter 600 / 973], [train loss 0.33494], [train acc 0.86995]\n",
      "[epoch 5], [iter 700 / 973], [train loss 0.33342], [train acc 0.87049]\n",
      "[epoch 5], [iter 800 / 973], [train loss 0.33247], [train acc 0.87047]\n",
      "[epoch 5], [iter 900 / 973], [train loss 0.33050], [train acc 0.87247]\n",
      "------------------------------------------------------------\n",
      "[epoch 5], [val loss 0.44681], [val acc 0.86516]\n",
      "------------------------------------------------------------\n",
      "[epoch 6], [iter 100 / 973], [train loss 0.32954], [train acc 0.86938]\n",
      "[epoch 6], [iter 200 / 973], [train loss 0.32870], [train acc 0.87094]\n",
      "[epoch 6], [iter 300 / 973], [train loss 0.32082], [train acc 0.87552]\n",
      "[epoch 6], [iter 400 / 973], [train loss 0.31767], [train acc 0.87664]\n",
      "[epoch 6], [iter 500 / 973], [train loss 0.31264], [train acc 0.87850]\n",
      "[epoch 6], [iter 600 / 973], [train loss 0.31118], [train acc 0.87974]\n",
      "[epoch 6], [iter 700 / 973], [train loss 0.30930], [train acc 0.88036]\n",
      "[epoch 6], [iter 800 / 973], [train loss 0.30408], [train acc 0.88238]\n",
      "[epoch 6], [iter 900 / 973], [train loss 0.29979], [train acc 0.88424]\n",
      "------------------------------------------------------------\n",
      "[epoch 6], [val loss 0.31592], [val acc 0.89401]\n",
      "------------------------------------------------------------\n",
      "*****************************************************\n",
      "best record: [epoch 6], [val loss 0.31592], [val acc 0.89401]\n",
      "*****************************************************\n",
      "[epoch 7], [iter 100 / 973], [train loss 0.26542], [train acc 0.89500]\n",
      "[epoch 7], [iter 200 / 973], [train loss 0.25965], [train acc 0.89984]\n",
      "[epoch 7], [iter 300 / 973], [train loss 0.26932], [train acc 0.89656]\n",
      "[epoch 7], [iter 400 / 973], [train loss 0.26430], [train acc 0.89789]\n",
      "[epoch 7], [iter 500 / 973], [train loss 0.26583], [train acc 0.89838]\n",
      "[epoch 7], [iter 600 / 973], [train loss 0.26101], [train acc 0.90031]\n",
      "[epoch 7], [iter 700 / 973], [train loss 0.26246], [train acc 0.89996]\n",
      "[epoch 7], [iter 800 / 973], [train loss 0.26095], [train acc 0.90078]\n",
      "[epoch 7], [iter 900 / 973], [train loss 0.25909], [train acc 0.90142]\n",
      "------------------------------------------------------------\n",
      "[epoch 7], [val loss 0.33277], [val acc 0.89619]\n",
      "------------------------------------------------------------\n",
      "*****************************************************\n",
      "best record: [epoch 7], [val loss 0.33277], [val acc 0.89619]\n",
      "*****************************************************\n",
      "[epoch 8], [iter 100 / 973], [train loss 0.22931], [train acc 0.91250]\n",
      "[epoch 8], [iter 200 / 973], [train loss 0.22929], [train acc 0.91531]\n",
      "[epoch 8], [iter 300 / 973], [train loss 0.23545], [train acc 0.91104]\n",
      "[epoch 8], [iter 400 / 973], [train loss 0.23394], [train acc 0.91125]\n",
      "[epoch 8], [iter 500 / 973], [train loss 0.23215], [train acc 0.91144]\n",
      "[epoch 8], [iter 600 / 973], [train loss 0.23360], [train acc 0.91073]\n",
      "[epoch 8], [iter 700 / 973], [train loss 0.23180], [train acc 0.91094]\n",
      "[epoch 8], [iter 800 / 973], [train loss 0.23235], [train acc 0.91063]\n",
      "[epoch 8], [iter 900 / 973], [train loss 0.23021], [train acc 0.91156]\n",
      "------------------------------------------------------------\n",
      "[epoch 8], [val loss 0.34329], [val acc 0.88920]\n",
      "------------------------------------------------------------\n",
      "[epoch 9], [iter 100 / 973], [train loss 0.19875], [train acc 0.92094]\n",
      "[epoch 9], [iter 200 / 973], [train loss 0.20875], [train acc 0.91687]\n",
      "[epoch 9], [iter 300 / 973], [train loss 0.22018], [train acc 0.91260]\n",
      "[epoch 9], [iter 400 / 973], [train loss 0.22413], [train acc 0.91281]\n",
      "[epoch 9], [iter 500 / 973], [train loss 0.22136], [train acc 0.91425]\n",
      "[epoch 9], [iter 600 / 973], [train loss 0.22171], [train acc 0.91474]\n",
      "[epoch 9], [iter 700 / 973], [train loss 0.21430], [train acc 0.91804]\n",
      "[epoch 9], [iter 800 / 973], [train loss 0.21142], [train acc 0.91949]\n",
      "[epoch 9], [iter 900 / 973], [train loss 0.21117], [train acc 0.91976]\n",
      "------------------------------------------------------------\n",
      "[epoch 9], [val loss 0.38163], [val acc 0.87500]\n",
      "------------------------------------------------------------\n",
      "[epoch 10], [iter 100 / 973], [train loss 0.18352], [train acc 0.93406]\n"
     ]
    },
    {
     "name": "stdout",
     "output_type": "stream",
     "text": [
      "[epoch 10], [iter 200 / 973], [train loss 0.18965], [train acc 0.93047]\n",
      "[epoch 10], [iter 300 / 973], [train loss 0.20088], [train acc 0.92604]\n",
      "[epoch 10], [iter 400 / 973], [train loss 0.20438], [train acc 0.92453]\n",
      "[epoch 10], [iter 500 / 973], [train loss 0.19904], [train acc 0.92669]\n",
      "[epoch 10], [iter 600 / 973], [train loss 0.19931], [train acc 0.92625]\n",
      "[epoch 10], [iter 700 / 973], [train loss 0.19754], [train acc 0.92616]\n",
      "[epoch 10], [iter 800 / 973], [train loss 0.19416], [train acc 0.92754]\n",
      "[epoch 10], [iter 900 / 973], [train loss 0.19230], [train acc 0.92802]\n",
      "------------------------------------------------------------\n",
      "[epoch 10], [val loss 0.33406], [val acc 0.89761]\n",
      "------------------------------------------------------------\n",
      "*****************************************************\n",
      "best record: [epoch 10], [val loss 0.33406], [val acc 0.89761]\n",
      "*****************************************************\n",
      "[epoch 11], [iter 100 / 973], [train loss 0.18225], [train acc 0.92969]\n",
      "[epoch 11], [iter 200 / 973], [train loss 0.17641], [train acc 0.93312]\n",
      "[epoch 11], [iter 300 / 973], [train loss 0.17752], [train acc 0.93333]\n",
      "[epoch 11], [iter 400 / 973], [train loss 0.18491], [train acc 0.93188]\n",
      "[epoch 11], [iter 500 / 973], [train loss 0.18924], [train acc 0.93044]\n",
      "[epoch 11], [iter 600 / 973], [train loss 0.19066], [train acc 0.92974]\n",
      "[epoch 11], [iter 700 / 973], [train loss 0.18901], [train acc 0.93000]\n",
      "[epoch 11], [iter 800 / 973], [train loss 0.18636], [train acc 0.93066]\n",
      "[epoch 11], [iter 900 / 973], [train loss 0.18305], [train acc 0.93111]\n",
      "------------------------------------------------------------\n",
      "[epoch 11], [val loss 0.37668], [val acc 0.90318]\n",
      "------------------------------------------------------------\n",
      "*****************************************************\n",
      "best record: [epoch 11], [val loss 0.37668], [val acc 0.90318]\n",
      "*****************************************************\n",
      "[epoch 12], [iter 100 / 973], [train loss 0.16521], [train acc 0.94312]\n",
      "[epoch 12], [iter 200 / 973], [train loss 0.16078], [train acc 0.94281]\n",
      "[epoch 12], [iter 300 / 973], [train loss 0.15506], [train acc 0.94302]\n",
      "[epoch 12], [iter 400 / 973], [train loss 0.15971], [train acc 0.94117]\n",
      "[epoch 12], [iter 500 / 973], [train loss 0.15587], [train acc 0.94325]\n",
      "[epoch 12], [iter 600 / 973], [train loss 0.16030], [train acc 0.94193]\n",
      "[epoch 12], [iter 700 / 973], [train loss 0.16555], [train acc 0.94013]\n",
      "[epoch 12], [iter 800 / 973], [train loss 0.16704], [train acc 0.93926]\n",
      "[epoch 12], [iter 900 / 973], [train loss 0.16466], [train acc 0.94000]\n",
      "------------------------------------------------------------\n",
      "[epoch 12], [val loss 0.36827], [val acc 0.89018]\n",
      "------------------------------------------------------------\n",
      "[epoch 13], [iter 100 / 973], [train loss 0.13320], [train acc 0.95063]\n",
      "[epoch 13], [iter 200 / 973], [train loss 0.14292], [train acc 0.94844]\n",
      "[epoch 13], [iter 300 / 973], [train loss 0.14703], [train acc 0.94708]\n",
      "[epoch 13], [iter 400 / 973], [train loss 0.14244], [train acc 0.94867]\n",
      "[epoch 13], [iter 500 / 973], [train loss 0.13962], [train acc 0.94888]\n",
      "[epoch 13], [iter 600 / 973], [train loss 0.14568], [train acc 0.94625]\n",
      "[epoch 13], [iter 700 / 973], [train loss 0.14597], [train acc 0.94621]\n",
      "[epoch 13], [iter 800 / 973], [train loss 0.14608], [train acc 0.94602]\n",
      "[epoch 13], [iter 900 / 973], [train loss 0.14413], [train acc 0.94698]\n",
      "------------------------------------------------------------\n",
      "[epoch 13], [val loss 0.40405], [val acc 0.88056]\n",
      "------------------------------------------------------------\n",
      "[epoch 14], [iter 100 / 973], [train loss 0.13149], [train acc 0.94875]\n",
      "[epoch 14], [iter 200 / 973], [train loss 0.12657], [train acc 0.95125]\n",
      "[epoch 14], [iter 300 / 973], [train loss 0.12581], [train acc 0.95177]\n",
      "[epoch 14], [iter 400 / 973], [train loss 0.12987], [train acc 0.95031]\n",
      "[epoch 14], [iter 500 / 973], [train loss 0.13826], [train acc 0.94788]\n",
      "[epoch 14], [iter 600 / 973], [train loss 0.13693], [train acc 0.94833]\n",
      "[epoch 14], [iter 700 / 973], [train loss 0.13820], [train acc 0.94786]\n",
      "[epoch 14], [iter 800 / 973], [train loss 0.13820], [train acc 0.94805]\n",
      "[epoch 14], [iter 900 / 973], [train loss 0.13556], [train acc 0.94924]\n",
      "------------------------------------------------------------\n",
      "[epoch 14], [val loss 0.58389], [val acc 0.87794]\n",
      "------------------------------------------------------------\n",
      "[epoch 15], [iter 100 / 973], [train loss 0.12487], [train acc 0.95562]\n",
      "[epoch 15], [iter 200 / 973], [train loss 0.13333], [train acc 0.95156]\n",
      "[epoch 15], [iter 300 / 973], [train loss 0.13547], [train acc 0.94969]\n",
      "[epoch 15], [iter 400 / 973], [train loss 0.13133], [train acc 0.95164]\n",
      "[epoch 15], [iter 500 / 973], [train loss 0.13061], [train acc 0.95231]\n",
      "[epoch 15], [iter 600 / 973], [train loss 0.12785], [train acc 0.95370]\n",
      "[epoch 15], [iter 700 / 973], [train loss 0.12485], [train acc 0.95513]\n",
      "[epoch 15], [iter 800 / 973], [train loss 0.12700], [train acc 0.95422]\n",
      "[epoch 15], [iter 900 / 973], [train loss 0.12698], [train acc 0.95427]\n",
      "------------------------------------------------------------\n",
      "[epoch 15], [val loss 0.45089], [val acc 0.86877]\n",
      "------------------------------------------------------------\n",
      "[epoch 16], [iter 100 / 973], [train loss 0.11584], [train acc 0.95625]\n",
      "[epoch 16], [iter 200 / 973], [train loss 0.11811], [train acc 0.95594]\n",
      "[epoch 16], [iter 300 / 973], [train loss 0.12104], [train acc 0.95448]\n",
      "[epoch 16], [iter 400 / 973], [train loss 0.12467], [train acc 0.95383]\n",
      "[epoch 16], [iter 500 / 973], [train loss 0.12225], [train acc 0.95456]\n",
      "[epoch 16], [iter 600 / 973], [train loss 0.12563], [train acc 0.95354]\n",
      "[epoch 16], [iter 700 / 973], [train loss 0.12284], [train acc 0.95455]\n",
      "[epoch 16], [iter 800 / 973], [train loss 0.12107], [train acc 0.95496]\n",
      "[epoch 16], [iter 900 / 973], [train loss 0.12032], [train acc 0.95549]\n",
      "------------------------------------------------------------\n",
      "[epoch 16], [val loss 0.32832], [val acc 0.92909]\n",
      "------------------------------------------------------------\n",
      "*****************************************************\n",
      "best record: [epoch 16], [val loss 0.32832], [val acc 0.92909]\n",
      "*****************************************************\n",
      "[epoch 17], [iter 100 / 973], [train loss 0.08898], [train acc 0.96562]\n",
      "[epoch 17], [iter 200 / 973], [train loss 0.09575], [train acc 0.96359]\n",
      "[epoch 17], [iter 300 / 973], [train loss 0.10120], [train acc 0.96135]\n",
      "[epoch 17], [iter 400 / 973], [train loss 0.10314], [train acc 0.96109]\n",
      "[epoch 17], [iter 500 / 973], [train loss 0.10094], [train acc 0.96288]\n",
      "[epoch 17], [iter 600 / 973], [train loss 0.10059], [train acc 0.96302]\n",
      "[epoch 17], [iter 700 / 973], [train loss 0.10382], [train acc 0.96165]\n",
      "[epoch 17], [iter 800 / 973], [train loss 0.10576], [train acc 0.96117]\n",
      "[epoch 17], [iter 900 / 973], [train loss 0.10936], [train acc 0.96028]\n",
      "------------------------------------------------------------\n",
      "[epoch 17], [val loss 0.42515], [val acc 0.89379]\n",
      "------------------------------------------------------------\n",
      "[epoch 18], [iter 100 / 973], [train loss 0.10295], [train acc 0.95937]\n",
      "[epoch 18], [iter 200 / 973], [train loss 0.10655], [train acc 0.95859]\n",
      "[epoch 18], [iter 300 / 973], [train loss 0.11450], [train acc 0.95656]\n",
      "[epoch 18], [iter 400 / 973], [train loss 0.10694], [train acc 0.96031]\n",
      "[epoch 18], [iter 500 / 973], [train loss 0.10838], [train acc 0.95988]\n",
      "[epoch 18], [iter 600 / 973], [train loss 0.10758], [train acc 0.96005]\n",
      "[epoch 18], [iter 700 / 973], [train loss 0.10965], [train acc 0.95871]\n",
      "[epoch 18], [iter 800 / 973], [train loss 0.11056], [train acc 0.95840]\n",
      "[epoch 18], [iter 900 / 973], [train loss 0.10822], [train acc 0.95927]\n",
      "------------------------------------------------------------\n",
      "[epoch 18], [val loss 0.46870], [val acc 0.88199]\n",
      "------------------------------------------------------------\n",
      "[epoch 19], [iter 100 / 973], [train loss 0.07193], [train acc 0.97250]\n",
      "[epoch 19], [iter 200 / 973], [train loss 0.08104], [train acc 0.97047]\n",
      "[epoch 19], [iter 300 / 973], [train loss 0.09621], [train acc 0.96469]\n",
      "[epoch 19], [iter 400 / 973], [train loss 0.09896], [train acc 0.96430]\n",
      "[epoch 19], [iter 500 / 973], [train loss 0.10072], [train acc 0.96313]\n",
      "[epoch 19], [iter 600 / 973], [train loss 0.09774], [train acc 0.96401]\n"
     ]
    },
    {
     "name": "stdout",
     "output_type": "stream",
     "text": [
      "[epoch 19], [iter 700 / 973], [train loss 0.09678], [train acc 0.96415]\n",
      "[epoch 19], [iter 800 / 973], [train loss 0.09631], [train acc 0.96422]\n",
      "[epoch 19], [iter 900 / 973], [train loss 0.09526], [train acc 0.96500]\n",
      "------------------------------------------------------------\n",
      "[epoch 19], [val loss 0.39418], [val acc 0.91662]\n",
      "------------------------------------------------------------\n",
      "[epoch 20], [iter 100 / 973], [train loss 0.09246], [train acc 0.96656]\n",
      "[epoch 20], [iter 200 / 973], [train loss 0.08441], [train acc 0.96969]\n",
      "[epoch 20], [iter 300 / 973], [train loss 0.08795], [train acc 0.96854]\n",
      "[epoch 20], [iter 400 / 973], [train loss 0.08660], [train acc 0.96883]\n",
      "[epoch 20], [iter 500 / 973], [train loss 0.08632], [train acc 0.96862]\n",
      "[epoch 20], [iter 600 / 973], [train loss 0.08669], [train acc 0.96833]\n",
      "[epoch 20], [iter 700 / 973], [train loss 0.08818], [train acc 0.96790]\n",
      "[epoch 20], [iter 800 / 973], [train loss 0.08773], [train acc 0.96777]\n",
      "[epoch 20], [iter 900 / 973], [train loss 0.08708], [train acc 0.96785]\n",
      "------------------------------------------------------------\n",
      "[epoch 20], [val loss 0.46544], [val acc 0.89499]\n",
      "------------------------------------------------------------\n",
      "[epoch 21], [iter 100 / 973], [train loss 0.10401], [train acc 0.96437]\n",
      "[epoch 21], [iter 200 / 973], [train loss 0.12138], [train acc 0.95859]\n",
      "[epoch 21], [iter 300 / 973], [train loss 0.11559], [train acc 0.96021]\n",
      "[epoch 21], [iter 400 / 973], [train loss 0.10982], [train acc 0.96188]\n",
      "[epoch 21], [iter 500 / 973], [train loss 0.10619], [train acc 0.96306]\n",
      "[epoch 21], [iter 600 / 973], [train loss 0.09873], [train acc 0.96557]\n",
      "[epoch 21], [iter 700 / 973], [train loss 0.09579], [train acc 0.96629]\n",
      "[epoch 21], [iter 800 / 973], [train loss 0.09588], [train acc 0.96672]\n",
      "[epoch 21], [iter 900 / 973], [train loss 0.09511], [train acc 0.96681]\n",
      "------------------------------------------------------------\n",
      "[epoch 21], [val loss 0.43492], [val acc 0.90100]\n",
      "------------------------------------------------------------\n",
      "[epoch 22], [iter 100 / 973], [train loss 0.08650], [train acc 0.97062]\n",
      "[epoch 22], [iter 200 / 973], [train loss 0.08969], [train acc 0.96781]\n",
      "[epoch 22], [iter 300 / 973], [train loss 0.08708], [train acc 0.96885]\n",
      "[epoch 22], [iter 400 / 973], [train loss 0.08036], [train acc 0.97117]\n",
      "[epoch 22], [iter 500 / 973], [train loss 0.07777], [train acc 0.97262]\n",
      "[epoch 22], [iter 600 / 973], [train loss 0.07848], [train acc 0.97198]\n",
      "[epoch 22], [iter 700 / 973], [train loss 0.07785], [train acc 0.97210]\n",
      "[epoch 22], [iter 800 / 973], [train loss 0.07783], [train acc 0.97207]\n",
      "[epoch 22], [iter 900 / 973], [train loss 0.07661], [train acc 0.97247]\n",
      "------------------------------------------------------------\n",
      "[epoch 22], [val loss 0.51574], [val acc 0.87433]\n",
      "------------------------------------------------------------\n",
      "[epoch 23], [iter 100 / 973], [train loss 0.07687], [train acc 0.97094]\n",
      "[epoch 23], [iter 200 / 973], [train loss 0.06976], [train acc 0.97297]\n",
      "[epoch 23], [iter 300 / 973], [train loss 0.07046], [train acc 0.97437]\n",
      "[epoch 23], [iter 400 / 973], [train loss 0.08280], [train acc 0.96961]\n",
      "[epoch 23], [iter 500 / 973], [train loss 0.08611], [train acc 0.96869]\n",
      "[epoch 23], [iter 600 / 973], [train loss 0.08424], [train acc 0.96875]\n",
      "[epoch 23], [iter 700 / 973], [train loss 0.08333], [train acc 0.96884]\n",
      "[epoch 23], [iter 800 / 973], [train loss 0.08651], [train acc 0.96848]\n",
      "[epoch 23], [iter 900 / 973], [train loss 0.08615], [train acc 0.96882]\n",
      "------------------------------------------------------------\n",
      "[epoch 23], [val loss 0.48137], [val acc 0.89258]\n",
      "------------------------------------------------------------\n",
      "[epoch 24], [iter 100 / 973], [train loss 0.08161], [train acc 0.96937]\n",
      "[epoch 24], [iter 200 / 973], [train loss 0.07684], [train acc 0.97203]\n",
      "[epoch 24], [iter 300 / 973], [train loss 0.07573], [train acc 0.97240]\n",
      "[epoch 24], [iter 400 / 973], [train loss 0.07755], [train acc 0.97203]\n",
      "[epoch 24], [iter 500 / 973], [train loss 0.07529], [train acc 0.97256]\n",
      "[epoch 24], [iter 600 / 973], [train loss 0.07287], [train acc 0.97333]\n",
      "[epoch 24], [iter 700 / 973], [train loss 0.07012], [train acc 0.97442]\n",
      "[epoch 24], [iter 800 / 973], [train loss 0.06865], [train acc 0.97496]\n",
      "[epoch 24], [iter 900 / 973], [train loss 0.06929], [train acc 0.97455]\n",
      "------------------------------------------------------------\n",
      "[epoch 24], [val loss 0.44743], [val acc 0.90438]\n",
      "------------------------------------------------------------\n",
      "[epoch 25], [iter 100 / 973], [train loss 0.07225], [train acc 0.97437]\n",
      "[epoch 25], [iter 200 / 973], [train loss 0.06924], [train acc 0.97375]\n",
      "[epoch 25], [iter 300 / 973], [train loss 0.06889], [train acc 0.97396]\n",
      "[epoch 25], [iter 400 / 973], [train loss 0.06834], [train acc 0.97422]\n",
      "[epoch 25], [iter 500 / 973], [train loss 0.07156], [train acc 0.97362]\n",
      "[epoch 25], [iter 600 / 973], [train loss 0.07404], [train acc 0.97339]\n",
      "[epoch 25], [iter 700 / 973], [train loss 0.07372], [train acc 0.97384]\n",
      "[epoch 25], [iter 800 / 973], [train loss 0.07378], [train acc 0.97391]\n",
      "[epoch 25], [iter 900 / 973], [train loss 0.07335], [train acc 0.97406]\n",
      "------------------------------------------------------------\n",
      "[epoch 25], [val loss 0.49665], [val acc 0.89379]\n",
      "------------------------------------------------------------\n"
     ]
    }
   ],
   "source": [
    "epoch_num = 25\n",
    "best_val_acc = 0\n",
    "total_loss_val, total_acc_val = [],[]\n",
    "for epoch in range(1, epoch_num+1):\n",
    "    loss_train, acc_train = train(train_loader, model, criterion, optimizer, epoch)\n",
    "    loss_val, acc_val = validate(val_loader, model, criterion, optimizer, epoch)\n",
    "    total_loss_val.append(loss_val)\n",
    "    total_acc_val.append(acc_val)\n",
    "    if acc_val > best_val_acc:\n",
    "        best_val_acc = acc_val\n",
    "        torch.save(model.state_dict(), \"densenet121_skin_lesion_class_bias_oversampling.pt\")\n",
    "        print('*****************************************************')\n",
    "        print('best record: [epoch %d], [val loss %.5f], [val acc %.5f]' % (epoch, loss_val, acc_val))\n",
    "        print('*****************************************************')\n",
    "\n",
    "        "
   ]
  },
  {
   "cell_type": "markdown",
   "metadata": {},
   "source": [
    "### Class balance loss"
   ]
  },
  {
   "cell_type": "code",
   "execution_count": 80,
   "metadata": {},
   "outputs": [
    {
     "name": "stdout",
     "output_type": "stream",
     "text": [
      "[epoch 1], [iter 100 / 227], [train loss 1.77847], [train acc 0.31719]\n",
      "[epoch 1], [iter 200 / 227], [train loss 1.73138], [train acc 0.36469]\n",
      "------------------------------------------------------------\n",
      "[epoch 1], [val loss 4.61232], [val acc 0.30533]\n",
      "------------------------------------------------------------\n",
      "*****************************************************\n",
      "best record: [epoch 1], [val loss 4.61232], [val acc 0.30533]\n",
      "*****************************************************\n",
      "[epoch 2], [iter 100 / 227], [train loss 1.64843], [train acc 0.40156]\n",
      "[epoch 2], [iter 200 / 227], [train loss 1.57836], [train acc 0.43844]\n",
      "------------------------------------------------------------\n",
      "[epoch 2], [val loss 4.84062], [val acc 0.19146]\n",
      "------------------------------------------------------------\n",
      "[epoch 3], [iter 100 / 227], [train loss 1.57868], [train acc 0.40906]\n",
      "[epoch 3], [iter 200 / 227], [train loss 1.51501], [train acc 0.44375]\n",
      "------------------------------------------------------------\n",
      "[epoch 3], [val loss 2.01486], [val acc 0.27778]\n",
      "------------------------------------------------------------\n",
      "[epoch 4], [iter 100 / 227], [train loss 1.40059], [train acc 0.49156]\n",
      "[epoch 4], [iter 200 / 227], [train loss 1.39485], [train acc 0.49250]\n",
      "------------------------------------------------------------\n",
      "[epoch 4], [val loss 1.16252], [val acc 0.83489]\n",
      "------------------------------------------------------------\n",
      "*****************************************************\n",
      "best record: [epoch 4], [val loss 1.16252], [val acc 0.83489]\n",
      "*****************************************************\n",
      "[epoch 5], [iter 100 / 227], [train loss 1.33868], [train acc 0.49688]\n",
      "[epoch 5], [iter 200 / 227], [train loss 1.40392], [train acc 0.49312]\n",
      "------------------------------------------------------------\n",
      "[epoch 5], [val loss 1.20557], [val acc 0.72561]\n",
      "------------------------------------------------------------\n",
      "[epoch 6], [iter 100 / 227], [train loss 1.29313], [train acc 0.53000]\n",
      "[epoch 6], [iter 200 / 227], [train loss 1.27055], [train acc 0.52078]\n",
      "------------------------------------------------------------\n",
      "[epoch 6], [val loss 1.10782], [val acc 0.78374]\n",
      "------------------------------------------------------------\n",
      "[epoch 7], [iter 100 / 227], [train loss 1.28096], [train acc 0.52312]\n",
      "[epoch 7], [iter 200 / 227], [train loss 1.28106], [train acc 0.52297]\n",
      "------------------------------------------------------------\n",
      "[epoch 7], [val loss 1.13751], [val acc 0.74123]\n",
      "------------------------------------------------------------\n",
      "[epoch 8], [iter 100 / 227], [train loss 1.16726], [train acc 0.54281]\n",
      "[epoch 8], [iter 200 / 227], [train loss 1.23006], [train acc 0.53797]\n",
      "------------------------------------------------------------\n",
      "[epoch 8], [val loss 0.99522], [val acc 0.72614]\n",
      "------------------------------------------------------------\n",
      "[epoch 9], [iter 100 / 227], [train loss 1.12225], [train acc 0.55844]\n",
      "[epoch 9], [iter 200 / 227], [train loss 1.13971], [train acc 0.56453]\n",
      "------------------------------------------------------------\n",
      "[epoch 9], [val loss 1.05058], [val acc 0.73740]\n",
      "------------------------------------------------------------\n",
      "[epoch 10], [iter 100 / 227], [train loss 1.26666], [train acc 0.50344]\n",
      "[epoch 10], [iter 200 / 227], [train loss 1.19058], [train acc 0.52547]\n",
      "------------------------------------------------------------\n",
      "[epoch 10], [val loss 1.23662], [val acc 0.75249]\n",
      "------------------------------------------------------------\n",
      "[epoch 11], [iter 100 / 227], [train loss 1.22627], [train acc 0.52844]\n",
      "[epoch 11], [iter 200 / 227], [train loss 1.17942], [train acc 0.55109]\n",
      "------------------------------------------------------------\n",
      "[epoch 11], [val loss 0.91209], [val acc 0.79959]\n",
      "------------------------------------------------------------\n",
      "[epoch 12], [iter 100 / 227], [train loss 1.09913], [train acc 0.56719]\n",
      "[epoch 12], [iter 200 / 227], [train loss 1.11478], [train acc 0.58203]\n",
      "------------------------------------------------------------\n",
      "[epoch 12], [val loss 1.88616], [val acc 0.19200]\n",
      "------------------------------------------------------------\n",
      "[epoch 13], [iter 100 / 227], [train loss 1.07200], [train acc 0.55156]\n",
      "[epoch 13], [iter 200 / 227], [train loss 1.09769], [train acc 0.56453]\n",
      "------------------------------------------------------------\n",
      "[epoch 13], [val loss 0.99557], [val acc 0.81882]\n",
      "------------------------------------------------------------\n",
      "[epoch 14], [iter 100 / 227], [train loss 0.98839], [train acc 0.57875]\n",
      "[epoch 14], [iter 200 / 227], [train loss 1.05181], [train acc 0.58000]\n",
      "------------------------------------------------------------\n",
      "[epoch 14], [val loss 0.91526], [val acc 0.77008]\n",
      "------------------------------------------------------------\n",
      "[epoch 15], [iter 100 / 227], [train loss 0.99901], [train acc 0.58937]\n",
      "[epoch 15], [iter 200 / 227], [train loss 1.01729], [train acc 0.58906]\n",
      "------------------------------------------------------------\n",
      "[epoch 15], [val loss 1.07336], [val acc 0.75062]\n",
      "------------------------------------------------------------\n",
      "[epoch 16], [iter 100 / 227], [train loss 0.98700], [train acc 0.60188]\n",
      "[epoch 16], [iter 200 / 227], [train loss 1.03459], [train acc 0.59672]\n",
      "------------------------------------------------------------\n",
      "[epoch 16], [val loss 1.00696], [val acc 0.83106]\n",
      "------------------------------------------------------------\n",
      "[epoch 17], [iter 100 / 227], [train loss 0.91784], [train acc 0.62687]\n",
      "[epoch 17], [iter 200 / 227], [train loss 0.94949], [train acc 0.60813]\n",
      "------------------------------------------------------------\n",
      "[epoch 17], [val loss 0.95172], [val acc 0.79389]\n",
      "------------------------------------------------------------\n",
      "[epoch 18], [iter 100 / 227], [train loss 0.96090], [train acc 0.59188]\n",
      "[epoch 18], [iter 200 / 227], [train loss 0.97663], [train acc 0.58813]\n",
      "------------------------------------------------------------\n",
      "[epoch 18], [val loss 0.89087], [val acc 0.80079]\n",
      "------------------------------------------------------------\n",
      "[epoch 19], [iter 100 / 227], [train loss 0.89183], [train acc 0.63500]\n",
      "[epoch 19], [iter 200 / 227], [train loss 0.91997], [train acc 0.62109]\n",
      "------------------------------------------------------------\n",
      "[epoch 19], [val loss 1.01551], [val acc 0.82746]\n",
      "------------------------------------------------------------\n",
      "[epoch 20], [iter 100 / 227], [train loss 0.86659], [train acc 0.63094]\n",
      "[epoch 20], [iter 200 / 227], [train loss 0.90662], [train acc 0.61328]\n",
      "------------------------------------------------------------\n",
      "[epoch 20], [val loss 1.10205], [val acc 0.80515]\n",
      "------------------------------------------------------------\n",
      "[epoch 21], [iter 100 / 227], [train loss 0.91370], [train acc 0.61406]\n",
      "[epoch 21], [iter 200 / 227], [train loss 0.91593], [train acc 0.62109]\n",
      "------------------------------------------------------------\n",
      "[epoch 21], [val loss 0.90713], [val acc 0.85510]\n",
      "------------------------------------------------------------\n",
      "*****************************************************\n",
      "best record: [epoch 21], [val loss 0.90713], [val acc 0.85510]\n",
      "*****************************************************\n",
      "[epoch 22], [iter 100 / 227], [train loss 0.81972], [train acc 0.65344]\n",
      "[epoch 22], [iter 200 / 227], [train loss 0.84855], [train acc 0.64266]\n",
      "------------------------------------------------------------\n",
      "[epoch 22], [val loss 0.88683], [val acc 0.78254]\n",
      "------------------------------------------------------------\n",
      "[epoch 23], [iter 100 / 227], [train loss 0.88083], [train acc 0.64687]\n",
      "[epoch 23], [iter 200 / 227], [train loss 0.88291], [train acc 0.64000]\n",
      "------------------------------------------------------------\n",
      "[epoch 23], [val loss 0.74230], [val acc 0.82025]\n",
      "------------------------------------------------------------\n",
      "[epoch 24], [iter 100 / 227], [train loss 0.82172], [train acc 0.64906]\n",
      "[epoch 24], [iter 200 / 227], [train loss 0.86089], [train acc 0.62766]\n",
      "------------------------------------------------------------\n",
      "[epoch 24], [val loss 0.88627], [val acc 0.82047]\n",
      "------------------------------------------------------------\n",
      "[epoch 25], [iter 100 / 227], [train loss 0.79453], [train acc 0.62813]\n",
      "[epoch 25], [iter 200 / 227], [train loss 0.83100], [train acc 0.63375]\n"
     ]
    },
    {
     "name": "stdout",
     "output_type": "stream",
     "text": [
      "------------------------------------------------------------\n",
      "[epoch 25], [val loss 0.81414], [val acc 0.81259]\n",
      "------------------------------------------------------------\n"
     ]
    }
   ],
   "source": [
    "epoch_num = 25\n",
    "best_val_acc = 0\n",
    "total_loss_val, total_acc_val = [],[]\n",
    "for epoch in range(1, epoch_num+1):\n",
    "    loss_train, acc_train = train(train_loader, model, criterion, optimizer, epoch)\n",
    "    loss_val, acc_val = validate(val_loader, model, criterion, optimizer, epoch)\n",
    "    total_loss_val.append(loss_val)\n",
    "    total_acc_val.append(acc_val)\n",
    "    if acc_val > best_val_acc:\n",
    "        best_val_acc = acc_val\n",
    "        torch.save(model.state_dict(), \"densenet121_skin_lesion_class_bias_class_balance_loss.pt\")\n",
    "        print('*****************************************************')\n",
    "        print('best record: [epoch %d], [val loss %.5f], [val acc %.5f]' % (epoch, loss_val, acc_val))\n",
    "        print('*****************************************************')\n",
    "\n",
    "        "
   ]
  },
  {
   "cell_type": "markdown",
   "metadata": {},
   "source": [
    "### Oversampling + Class balance loss"
   ]
  },
  {
   "cell_type": "code",
   "execution_count": 40,
   "metadata": {
    "scrolled": false
   },
   "outputs": [
    {
     "name": "stdout",
     "output_type": "stream",
     "text": [
      "[epoch 1], [iter 100 / 973], [train loss 1.31358], [train acc 0.50281]\n",
      "[epoch 1], [iter 200 / 973], [train loss 1.18710], [train acc 0.55875]\n",
      "[epoch 1], [iter 300 / 973], [train loss 1.10418], [train acc 0.58823]\n",
      "[epoch 1], [iter 400 / 973], [train loss 1.04262], [train acc 0.60977]\n",
      "[epoch 1], [iter 500 / 973], [train loss 0.98997], [train acc 0.62813]\n",
      "[epoch 1], [iter 600 / 973], [train loss 0.95875], [train acc 0.64000]\n",
      "[epoch 1], [iter 700 / 973], [train loss 0.92590], [train acc 0.65250]\n",
      "[epoch 1], [iter 800 / 973], [train loss 0.89717], [train acc 0.66344]\n",
      "[epoch 1], [iter 900 / 973], [train loss 0.87050], [train acc 0.67337]\n",
      "------------------------------------------------------------\n",
      "[epoch 1], [val loss 0.50158], [val acc 0.83204]\n",
      "------------------------------------------------------------\n",
      "*****************************************************\n",
      "best record: [epoch 1], [val loss 0.50158], [val acc 0.83204]\n",
      "*****************************************************\n",
      "[epoch 2], [iter 100 / 973], [train loss 0.61905], [train acc 0.76219]\n",
      "[epoch 2], [iter 200 / 973], [train loss 0.60830], [train acc 0.76484]\n",
      "[epoch 2], [iter 300 / 973], [train loss 0.61845], [train acc 0.76281]\n",
      "[epoch 2], [iter 400 / 973], [train loss 0.60199], [train acc 0.76891]\n",
      "[epoch 2], [iter 500 / 973], [train loss 0.59694], [train acc 0.77231]\n",
      "[epoch 2], [iter 600 / 973], [train loss 0.59429], [train acc 0.77359]\n",
      "[epoch 2], [iter 700 / 973], [train loss 0.58904], [train acc 0.77545]\n",
      "[epoch 2], [iter 800 / 973], [train loss 0.58347], [train acc 0.77719]\n",
      "[epoch 2], [iter 900 / 973], [train loss 0.57653], [train acc 0.78045]\n",
      "------------------------------------------------------------\n",
      "[epoch 2], [val loss 0.40467], [val acc 0.86276]\n",
      "------------------------------------------------------------\n",
      "*****************************************************\n",
      "best record: [epoch 2], [val loss 0.40467], [val acc 0.86276]\n",
      "*****************************************************\n",
      "[epoch 3], [iter 100 / 973], [train loss 0.49242], [train acc 0.81250]\n",
      "[epoch 3], [iter 200 / 973], [train loss 0.47393], [train acc 0.81875]\n",
      "[epoch 3], [iter 300 / 973], [train loss 0.47456], [train acc 0.82021]\n",
      "[epoch 3], [iter 400 / 973], [train loss 0.47528], [train acc 0.81937]\n",
      "[epoch 3], [iter 500 / 973], [train loss 0.46357], [train acc 0.82425]\n",
      "[epoch 3], [iter 600 / 973], [train loss 0.45866], [train acc 0.82568]\n",
      "[epoch 3], [iter 700 / 973], [train loss 0.45389], [train acc 0.82679]\n",
      "[epoch 3], [iter 800 / 973], [train loss 0.45199], [train acc 0.82734]\n",
      "[epoch 3], [iter 900 / 973], [train loss 0.45032], [train acc 0.82792]\n",
      "------------------------------------------------------------\n",
      "[epoch 3], [val loss 0.45443], [val acc 0.86013]\n",
      "------------------------------------------------------------\n",
      "[epoch 4], [iter 100 / 973], [train loss 0.38967], [train acc 0.84469]\n",
      "[epoch 4], [iter 200 / 973], [train loss 0.39341], [train acc 0.84578]\n",
      "[epoch 4], [iter 300 / 973], [train loss 0.38902], [train acc 0.84896]\n",
      "[epoch 4], [iter 400 / 973], [train loss 0.38878], [train acc 0.84914]\n",
      "[epoch 4], [iter 500 / 973], [train loss 0.39220], [train acc 0.84800]\n",
      "[epoch 4], [iter 600 / 973], [train loss 0.38941], [train acc 0.84974]\n",
      "[epoch 4], [iter 700 / 973], [train loss 0.38547], [train acc 0.85009]\n",
      "[epoch 4], [iter 800 / 973], [train loss 0.38533], [train acc 0.84957]\n",
      "[epoch 4], [iter 900 / 973], [train loss 0.38160], [train acc 0.85062]\n",
      "------------------------------------------------------------\n",
      "[epoch 4], [val loss 0.45839], [val acc 0.85345]\n",
      "------------------------------------------------------------\n",
      "[epoch 5], [iter 100 / 973], [train loss 0.32493], [train acc 0.87438]\n",
      "[epoch 5], [iter 200 / 973], [train loss 0.32261], [train acc 0.87453]\n",
      "[epoch 5], [iter 300 / 973], [train loss 0.33348], [train acc 0.87333]\n",
      "[epoch 5], [iter 400 / 973], [train loss 0.33939], [train acc 0.86984]\n",
      "[epoch 5], [iter 500 / 973], [train loss 0.34107], [train acc 0.86800]\n",
      "[epoch 5], [iter 600 / 973], [train loss 0.33455], [train acc 0.86979]\n",
      "[epoch 5], [iter 700 / 973], [train loss 0.33065], [train acc 0.87147]\n",
      "[epoch 5], [iter 800 / 973], [train loss 0.32872], [train acc 0.87277]\n",
      "[epoch 5], [iter 900 / 973], [train loss 0.33090], [train acc 0.87135]\n",
      "------------------------------------------------------------\n",
      "[epoch 5], [val loss 0.62142], [val acc 0.80680]\n",
      "------------------------------------------------------------\n",
      "[epoch 6], [iter 100 / 973], [train loss 0.28625], [train acc 0.88813]\n",
      "[epoch 6], [iter 200 / 973], [train loss 0.31241], [train acc 0.87813]\n",
      "[epoch 6], [iter 300 / 973], [train loss 0.31073], [train acc 0.87885]\n",
      "[epoch 6], [iter 400 / 973], [train loss 0.30675], [train acc 0.87969]\n",
      "[epoch 6], [iter 500 / 973], [train loss 0.29724], [train acc 0.88331]\n",
      "[epoch 6], [iter 600 / 973], [train loss 0.29389], [train acc 0.88453]\n",
      "[epoch 6], [iter 700 / 973], [train loss 0.29132], [train acc 0.88500]\n",
      "[epoch 6], [iter 800 / 973], [train loss 0.28853], [train acc 0.88633]\n",
      "[epoch 6], [iter 900 / 973], [train loss 0.28474], [train acc 0.88858]\n",
      "------------------------------------------------------------\n",
      "[epoch 6], [val loss 0.45089], [val acc 0.87215]\n",
      "------------------------------------------------------------\n",
      "*****************************************************\n",
      "best record: [epoch 6], [val loss 0.45089], [val acc 0.87215]\n",
      "*****************************************************\n",
      "[epoch 7], [iter 100 / 973], [train loss 0.25368], [train acc 0.90375]\n",
      "[epoch 7], [iter 200 / 973], [train loss 0.25782], [train acc 0.90000]\n",
      "[epoch 7], [iter 300 / 973], [train loss 0.26697], [train acc 0.89573]\n",
      "[epoch 7], [iter 400 / 973], [train loss 0.26938], [train acc 0.89563]\n",
      "[epoch 7], [iter 500 / 973], [train loss 0.27429], [train acc 0.89563]\n",
      "[epoch 7], [iter 600 / 973], [train loss 0.26957], [train acc 0.89620]\n",
      "[epoch 7], [iter 700 / 973], [train loss 0.26427], [train acc 0.89705]\n",
      "[epoch 7], [iter 800 / 973], [train loss 0.25914], [train acc 0.89848]\n",
      "[epoch 7], [iter 900 / 973], [train loss 0.25791], [train acc 0.89910]\n",
      "------------------------------------------------------------\n",
      "[epoch 7], [val loss 0.43688], [val acc 0.86592]\n",
      "------------------------------------------------------------\n",
      "[epoch 8], [iter 100 / 973], [train loss 0.20788], [train acc 0.91656]\n",
      "[epoch 8], [iter 200 / 973], [train loss 0.21722], [train acc 0.91297]\n",
      "[epoch 8], [iter 300 / 973], [train loss 0.22373], [train acc 0.91229]\n",
      "[epoch 8], [iter 400 / 973], [train loss 0.22265], [train acc 0.91359]\n",
      "[epoch 8], [iter 500 / 973], [train loss 0.22290], [train acc 0.91275]\n",
      "[epoch 8], [iter 600 / 973], [train loss 0.22598], [train acc 0.91161]\n",
      "[epoch 8], [iter 700 / 973], [train loss 0.22655], [train acc 0.91192]\n",
      "[epoch 8], [iter 800 / 973], [train loss 0.22959], [train acc 0.91031]\n",
      "[epoch 8], [iter 900 / 973], [train loss 0.22989], [train acc 0.91045]\n",
      "------------------------------------------------------------\n",
      "[epoch 8], [val loss 0.55022], [val acc 0.84744]\n",
      "------------------------------------------------------------\n",
      "[epoch 9], [iter 100 / 973], [train loss 0.20076], [train acc 0.91750]\n",
      "[epoch 9], [iter 200 / 973], [train loss 0.21090], [train acc 0.91719]\n",
      "[epoch 9], [iter 300 / 973], [train loss 0.20489], [train acc 0.91958]\n",
      "[epoch 9], [iter 400 / 973], [train loss 0.19836], [train acc 0.92234]\n",
      "[epoch 9], [iter 500 / 973], [train loss 0.20210], [train acc 0.92094]\n",
      "[epoch 9], [iter 600 / 973], [train loss 0.20437], [train acc 0.92026]\n",
      "[epoch 9], [iter 700 / 973], [train loss 0.20205], [train acc 0.92116]\n",
      "[epoch 9], [iter 800 / 973], [train loss 0.20352], [train acc 0.92043]\n",
      "[epoch 9], [iter 900 / 973], [train loss 0.20171], [train acc 0.92073]\n",
      "------------------------------------------------------------\n",
      "[epoch 9], [val loss 0.50352], [val acc 0.86614]\n",
      "------------------------------------------------------------\n",
      "[epoch 10], [iter 100 / 973], [train loss 0.18923], [train acc 0.91938]\n",
      "[epoch 10], [iter 200 / 973], [train loss 0.18855], [train acc 0.92359]\n",
      "[epoch 10], [iter 300 / 973], [train loss 0.18648], [train acc 0.92531]\n",
      "[epoch 10], [iter 400 / 973], [train loss 0.18812], [train acc 0.92609]\n",
      "[epoch 10], [iter 500 / 973], [train loss 0.18697], [train acc 0.92663]\n",
      "[epoch 10], [iter 600 / 973], [train loss 0.18933], [train acc 0.92656]\n"
     ]
    },
    {
     "name": "stdout",
     "output_type": "stream",
     "text": [
      "[epoch 10], [iter 700 / 973], [train loss 0.18808], [train acc 0.92616]\n",
      "[epoch 10], [iter 800 / 973], [train loss 0.18759], [train acc 0.92648]\n",
      "[epoch 10], [iter 900 / 973], [train loss 0.18757], [train acc 0.92694]\n",
      "------------------------------------------------------------\n",
      "[epoch 10], [val loss 0.59026], [val acc 0.86133]\n",
      "------------------------------------------------------------\n",
      "[epoch 11], [iter 100 / 973], [train loss 0.17136], [train acc 0.93000]\n",
      "[epoch 11], [iter 200 / 973], [train loss 0.17420], [train acc 0.93156]\n",
      "[epoch 11], [iter 300 / 973], [train loss 0.17821], [train acc 0.93031]\n",
      "[epoch 11], [iter 400 / 973], [train loss 0.17460], [train acc 0.93102]\n",
      "[epoch 11], [iter 500 / 973], [train loss 0.16895], [train acc 0.93263]\n",
      "[epoch 11], [iter 600 / 973], [train loss 0.17081], [train acc 0.93120]\n",
      "[epoch 11], [iter 700 / 973], [train loss 0.17054], [train acc 0.93188]\n",
      "[epoch 11], [iter 800 / 973], [train loss 0.17334], [train acc 0.93133]\n",
      "[epoch 11], [iter 900 / 973], [train loss 0.17385], [train acc 0.93101]\n",
      "------------------------------------------------------------\n",
      "[epoch 11], [val loss 0.47126], [val acc 0.88755]\n",
      "------------------------------------------------------------\n",
      "*****************************************************\n",
      "best record: [epoch 11], [val loss 0.47126], [val acc 0.88755]\n",
      "*****************************************************\n",
      "[epoch 12], [iter 100 / 973], [train loss 0.17188], [train acc 0.93594]\n",
      "[epoch 12], [iter 200 / 973], [train loss 0.16215], [train acc 0.93906]\n",
      "[epoch 12], [iter 300 / 973], [train loss 0.15820], [train acc 0.93990]\n",
      "[epoch 12], [iter 400 / 973], [train loss 0.15574], [train acc 0.93984]\n",
      "[epoch 12], [iter 500 / 973], [train loss 0.15445], [train acc 0.94056]\n",
      "[epoch 12], [iter 600 / 973], [train loss 0.15564], [train acc 0.93958]\n",
      "[epoch 12], [iter 700 / 973], [train loss 0.15938], [train acc 0.93821]\n",
      "[epoch 12], [iter 800 / 973], [train loss 0.15775], [train acc 0.93914]\n",
      "[epoch 12], [iter 900 / 973], [train loss 0.15609], [train acc 0.93906]\n",
      "------------------------------------------------------------\n",
      "[epoch 12], [val loss 0.47593], [val acc 0.89281]\n",
      "------------------------------------------------------------\n",
      "*****************************************************\n",
      "best record: [epoch 12], [val loss 0.47593], [val acc 0.89281]\n",
      "*****************************************************\n",
      "[epoch 13], [iter 100 / 973], [train loss 0.13783], [train acc 0.94969]\n",
      "[epoch 13], [iter 200 / 973], [train loss 0.13653], [train acc 0.95094]\n",
      "[epoch 13], [iter 300 / 973], [train loss 0.14706], [train acc 0.94479]\n",
      "[epoch 13], [iter 400 / 973], [train loss 0.15907], [train acc 0.94109]\n",
      "[epoch 13], [iter 500 / 973], [train loss 0.15557], [train acc 0.94150]\n",
      "[epoch 13], [iter 600 / 973], [train loss 0.15522], [train acc 0.94109]\n",
      "[epoch 13], [iter 700 / 973], [train loss 0.15124], [train acc 0.94179]\n",
      "[epoch 13], [iter 800 / 973], [train loss 0.15099], [train acc 0.94195]\n",
      "[epoch 13], [iter 900 / 973], [train loss 0.14989], [train acc 0.94205]\n",
      "------------------------------------------------------------\n",
      "[epoch 13], [val loss 0.45532], [val acc 0.89160]\n",
      "------------------------------------------------------------\n",
      "[epoch 14], [iter 100 / 973], [train loss 0.09933], [train acc 0.95969]\n",
      "[epoch 14], [iter 200 / 973], [train loss 0.10978], [train acc 0.95781]\n",
      "[epoch 14], [iter 300 / 973], [train loss 0.11796], [train acc 0.95406]\n",
      "[epoch 14], [iter 400 / 973], [train loss 0.11983], [train acc 0.95359]\n",
      "[epoch 14], [iter 500 / 973], [train loss 0.12710], [train acc 0.95112]\n",
      "[epoch 14], [iter 600 / 973], [train loss 0.12721], [train acc 0.95115]\n",
      "[epoch 14], [iter 700 / 973], [train loss 0.12712], [train acc 0.95085]\n",
      "[epoch 14], [iter 800 / 973], [train loss 0.12989], [train acc 0.94937]\n",
      "[epoch 14], [iter 900 / 973], [train loss 0.12791], [train acc 0.95014]\n",
      "------------------------------------------------------------\n",
      "[epoch 14], [val loss 0.56958], [val acc 0.85871]\n",
      "------------------------------------------------------------\n",
      "[epoch 15], [iter 100 / 973], [train loss 0.09516], [train acc 0.96313]\n",
      "[epoch 15], [iter 200 / 973], [train loss 0.10545], [train acc 0.95656]\n",
      "[epoch 15], [iter 300 / 973], [train loss 0.11008], [train acc 0.95417]\n",
      "[epoch 15], [iter 400 / 973], [train loss 0.12101], [train acc 0.95086]\n",
      "[epoch 15], [iter 500 / 973], [train loss 0.12755], [train acc 0.94919]\n",
      "[epoch 15], [iter 600 / 973], [train loss 0.12930], [train acc 0.94917]\n",
      "[epoch 15], [iter 700 / 973], [train loss 0.12619], [train acc 0.95040]\n",
      "[epoch 15], [iter 800 / 973], [train loss 0.12707], [train acc 0.94996]\n",
      "[epoch 15], [iter 900 / 973], [train loss 0.12853], [train acc 0.94969]\n",
      "------------------------------------------------------------\n",
      "[epoch 15], [val loss 0.52396], [val acc 0.88417]\n",
      "------------------------------------------------------------\n",
      "[epoch 16], [iter 100 / 973], [train loss 0.10791], [train acc 0.95781]\n",
      "[epoch 16], [iter 200 / 973], [train loss 0.10840], [train acc 0.95813]\n",
      "[epoch 16], [iter 300 / 973], [train loss 0.11445], [train acc 0.95698]\n",
      "[epoch 16], [iter 400 / 973], [train loss 0.11262], [train acc 0.95789]\n",
      "[epoch 16], [iter 500 / 973], [train loss 0.11073], [train acc 0.95869]\n",
      "[epoch 16], [iter 600 / 973], [train loss 0.11088], [train acc 0.95823]\n",
      "[epoch 16], [iter 700 / 973], [train loss 0.10920], [train acc 0.95888]\n",
      "[epoch 16], [iter 800 / 973], [train loss 0.11053], [train acc 0.95836]\n",
      "[epoch 16], [iter 900 / 973], [train loss 0.11076], [train acc 0.95795]\n",
      "------------------------------------------------------------\n",
      "[epoch 16], [val loss 0.57105], [val acc 0.87335]\n",
      "------------------------------------------------------------\n",
      "[epoch 17], [iter 100 / 973], [train loss 0.13337], [train acc 0.95344]\n",
      "[epoch 17], [iter 200 / 973], [train loss 0.13973], [train acc 0.95109]\n",
      "[epoch 17], [iter 300 / 973], [train loss 0.13278], [train acc 0.95250]\n",
      "[epoch 17], [iter 400 / 973], [train loss 0.12695], [train acc 0.95469]\n",
      "[epoch 17], [iter 500 / 973], [train loss 0.12131], [train acc 0.95544]\n",
      "[epoch 17], [iter 600 / 973], [train loss 0.11721], [train acc 0.95693]\n",
      "[epoch 17], [iter 700 / 973], [train loss 0.11523], [train acc 0.95750]\n",
      "[epoch 17], [iter 800 / 973], [train loss 0.11663], [train acc 0.95715]\n",
      "[epoch 17], [iter 900 / 973], [train loss 0.11612], [train acc 0.95757]\n",
      "------------------------------------------------------------\n",
      "[epoch 17], [val loss 0.58404], [val acc 0.87291]\n",
      "------------------------------------------------------------\n",
      "[epoch 18], [iter 100 / 973], [train loss 0.09339], [train acc 0.96781]\n",
      "[epoch 18], [iter 200 / 973], [train loss 0.09808], [train acc 0.96437]\n",
      "[epoch 18], [iter 300 / 973], [train loss 0.10278], [train acc 0.96396]\n",
      "[epoch 18], [iter 400 / 973], [train loss 0.11099], [train acc 0.95961]\n",
      "[epoch 18], [iter 500 / 973], [train loss 0.11262], [train acc 0.95881]\n",
      "[epoch 18], [iter 600 / 973], [train loss 0.11206], [train acc 0.95917]\n",
      "[epoch 18], [iter 700 / 973], [train loss 0.11152], [train acc 0.95937]\n",
      "[epoch 18], [iter 800 / 973], [train loss 0.10997], [train acc 0.95937]\n",
      "[epoch 18], [iter 900 / 973], [train loss 0.10780], [train acc 0.96056]\n",
      "------------------------------------------------------------\n",
      "[epoch 18], [val loss 0.52868], [val acc 0.88154]\n",
      "------------------------------------------------------------\n",
      "[epoch 19], [iter 100 / 973], [train loss 0.08407], [train acc 0.96937]\n",
      "[epoch 19], [iter 200 / 973], [train loss 0.09287], [train acc 0.96391]\n",
      "[epoch 19], [iter 300 / 973], [train loss 0.09588], [train acc 0.96313]\n",
      "[epoch 19], [iter 400 / 973], [train loss 0.09489], [train acc 0.96391]\n",
      "[epoch 19], [iter 500 / 973], [train loss 0.09318], [train acc 0.96450]\n",
      "[epoch 19], [iter 600 / 973], [train loss 0.09377], [train acc 0.96406]\n",
      "[epoch 19], [iter 700 / 973], [train loss 0.09535], [train acc 0.96344]\n",
      "[epoch 19], [iter 800 / 973], [train loss 0.09464], [train acc 0.96375]\n",
      "[epoch 19], [iter 900 / 973], [train loss 0.09365], [train acc 0.96420]\n",
      "------------------------------------------------------------\n",
      "[epoch 19], [val loss 0.57737], [val acc 0.88657]\n",
      "------------------------------------------------------------\n",
      "[epoch 20], [iter 100 / 973], [train loss 0.08385], [train acc 0.96937]\n",
      "[epoch 20], [iter 200 / 973], [train loss 0.08776], [train acc 0.96625]\n"
     ]
    },
    {
     "name": "stdout",
     "output_type": "stream",
     "text": [
      "[epoch 20], [iter 300 / 973], [train loss 0.09170], [train acc 0.96396]\n",
      "[epoch 20], [iter 400 / 973], [train loss 0.09321], [train acc 0.96352]\n",
      "[epoch 20], [iter 500 / 973], [train loss 0.09298], [train acc 0.96400]\n",
      "[epoch 20], [iter 600 / 973], [train loss 0.09428], [train acc 0.96391]\n",
      "[epoch 20], [iter 700 / 973], [train loss 0.09521], [train acc 0.96362]\n",
      "[epoch 20], [iter 800 / 973], [train loss 0.09258], [train acc 0.96465]\n",
      "[epoch 20], [iter 900 / 973], [train loss 0.09064], [train acc 0.96528]\n",
      "------------------------------------------------------------\n",
      "[epoch 20], [val loss 0.61651], [val acc 0.87313]\n",
      "------------------------------------------------------------\n",
      "[epoch 21], [iter 100 / 973], [train loss 0.07260], [train acc 0.97313]\n",
      "[epoch 21], [iter 200 / 973], [train loss 0.07684], [train acc 0.97250]\n",
      "[epoch 21], [iter 300 / 973], [train loss 0.08208], [train acc 0.97021]\n",
      "[epoch 21], [iter 400 / 973], [train loss 0.08213], [train acc 0.97047]\n",
      "[epoch 21], [iter 500 / 973], [train loss 0.08040], [train acc 0.97044]\n",
      "[epoch 21], [iter 600 / 973], [train loss 0.07981], [train acc 0.97047]\n",
      "[epoch 21], [iter 700 / 973], [train loss 0.08046], [train acc 0.97036]\n",
      "[epoch 21], [iter 800 / 973], [train loss 0.08181], [train acc 0.96988]\n",
      "[epoch 21], [iter 900 / 973], [train loss 0.08067], [train acc 0.97038]\n",
      "------------------------------------------------------------\n",
      "[epoch 21], [val loss 0.62224], [val acc 0.88275]\n",
      "------------------------------------------------------------\n",
      "[epoch 22], [iter 100 / 973], [train loss 0.07778], [train acc 0.97219]\n",
      "[epoch 22], [iter 200 / 973], [train loss 0.07617], [train acc 0.97172]\n",
      "[epoch 22], [iter 300 / 973], [train loss 0.07672], [train acc 0.96990]\n",
      "[epoch 22], [iter 400 / 973], [train loss 0.07419], [train acc 0.97117]\n",
      "[epoch 22], [iter 500 / 973], [train loss 0.07594], [train acc 0.97088]\n",
      "[epoch 22], [iter 600 / 973], [train loss 0.07772], [train acc 0.96974]\n",
      "[epoch 22], [iter 700 / 973], [train loss 0.08031], [train acc 0.96924]\n",
      "[epoch 22], [iter 800 / 973], [train loss 0.07924], [train acc 0.96957]\n",
      "[epoch 22], [iter 900 / 973], [train loss 0.08048], [train acc 0.96927]\n",
      "------------------------------------------------------------\n",
      "[epoch 22], [val loss 0.58506], [val acc 0.89116]\n",
      "------------------------------------------------------------\n",
      "[epoch 23], [iter 100 / 973], [train loss 0.07681], [train acc 0.97156]\n",
      "[epoch 23], [iter 200 / 973], [train loss 0.08472], [train acc 0.96781]\n",
      "[epoch 23], [iter 300 / 973], [train loss 0.09660], [train acc 0.96531]\n",
      "[epoch 23], [iter 400 / 973], [train loss 0.09463], [train acc 0.96641]\n",
      "[epoch 23], [iter 500 / 973], [train loss 0.08920], [train acc 0.96756]\n",
      "[epoch 23], [iter 600 / 973], [train loss 0.08503], [train acc 0.96828]\n",
      "[epoch 23], [iter 700 / 973], [train loss 0.07989], [train acc 0.97013]\n",
      "[epoch 23], [iter 800 / 973], [train loss 0.07874], [train acc 0.97043]\n",
      "[epoch 23], [iter 900 / 973], [train loss 0.07816], [train acc 0.97031]\n",
      "------------------------------------------------------------\n",
      "[epoch 23], [val loss 0.61684], [val acc 0.87095]\n",
      "------------------------------------------------------------\n",
      "[epoch 24], [iter 100 / 973], [train loss 0.05609], [train acc 0.98062]\n",
      "[epoch 24], [iter 200 / 973], [train loss 0.05785], [train acc 0.98078]\n",
      "[epoch 24], [iter 300 / 973], [train loss 0.06365], [train acc 0.97937]\n",
      "[epoch 24], [iter 400 / 973], [train loss 0.06720], [train acc 0.97797]\n",
      "[epoch 24], [iter 500 / 973], [train loss 0.06855], [train acc 0.97725]\n",
      "[epoch 24], [iter 600 / 973], [train loss 0.06933], [train acc 0.97656]\n",
      "[epoch 24], [iter 700 / 973], [train loss 0.06885], [train acc 0.97625]\n",
      "[epoch 24], [iter 800 / 973], [train loss 0.06990], [train acc 0.97566]\n",
      "[epoch 24], [iter 900 / 973], [train loss 0.07179], [train acc 0.97448]\n",
      "------------------------------------------------------------\n",
      "[epoch 24], [val loss 0.54117], [val acc 0.88876]\n",
      "------------------------------------------------------------\n",
      "[epoch 25], [iter 100 / 973], [train loss 0.05628], [train acc 0.98094]\n",
      "[epoch 25], [iter 200 / 973], [train loss 0.06255], [train acc 0.97844]\n",
      "[epoch 25], [iter 300 / 973], [train loss 0.06077], [train acc 0.97885]\n",
      "[epoch 25], [iter 400 / 973], [train loss 0.05897], [train acc 0.97875]\n",
      "[epoch 25], [iter 500 / 973], [train loss 0.05880], [train acc 0.97925]\n",
      "[epoch 25], [iter 600 / 973], [train loss 0.05948], [train acc 0.97891]\n",
      "[epoch 25], [iter 700 / 973], [train loss 0.06263], [train acc 0.97799]\n",
      "[epoch 25], [iter 800 / 973], [train loss 0.06358], [train acc 0.97738]\n",
      "[epoch 25], [iter 900 / 973], [train loss 0.06499], [train acc 0.97667]\n",
      "------------------------------------------------------------\n",
      "[epoch 25], [val loss 0.80510], [val acc 0.88395]\n",
      "------------------------------------------------------------\n"
     ]
    }
   ],
   "source": [
    "epoch_num = 25\n",
    "best_val_acc = 0\n",
    "total_loss_val, total_acc_val = [],[]\n",
    "for epoch in range(1, epoch_num+1):\n",
    "    loss_train, acc_train = train(train_loader, model, criterion, optimizer, epoch)\n",
    "    loss_val, acc_val = validate(val_loader, model, criterion, optimizer, epoch)\n",
    "    total_loss_val.append(loss_val)\n",
    "    total_acc_val.append(acc_val)\n",
    "    if acc_val > best_val_acc:\n",
    "        best_val_acc = acc_val\n",
    "        torch.save(model.state_dict(), \"densenet121_skin_lesion_class_bias_oversampling_class_balance_loss.pt\")\n",
    "        print('*****************************************************')\n",
    "        print('best record: [epoch %d], [val loss %.5f], [val acc %.5f]' % (epoch, loss_val, acc_val))\n",
    "        print('*****************************************************')\n",
    "\n",
    "        "
   ]
  },
  {
   "cell_type": "code",
   "execution_count": 65,
   "metadata": {},
   "outputs": [],
   "source": [
    "def plot_confusion_matrix(cm, classes,\n",
    "                          normalize=False,\n",
    "                          title='Confusion matrix',\n",
    "                          cmap=plt.cm.Blues):\n",
    "    \"\"\"\n",
    "    This function prints and plots the confusion matrix.\n",
    "    Normalization can be applied by setting `normalize=True`.\n",
    "    \"\"\"\n",
    "    plt.imshow(cm, interpolation='nearest', cmap=cmap)\n",
    "    plt.title(title)\n",
    "    plt.colorbar()\n",
    "    tick_marks = np.arange(len(classes))\n",
    "    plt.xticks(tick_marks, classes, rotation=45)\n",
    "    plt.yticks(tick_marks, classes)\n",
    "\n",
    "    if normalize:\n",
    "        cm = cm.astype('float') / cm.sum(axis=1)[:, np.newaxis]\n",
    "\n",
    "    thresh = cm.max() / 2.\n",
    "    for i, j in itertools.product(range(cm.shape[0]), range(cm.shape[1])):\n",
    "        plt.text(j, i, cm[i, j],\n",
    "                 horizontalalignment=\"center\",\n",
    "                 color=\"white\" if cm[i, j] > thresh else \"black\")\n",
    "\n",
    "    plt.tight_layout()\n",
    "    plt.ylabel('True label')\n",
    "    plt.xlabel('Predicted label')"
   ]
  },
  {
   "cell_type": "markdown",
   "metadata": {},
   "source": [
    "### Oversampling"
   ]
  },
  {
   "cell_type": "code",
   "execution_count": 53,
   "metadata": {},
   "outputs": [
    {
     "data": {
      "image/png": "[encoded data removed]",
      "text/plain": [
       "<Figure size 640x480 with 2 Axes>"
      ]
     },
     "metadata": {},
     "output_type": "display_data"
    }
   ],
   "source": [
    "# Load saved state dict of trained model\n",
    "\n",
    "state_dict = torch.load('densenet121_skin_lesion_class_bias_oversampling.pt')\n",
    "model.load_state_dict(state_dict)\n",
    "\n",
    "\n",
    "model.eval()\n",
    "y_label = []\n",
    "y_predict = []\n",
    "with torch.no_grad():\n",
    "    for i, data in enumerate(test_loader):\n",
    "        images, labels = data\n",
    "        N = images.size(0)\n",
    "        images = Variable(images).to(device)\n",
    "        outputs = model(images)\n",
    "        prediction = outputs.max(1, keepdim=True)[1]\n",
    "        y_label.extend(labels.cpu().numpy())\n",
    "        y_predict.extend(np.squeeze(prediction.cpu().numpy().T))\n",
    "\n",
    "# compute the confusion matrix\n",
    "confusion_mtx = confusion_matrix(y_label, y_predict)\n",
    "# plot the confusion matrix\n",
    "plot_labels = ['akiec', 'bcc', 'bkl', 'df', 'nv', 'vasc','mel']\n",
    "plot_confusion_matrix(confusion_mtx, plot_labels)"
   ]
  },
  {
   "cell_type": "markdown",
   "metadata": {},
   "source": [
    "### Class balance loss"
   ]
  },
  {
   "cell_type": "code",
   "execution_count": 36,
   "metadata": {},
   "outputs": [
    {
     "data": {
      "image/png": "[encoded data removed]",
      "text/plain": [
       "<Figure size 640x480 with 2 Axes>"
      ]
     },
     "metadata": {},
     "output_type": "display_data"
    }
   ],
   "source": [
    "\n",
    "\n",
    "\n",
    "# Load saved state dict of trained model\n",
    "\n",
    "state_dict = torch.load('densenet121_skin_lesion_class_bias_class_balance_loss.pt')\n",
    "model.load_state_dict(state_dict)\n",
    "\n",
    "\n",
    "model.eval()\n",
    "y_label = []\n",
    "y_predict = []\n",
    "with torch.no_grad():\n",
    "    for i, data in enumerate(test_loader):\n",
    "        images, labels = data\n",
    "        N = images.size(0)\n",
    "        images = Variable(images).to(device)\n",
    "        outputs = model(images)\n",
    "        prediction = outputs.max(1, keepdim=True)[1]\n",
    "        y_label.extend(labels.cpu().numpy())\n",
    "        y_predict.extend(np.squeeze(prediction.cpu().numpy().T))\n",
    "\n",
    "# compute the confusion matrix\n",
    "confusion_mtx = confusion_matrix(y_label, y_predict)\n",
    "# plot the confusion matrix\n",
    "plot_labels = ['akiec', 'bcc', 'bkl', 'df', 'nv', 'vasc','mel']\n",
    "plot_confusion_matrix(confusion_mtx, plot_labels)"
   ]
  },
  {
   "cell_type": "markdown",
   "metadata": {},
   "source": [
    "### Oversampling +  Class balance loss"
   ]
  },
  {
   "cell_type": "code",
   "execution_count": 66,
   "metadata": {},
   "outputs": [
    {
     "data": {
      "image/png": "[encoded data removed]",
      "text/plain": [
       "<Figure size 640x480 with 2 Axes>"
      ]
     },
     "metadata": {},
     "output_type": "display_data"
    }
   ],
   "source": [
    "\n",
    "\n",
    "\n",
    "\n",
    "\n",
    "# Load saved state dict of trained model\n",
    "\n",
    "state_dict = torch.load('densenet121_skin_lesion_class_bias_oversampling_class_balance_loss.pt')\n",
    "model.load_state_dict(state_dict)\n",
    "\n",
    "\n",
    "model.eval()\n",
    "y_label = []\n",
    "y_predict = []\n",
    "with torch.no_grad():\n",
    "    for i, data in enumerate(test_loader):\n",
    "        images, labels = data\n",
    "        N = images.size(0)\n",
    "        images = Variable(images).to(device)\n",
    "        outputs = model(images)\n",
    "        prediction = outputs.max(1, keepdim=True)[1]\n",
    "        y_label.extend(labels.cpu().numpy())\n",
    "        y_predict.extend(np.squeeze(prediction.cpu().numpy().T))\n",
    "\n",
    "# compute the confusion matrix\n",
    "confusion_mtx = confusion_matrix(y_label, y_predict)\n",
    "# plot the confusion matrix\n",
    "plot_labels = ['akiec', 'bcc', 'bkl', 'df', 'nv', 'vasc','mel']\n",
    "plot_confusion_matrix(confusion_mtx, plot_labels)"
   ]
  },
  {
   "cell_type": "markdown",
   "metadata": {},
   "source": [
    "### Oversampling + Weighted_cross-entropy loss"
   ]
  },
  {
   "cell_type": "code",
   "execution_count": 43,
   "metadata": {},
   "outputs": [
    {
     "data": {
      "image/png": "[encoded data removed]",
      "text/plain": [
       "<Figure size 640x480 with 2 Axes>"
      ]
     },
     "metadata": {},
     "output_type": "display_data"
    }
   ],
   "source": [
    "\n",
    "\n",
    "\n",
    "# Load saved state dict of trained model\n",
    "\n",
    "state_dict = torch.load('densenet121_skin_lesion_weighted_cross-entropy_loss_oversampling.pt')\n",
    "model.load_state_dict(state_dict)\n",
    "densenet121_skin_lesion_class_bias_class_balance_loss.pt\n",
    "\n",
    "model.eval()\n",
    "y_label = []\n",
    "y_predict = []\n",
    "with torch.no_grad():\n",
    "    for i, data in enumerate(test_loader):\n",
    "        images, labels = data\n",
    "        N = images.size(0)\n",
    "        images = Variable(images).to(device)\n",
    "        outputs = model(images)\n",
    "        prediction = outputs.max(1, keepdim=True)[1]\n",
    "        y_label.extend(labels.cpu().numpy())\n",
    "        y_predict.extend(np.squeeze(prediction.cpu().numpy().T))\n",
    "\n",
    "# compute the confusion matrix\n",
    "confusion_mtx = confusion_matrix(y_label, y_predict)\n",
    "# plot the confusion matrix\n",
    "plot_labels = ['akiec', 'bcc', 'bkl', 'df', 'nv', 'vasc','mel']\n",
    "plot_confusion_matrix(confusion_mtx, plot_labels)"
   ]
  },
  {
   "cell_type": "markdown",
   "metadata": {},
   "source": [
    "### Oversampling"
   ]
  },
  {
   "cell_type": "code",
   "execution_count": 54,
   "metadata": {},
   "outputs": [
    {
     "name": "stdout",
     "output_type": "stream",
     "text": [
      "              precision    recall  f1-score   support\n",
      "\n",
      "       akiec       0.64      0.52      0.57        56\n",
      "         bcc       0.76      0.69      0.72        55\n",
      "         bkl       0.71      0.61      0.65       147\n",
      "          df       0.76      0.72      0.74        18\n",
      "          nv       0.96      0.97      0.97      1556\n",
      "        vasc       0.95      0.79      0.86        24\n",
      "         mel       0.46      0.57      0.51        74\n",
      "\n",
      "    accuracy                           0.90      1930\n",
      "   macro avg       0.75      0.70      0.72      1930\n",
      "weighted avg       0.90      0.90      0.90      1930\n",
      "\n"
     ]
    }
   ],
   "source": [
    "# Generate a classification report\n",
    "report = classification_report(y_label, y_predict, target_names=plot_labels)\n",
    "print(report)"
   ]
  },
  {
   "cell_type": "markdown",
   "metadata": {},
   "source": [
    "### Class balance loss"
   ]
  },
  {
   "cell_type": "code",
   "execution_count": 37,
   "metadata": {},
   "outputs": [
    {
     "name": "stdout",
     "output_type": "stream",
     "text": [
      "              precision    recall  f1-score   support\n",
      "\n",
      "       akiec       0.65      0.82      0.72        51\n",
      "         bcc       0.83      0.92      0.87        60\n",
      "         bkl       0.80      0.70      0.75       151\n",
      "          df       0.61      0.92      0.73        12\n",
      "          nv       0.97      0.96      0.97      1560\n",
      "        vasc       0.79      0.86      0.83        22\n",
      "         mel       0.53      0.64      0.58        74\n",
      "\n",
      "    accuracy                           0.92      1930\n",
      "   macro avg       0.74      0.83      0.78      1930\n",
      "weighted avg       0.93      0.92      0.92      1930\n",
      "\n"
     ]
    }
   ],
   "source": [
    "# Generate a classification report\n",
    "report = classification_report(y_label, y_predict, target_names=plot_labels)\n",
    "print(report)"
   ]
  },
  {
   "cell_type": "markdown",
   "metadata": {},
   "source": [
    "### Oversampling + Class balance loss"
   ]
  },
  {
   "cell_type": "code",
   "execution_count": 67,
   "metadata": {},
   "outputs": [
    {
     "name": "stdout",
     "output_type": "stream",
     "text": [
      "              precision    recall  f1-score   support\n",
      "\n",
      "       akiec       0.63      0.75      0.68        51\n",
      "         bcc       0.82      0.90      0.86        60\n",
      "         bkl       0.82      0.70      0.75       151\n",
      "          df       0.47      0.75      0.58        12\n",
      "          nv       0.97      0.96      0.97      1560\n",
      "        vasc       0.79      0.86      0.83        22\n",
      "         mel       0.55      0.61      0.58        74\n",
      "\n",
      "    accuracy                           0.92      1930\n",
      "   macro avg       0.72      0.79      0.75      1930\n",
      "weighted avg       0.92      0.92      0.92      1930\n",
      "\n"
     ]
    }
   ],
   "source": [
    "# Generate a classification report\n",
    "report = classification_report(y_label, y_predict, target_names=plot_labels)\n",
    "print(report)"
   ]
  },
  {
   "cell_type": "markdown",
   "metadata": {},
   "source": [
    "### Oversampling + Weighted_cross-entropy loss"
   ]
  },
  {
   "cell_type": "code",
   "execution_count": 44,
   "metadata": {},
   "outputs": [
    {
     "name": "stdout",
     "output_type": "stream",
     "text": [
      "              precision    recall  f1-score   support\n",
      "\n",
      "       akiec       0.59      0.63      0.61        51\n",
      "         bcc       0.73      0.87      0.79        60\n",
      "         bkl       0.74      0.68      0.71       151\n",
      "          df       0.42      0.83      0.56        12\n",
      "          nv       0.98      0.93      0.95      1560\n",
      "        vasc       0.91      0.91      0.91        22\n",
      "         mel       0.36      0.73      0.48        74\n",
      "\n",
      "    accuracy                           0.89      1930\n",
      "   macro avg       0.68      0.80      0.72      1930\n",
      "weighted avg       0.92      0.89      0.90      1930\n",
      "\n"
     ]
    }
   ],
   "source": [
    "# Generate a classification report\n",
    "report = classification_report(y_label, y_predict, target_names=plot_labels)\n",
    "print(report)"
   ]
  },
  {
   "cell_type": "markdown",
   "metadata": {},
   "source": [
    "## Bias Investigation"
   ]
  },
  {
   "cell_type": "markdown",
   "metadata": {},
   "source": [
    "### 1. Class"
   ]
  },
  {
   "cell_type": "markdown",
   "metadata": {},
   "source": [
    "### Oversampling"
   ]
  },
  {
   "cell_type": "code",
   "execution_count": 85,
   "metadata": {},
   "outputs": [
    {
     "data": {
      "image/png": "[encoded data removed]",
      "text/plain": [
       "<Figure size 640x480 with 1 Axes>"
      ]
     },
     "metadata": {},
     "output_type": "display_data"
    }
   ],
   "source": [
    "label_accuracy = np.diag(confusion_mtx) / np.sum(confusion_mtx, axis=1)\n",
    "plt.bar(np.arange(7), label_accuracy, width=0.6)\n",
    "plt.xlabel('Label (Skin Lesion Type)')\n",
    "plt.ylabel('Test Accuracy')\n",
    "\n",
    "# Add values above the bars\n",
    "for i, v in enumerate(label_accuracy):\n",
    "    plt.text(i, v+0.01, str(round(v,2)), ha='center', fontsize=8)\n",
    "\n",
    "plt.show()\n"
   ]
  },
  {
   "cell_type": "markdown",
   "metadata": {},
   "source": [
    "### Class balance loss"
   ]
  },
  {
   "cell_type": "code",
   "execution_count": 68,
   "metadata": {},
   "outputs": [
    {
     "data": {
      "image/png": "[encoded data removed]",
      "text/plain": [
       "<Figure size 640x480 with 1 Axes>"
      ]
     },
     "metadata": {},
     "output_type": "display_data"
    }
   ],
   "source": [
    "label_accuracy = np.diag(confusion_mtx) / np.sum(confusion_mtx, axis=1)\n",
    "plt.bar(np.arange(7), label_accuracy, width=0.6)\n",
    "plt.xlabel('Label (Skin Lesion Type)')\n",
    "plt.ylabel('Test Accuracy')\n",
    "\n",
    "# Add values above the bars\n",
    "for i, v in enumerate(label_accuracy):\n",
    "    plt.text(i, v+0.01, str(round(v,2)), ha='center', fontsize=8)\n",
    "\n",
    "plt.show()\n"
   ]
  },
  {
   "cell_type": "markdown",
   "metadata": {},
   "source": [
    "### Over sampling + Class balance loss"
   ]
  },
  {
   "cell_type": "code",
   "execution_count": 38,
   "metadata": {},
   "outputs": [
    {
     "data": {
      "image/png": "[encoded data removed]",
      "text/plain": [
       "<Figure size 640x480 with 1 Axes>"
      ]
     },
     "metadata": {},
     "output_type": "display_data"
    }
   ],
   "source": [
    "label_accuracy = np.diag(confusion_mtx) / np.sum(confusion_mtx, axis=1)\n",
    "plt.bar(np.arange(7), label_accuracy, width=0.6)\n",
    "plt.xlabel('Label (Skin Lesion Type)')\n",
    "plt.ylabel('Test Accuracy')\n",
    "\n",
    "# Add values above the bars\n",
    "for i, v in enumerate(label_accuracy):\n",
    "    plt.text(i, v+0.01, str(round(v,2)), ha='center', fontsize=8)\n",
    "\n",
    "plt.show()\n"
   ]
  },
  {
   "cell_type": "markdown",
   "metadata": {},
   "source": [
    "### Oversampling + Weighted_cross-entropy loss"
   ]
  },
  {
   "cell_type": "code",
   "execution_count": 45,
   "metadata": {},
   "outputs": [
    {
     "data": {
      "image/png": "[encoded data removed]",
      "text/plain": [
       "<Figure size 640x480 with 1 Axes>"
      ]
     },
     "metadata": {},
     "output_type": "display_data"
    }
   ],
   "source": [
    "label_accuracy = np.diag(confusion_mtx) / np.sum(confusion_mtx, axis=1)\n",
    "plt.bar(np.arange(7), label_accuracy, width=0.6)\n",
    "plt.xlabel('Label (Skin Lesion Type)')\n",
    "plt.ylabel('Test Accuracy')\n",
    "\n",
    "# Add values above the bars\n",
    "for i, v in enumerate(label_accuracy):\n",
    "    plt.text(i, v+0.01, str(round(v,2)), ha='center', fontsize=8)\n",
    "\n",
    "plt.show()\n"
   ]
  },
  {
   "cell_type": "code",
   "execution_count": null,
   "metadata": {},
   "outputs": [],
   "source": []
  },
  {
   "cell_type": "code",
   "execution_count": null,
   "metadata": {},
   "outputs": [],
   "source": []
  }
 ],
 "metadata": {
  "kernelspec": {
   "display_name": "Python 3 (ipykernel)",
   "language": "python",
   "name": "python3"
  },
  "language_info": {
   "codemirror_mode": {
    "name": "ipython",
    "version": 3
   },
   "file_extension": ".py",
   "mimetype": "text/x-python",
   "name": "python",
   "nbconvert_exporter": "python",
   "pygments_lexer": "ipython3",
   "version": "3.10.9"
  }
 },
 "nbformat": 4,
 "nbformat_minor": 4
}
